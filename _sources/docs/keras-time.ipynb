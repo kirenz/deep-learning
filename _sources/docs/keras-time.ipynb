{
  "cells": [
    {
      "cell_type": "markdown",
      "metadata": {
        "id": "Ie7y4r0tO5S7"
      },
      "source": [
        "# Deep learning for timeseries"
      ]
    },
    {
      "cell_type": "markdown",
      "metadata": {
        "id": "aFMC69ceO5S6"
      },
      "source": [
        "This is a companion notebook for the excellent book [Deep Learning with Python, Second Edition](https://www.manning.com/books/deep-learning-with-python-second-edition?a_aid=keras&a_bid=76564dff). "
      ]
    },
    {
      "cell_type": "markdown",
      "metadata": {},
      "source": [
        "\n",
        "- Case study: given data covering the previous five days and sampled once per hour, can we predict the temperature in 24 hours?"
      ]
    },
    {
      "cell_type": "markdown",
      "metadata": {},
      "source": [
        "## Import data"
      ]
    },
    {
      "cell_type": "markdown",
      "metadata": {},
      "source": [
        "- We first need to download the data"
      ]
    },
    {
      "cell_type": "markdown",
      "metadata": {},
      "source": [
        "- Mac user: use [homebrew](https://brew.sh) to install the following packages:"
      ]
    },
    {
      "cell_type": "markdown",
      "metadata": {},
      "source": [
        "```bash\n",
        "brew install openssl\n",
        "```"
      ]
    },
    {
      "cell_type": "markdown",
      "metadata": {},
      "source": [
        "\n",
        "```bash\n",
        "brew install wget\n",
        "```"
      ]
    },
    {
      "cell_type": "code",
      "execution_count": null,
      "metadata": {
        "id": "MGRUp5XNO5S8"
      },
      "outputs": [],
      "source": [
        "!wget https://s3.amazonaws.com/keras-datasets/jena_climate_2009_2016.csv.zip"
      ]
    },
    {
      "cell_type": "code",
      "execution_count": null,
      "metadata": {},
      "outputs": [],
      "source": [
        "!unzip jena_climate_2009_2016.csv.zip"
      ]
    },
    {
      "cell_type": "markdown",
      "metadata": {
        "id": "R0Kz95ckO5S9"
      },
      "source": [
        "- Inspecting the data of the Jena weather dataset"
      ]
    },
    {
      "cell_type": "code",
      "execution_count": 29,
      "metadata": {
        "id": "XCxHQQW2O5S9"
      },
      "outputs": [
        {
          "name": "stdout",
          "output_type": "stream",
          "text": [
            "['\"Date Time\"', '\"p (mbar)\"', '\"T (degC)\"', '\"Tpot (K)\"', '\"Tdew (degC)\"', '\"rh (%)\"', '\"VPmax (mbar)\"', '\"VPact (mbar)\"', '\"VPdef (mbar)\"', '\"sh (g/kg)\"', '\"H2OC (mmol/mol)\"', '\"rho (g/m**3)\"', '\"wv (m/s)\"', '\"max. wv (m/s)\"', '\"wd (deg)\"']\n",
            "420451\n"
          ]
        }
      ],
      "source": [
        "import os\n",
        "fname = os.path.join(\"jena_climate_2009_2016.csv\")\n",
        "\n",
        "with open(fname) as f:\n",
        "    data = f.read()\n",
        "\n",
        "lines = data.split(\"\\n\")\n",
        "header = lines[0].split(\",\")\n",
        "lines = lines[1:]\n",
        "\n",
        "print(header)\n",
        "print(len(lines))"
      ]
    },
    {
      "cell_type": "markdown",
      "metadata": {},
      "source": [
        "- This outputs a count of 420,551 lines of data (each line is a timestep: a record of a\n",
        "date and 14 weather-related values), as well as the header."
      ]
    },
    {
      "cell_type": "markdown",
      "metadata": {},
      "source": [
        "- Now, convert all 420,551 lines of data into NumPy arrays: \n",
        "\n",
        "  - one array for the temperature (in degrees Celsius), \n",
        "  - and another one for the rest of the data—the features we will use to predict future temperatures. \n",
        "  - Note that we discard the “Date Time” column."
      ]
    },
    {
      "cell_type": "code",
      "execution_count": 30,
      "metadata": {
        "id": "sRxkBhZRO5S-"
      },
      "outputs": [],
      "source": [
        "import numpy as np\n",
        "\n",
        "temperature = np.zeros((len(lines),))\n",
        "\n",
        "raw_data = np.zeros((len(lines), len(header) - 1))\n",
        "\n",
        "for i, line in enumerate(lines):\n",
        "    values = [float(x) for x in line.split(\",\")[1:]]\n",
        "    temperature[i] = values[1]\n",
        "    raw_data[i, :] = values[:]"
      ]
    },
    {
      "cell_type": "markdown",
      "metadata": {
        "id": "d7t4MjrXO5S-"
      },
      "source": [
        "- Plotting the temperature timeseries"
      ]
    },
    {
      "cell_type": "code",
      "execution_count": 31,
      "metadata": {
        "id": "t0VUr0t8O5S-"
      },
      "outputs": [
        {
          "data": {
            "image/png": "[encoded data removed]",
            "text/plain": [
              "<Figure size 432x288 with 1 Axes>"
            ]
          },
          "metadata": {
            "needs_background": "light"
          },
          "output_type": "display_data"
        }
      ],
      "source": [
        "from matplotlib import pyplot as plt\n",
        "\n",
        "plt.plot(range(len(temperature)), temperature);"
      ]
    },
    {
      "cell_type": "markdown",
      "metadata": {
        "id": "8nsCJnftO5S-"
      },
      "source": [
        "- Plotting the first 10 days of the temperature timeseries"
      ]
    },
    {
      "cell_type": "code",
      "execution_count": 32,
      "metadata": {
        "id": "RWo-qtIjO5S_"
      },
      "outputs": [
        {
          "data": {
            "image/png": "[encoded data removed]",
            "text/plain": [
              "<Figure size 432x288 with 1 Axes>"
            ]
          },
          "metadata": {
            "needs_background": "light"
          },
          "output_type": "display_data"
        }
      ],
      "source": [
        "plt.plot(range(1440), temperature[:1440]);"
      ]
    },
    {
      "cell_type": "markdown",
      "metadata": {},
      "source": [
        "## Data split"
      ]
    },
    {
      "cell_type": "markdown",
      "metadata": {},
      "source": [
        "- In all our time series projects, we’ll use \n",
        "  - the first 50% of the data for training, \n",
        "  - the following 25% for validation, \n",
        "  - and the last 25% for testing"
      ]
    },
    {
      "cell_type": "markdown",
      "metadata": {},
      "source": [
        "> When working with timeseries data, it’s important to use validation and test data that is more recent than the training data, because you’re trying to predict the future given the past, not the reverse, and your validation/test splits should reflect that"
      ]
    },
    {
      "cell_type": "markdown",
      "metadata": {
        "id": "WgjeHaM0O5S_"
      },
      "source": [
        "- Computing the number of samples we'll use for each data split:"
      ]
    },
    {
      "cell_type": "code",
      "execution_count": 33,
      "metadata": {
        "id": "-pJiN6QJO5S_"
      },
      "outputs": [
        {
          "name": "stdout",
          "output_type": "stream",
          "text": [
            "num_train_samples: 210225\n",
            "num_val_samples: 105112\n",
            "num_test_samples: 105114\n"
          ]
        }
      ],
      "source": [
        "num_train_samples = int(0.5 * len(raw_data))\n",
        "num_val_samples = int(0.25 * len(raw_data))\n",
        "\n",
        "num_test_samples = len(raw_data) - num_train_samples - num_val_samples\n",
        "\n",
        "print(\"num_train_samples:\", num_train_samples)\n",
        "print(\"num_val_samples:\", num_val_samples)\n",
        "print(\"num_test_samples:\", num_test_samples)"
      ]
    },
    {
      "cell_type": "markdown",
      "metadata": {
        "id": "93fqw3YyO5S_"
      },
      "source": [
        "## Normalizing the data"
      ]
    },
    {
      "cell_type": "markdown",
      "metadata": {},
      "source": [
        "- We’re going to use the first 210,225 timesteps as\n",
        "training data, so we’ll compute the mean and standard deviation only on this fraction\n",
        "of the data."
      ]
    },
    {
      "cell_type": "code",
      "execution_count": 34,
      "metadata": {
        "id": "cqfXgEwmO5S_"
      },
      "outputs": [],
      "source": [
        "mean = raw_data[:num_train_samples].mean(axis=0)\n",
        "raw_data -= mean\n",
        "\n",
        "std = raw_data[:num_train_samples].std(axis=0)\n",
        "raw_data /= std"
      ]
    },
    {
      "cell_type": "markdown",
      "metadata": {},
      "source": [
        "## Batch the data"
      ]
    },
    {
      "cell_type": "markdown",
      "metadata": {},
      "source": [
        "- Next, let’s create a Dataset object that yields batches of data from the past five days\n",
        "along with a target temperature 24 hours in the future. "
      ]
    },
    {
      "cell_type": "markdown",
      "metadata": {},
      "source": [
        "### Example"
      ]
    },
    {
      "cell_type": "markdown",
      "metadata": {},
      "source": [
        "- To understand what timeseries_dataset_from_array() does, let’s look at a simple\n",
        "example. "
      ]
    },
    {
      "cell_type": "markdown",
      "metadata": {},
      "source": [
        "\n",
        "- The general idea is that you provide an array of timeseries data (the\n",
        "data argument), and `timeseries_dataset_from_array()` gives you windows\n",
        "extracted from the original timeseries (we’ll call them “sequences”)\n"
      ]
    },
    {
      "cell_type": "markdown",
      "metadata": {},
      "source": [
        "- For example, if you use \n",
        "  \n",
        "  - data = [0 1 2 3 4 5 6] and \n",
        "  - sequence_length=3, then\n",
        "  - timeseries_dataset_from_array() will generate the following samples: [0 1 2],\n",
        "[1 2 3], [2 3 4], [3 4 5], [4 5 6].\n"
      ]
    },
    {
      "cell_type": "markdown",
      "metadata": {},
      "source": [
        "- You can also pass a targets argument (an array) to timeseries_dataset_\n",
        "from_array(). \n",
        "\n",
        "- The first entry of the targets array should match the desired target for the first sequence that will be generated from the data array. "
      ]
    },
    {
      "cell_type": "markdown",
      "metadata": {},
      "source": [
        "\n",
        "- So if you’re doing timeseries forecasting, targets should be the same array as data, offset\n",
        "by some amount."
      ]
    },
    {
      "cell_type": "markdown",
      "metadata": {},
      "source": [
        "- For instance, with\n",
        "  - data = [0 1 2 3 4 5 6 …] and \n",
        "  - sequence_length=3, \n",
        "  - you could create a dataset to predict the next step in the series by passing targets = [3 4 5 6 …]. \n"
      ]
    },
    {
      "cell_type": "markdown",
      "metadata": {},
      "source": [
        "  \n",
        "- Let’s try it:"
      ]
    },
    {
      "cell_type": "code",
      "execution_count": 35,
      "metadata": {
        "id": "1zAGM4cKO5S_"
      },
      "outputs": [
        {
          "name": "stdout",
          "output_type": "stream",
          "text": [
            "[0, 1, 2] 3\n",
            "[1, 2, 3] 4\n",
            "[2, 3, 4] 5\n",
            "[3, 4, 5] 6\n",
            "[4, 5, 6] 7\n"
          ]
        }
      ],
      "source": [
        "import numpy as np\n",
        "from tensorflow import keras\n",
        "\n",
        "# generate an array of sorted integers from 0 to 9\n",
        "int_sequence = np.arange(10)\n",
        "\n",
        "dummy_dataset = keras.utils.timeseries_dataset_from_array(\n",
        "    # The sequences we generate will be sampled from [0 1 2 3 4 5 6]\n",
        "    data=int_sequence[:-3],\n",
        "    # The target for the sequences taht starts at data [N] will be the data [N+3]\n",
        "    targets=int_sequence[3:],\n",
        "    # The sequences will be 3 steps long\n",
        "    sequence_length=3,\n",
        "    # The sequences will be batched in batches of size 2\n",
        "    batch_size=2,\n",
        ")\n",
        "\n",
        "for inputs, targets in dummy_dataset:\n",
        "    for i in range(inputs.shape[0]):\n",
        "        print([int(x) for x in inputs[i]], int(targets[i]))"
      ]
    },
    {
      "cell_type": "markdown",
      "metadata": {},
      "source": [
        "### Instantiating dataset"
      ]
    },
    {
      "cell_type": "markdown",
      "metadata": {
        "id": "vOrjGCe8O5TA"
      },
      "source": [
        "- We’ll use timeseries_dataset_from_array() to instantiate three datasets: one for\n",
        "training, one for validation, and one for testing."
      ]
    },
    {
      "cell_type": "markdown",
      "metadata": {},
      "source": [
        "\n",
        "\n",
        "- We’ll use the following parameter values:\n",
        "\n",
        "  - *sampling_rate* = 6 (Observations will be sampled at one data point per hour: we will only keep one data point out of 6).\n",
        "  \n",
        "  - *sequence_length* = 120 (Observations will go back 5 days (120 hours)).\n",
        "  \n",
        "  - *delay* = sampling_rate *  (sequence_length + 24 - 1) (The target for a sequence\n",
        "will be the temperature 24 hours after the end of the sequence)"
      ]
    },
    {
      "cell_type": "markdown",
      "metadata": {},
      "source": [
        "- When making the training dataset, we’ll pass start_index = 0 and end_index =\n",
        "num_train_samples to only use the first 50% of the data. \n",
        "\n",
        "- For the validation dataset, we’ll pass start_index = num_train_samples and end_index = num_train_samples + num_val_samples to use the next 25% of the data. \n",
        "\n",
        "- Finally, for the test dataset, we’ll pass start_index = num_train_samples + num_val_samples to use the remaining samples."
      ]
    },
    {
      "cell_type": "code",
      "execution_count": 36,
      "metadata": {
        "id": "cIicvSxeO5TA"
      },
      "outputs": [],
      "source": [
        "sampling_rate = 6\n",
        "sequence_length = 120\n",
        "delay = sampling_rate * (sequence_length + 24 - 1)\n",
        "batch_size = 256\n",
        "\n",
        "train_dataset = keras.utils.timeseries_dataset_from_array(\n",
        "    raw_data[:-delay],\n",
        "    targets=temperature[delay:],\n",
        "    sampling_rate=sampling_rate,\n",
        "    sequence_length=sequence_length,\n",
        "    shuffle=True,\n",
        "    batch_size=batch_size,\n",
        "    start_index=0,\n",
        "    end_index=num_train_samples)\n",
        "\n",
        "val_dataset = keras.utils.timeseries_dataset_from_array(\n",
        "    raw_data[:-delay],\n",
        "    targets=temperature[delay:],\n",
        "    sampling_rate=sampling_rate,\n",
        "    sequence_length=sequence_length,\n",
        "    shuffle=True,\n",
        "    batch_size=batch_size,\n",
        "    start_index=num_train_samples,\n",
        "    end_index=num_train_samples + num_val_samples)\n",
        "\n",
        "test_dataset = keras.utils.timeseries_dataset_from_array(\n",
        "    raw_data[:-delay],\n",
        "    targets=temperature[delay:],\n",
        "    sampling_rate=sampling_rate,\n",
        "    sequence_length=sequence_length,\n",
        "    shuffle=True,\n",
        "    batch_size=batch_size,\n",
        "    start_index=num_train_samples + num_val_samples)"
      ]
    },
    {
      "cell_type": "markdown",
      "metadata": {},
      "source": [
        "- Each dataset yields a tuple (samples, targets), where samples is a batch of 256 samples,\n",
        "each containing 120 consecutive hours of input data, and targets is the corresponding\n",
        "array of 256 target temperatures. \n",
        "\n",
        "- Note that the samples are randomly shuffled, so two consecutive sequences in a batch (like samples[0] and samples[1]) aren’t necessarily temporally close."
      ]
    },
    {
      "cell_type": "markdown",
      "metadata": {
        "id": "rPkPH1ZeO5TA"
      },
      "source": [
        "**Inspecting the output of one of our datasets**"
      ]
    },
    {
      "cell_type": "code",
      "execution_count": 37,
      "metadata": {
        "id": "Aqc_aEV5O5TA"
      },
      "outputs": [
        {
          "name": "stdout",
          "output_type": "stream",
          "text": [
            "samples shape: (256, 120, 14)\n",
            "targets shape: (256,)\n"
          ]
        }
      ],
      "source": [
        "for samples, targets in train_dataset:\n",
        "    print(\"samples shape:\", samples.shape)\n",
        "    print(\"targets shape:\", targets.shape)\n",
        "    break"
      ]
    },
    {
      "cell_type": "markdown",
      "metadata": {
        "id": "MOOTQ1wEO5TA"
      },
      "source": [
        "## Baseline"
      ]
    },
    {
      "cell_type": "markdown",
      "metadata": {},
      "source": [
        "- Next, we create a common-sense, non-machine-learning baseline\n",
        "\n",
        "- The temperature timeseries can safely be assumed to be continuous (the temperatures tomorrow are likely to be close to the temperatures today) as\n",
        "well as periodical with a daily period. \n",
        "\n",
        "- Thus a common-sense approach is to always predict that the temperature 24 hours from now will be equal to the temperature right now. \n",
        "\n",
        "- Let’s evaluate this approach, using the mean absolute error (MAE) metric, defined as follows:"
      ]
    },
    {
      "cell_type": "markdown",
      "metadata": {
        "id": "z9_laQ_FO5TA"
      },
      "source": [
        "- Computing the common-sense baseline MAE\n",
        "\n",
        "- The temperature feature is at column 1, so samples[:, -1, 1] is the last temperature measurement in the input sequence. \n",
        "\n",
        "- Recall that we normalized our features, so to retrieve a temperature in degrees Celsius,\n",
        "we need to un-normalize it by multiplying it by the standard deviation and adding back the mean."
      ]
    },
    {
      "cell_type": "code",
      "execution_count": 38,
      "metadata": {
        "id": "oIJqlJirO5TA"
      },
      "outputs": [
        {
          "name": "stdout",
          "output_type": "stream",
          "text": [
            "Validation MAE: 2.44\n",
            "Test MAE: 2.62\n"
          ]
        }
      ],
      "source": [
        "def evaluate_naive_method(dataset):\n",
        "\n",
        "    total_abs_err = 0.\n",
        "    samples_seen = 0\n",
        "    \n",
        "    for samples, targets in dataset:\n",
        "        preds = samples[:, -1, 1] * std[1] + mean[1]\n",
        "        total_abs_err += np.sum(np.abs(preds - targets))\n",
        "        samples_seen += samples.shape[0]\n",
        "    return total_abs_err / samples_seen\n",
        "\n",
        "print(f\"Validation MAE: {evaluate_naive_method(val_dataset):.2f}\")\n",
        "print(f\"Test MAE: {evaluate_naive_method(test_dataset):.2f}\")"
      ]
    },
    {
      "cell_type": "markdown",
      "metadata": {},
      "source": [
        "- This common-sense baseline achieves a validation MAE of 2.44 degrees Celsius and a\n",
        "test MAE of 2.62 degrees Celsius. \n",
        "\n",
        "- So if you always assume that the temperature 24 hours in the future will be the same as it is now, you will be off by two and a half degrees on average."
      ]
    },
    {
      "cell_type": "markdown",
      "metadata": {
        "id": "JWvZ4EFJO5TB"
      },
      "source": [
        "## LSTM model"
      ]
    },
    {
      "cell_type": "markdown",
      "metadata": {},
      "source": [
        "- A densely connected approach would flatten the timeseries, which removes the notion of time from the input data. \n",
        "\n",
        "- The convolutional approach would treat every segment of the data in the same way, even applying pooling, which would destroy order information. \n",
        "\n",
        "- Let’s instead look at the data as what it is: a sequence, where causality and order matter."
      ]
    },
    {
      "cell_type": "markdown",
      "metadata": {},
      "source": [
        "- There’s a family of neural network architectures designed specifically for this use\n",
        "case: \n",
        "  - recurrent neural networks."
      ]
    },
    {
      "cell_type": "markdown",
      "metadata": {},
      "source": [
        "\n",
        "- Among them, the Long Short Term Memory (LSTM)."
      ]
    },
    {
      "cell_type": "code",
      "execution_count": 39,
      "metadata": {
        "id": "v1sVUe2WO5TB"
      },
      "outputs": [],
      "source": [
        "from tensorflow import keras\n",
        "from tensorflow.keras import layers\n",
        "\n",
        "inputs = keras.Input(shape=(sequence_length, raw_data.shape[-1]))\n",
        "\n",
        "x = layers.LSTM(16)(inputs)\n",
        "\n",
        "outputs = layers.Dense(1)(x)\n",
        "\n",
        "model = keras.Model(inputs, outputs)"
      ]
    },
    {
      "cell_type": "markdown",
      "metadata": {},
      "source": [
        "- We use a callback to save the bestperforming modeland the EarlyStopping callback to interrupt training when the validation loss is not longer improving."
      ]
    },
    {
      "cell_type": "code",
      "execution_count": 40,
      "metadata": {},
      "outputs": [],
      "source": [
        "callbacks = [\n",
        "    keras.callbacks.ModelCheckpoint(\"time_jena_lstm.keras\",\n",
        "                                    save_best_only=True),\n",
        "    keras.callbacks.EarlyStopping(monitor=\"val_loss\", min_delta=0, patience=5)\n",
        "]"
      ]
    },
    {
      "cell_type": "code",
      "execution_count": 41,
      "metadata": {},
      "outputs": [],
      "source": [
        "model.compile(optimizer=\"rmsprop\", \n",
        "              loss=\"mse\", \n",
        "              metrics=[\"mae\"])"
      ]
    },
    {
      "cell_type": "code",
      "execution_count": 42,
      "metadata": {},
      "outputs": [
        {
          "name": "stdout",
          "output_type": "stream",
          "text": [
            "Epoch 1/10\n",
            "819/819 [==============================] - 31s 36ms/step - loss: 42.3810 - mae: 4.7274 - val_loss: 12.5027 - val_mae: 2.6867\n",
            "Epoch 2/10\n",
            "819/819 [==============================] - 29s 36ms/step - loss: 11.0010 - mae: 2.5712 - val_loss: 9.3673 - val_mae: 2.3679\n",
            "Epoch 3/10\n",
            "819/819 [==============================] - 29s 36ms/step - loss: 9.7402 - mae: 2.4310 - val_loss: 9.4872 - val_mae: 2.3932\n",
            "Epoch 4/10\n",
            "819/819 [==============================] - 29s 36ms/step - loss: 9.2918 - mae: 2.3698 - val_loss: 9.6254 - val_mae: 2.4155\n",
            "Epoch 5/10\n",
            "819/819 [==============================] - 29s 36ms/step - loss: 8.9737 - mae: 2.3253 - val_loss: 9.6151 - val_mae: 2.4265\n",
            "Epoch 6/10\n",
            "819/819 [==============================] - 29s 36ms/step - loss: 8.6780 - mae: 2.2857 - val_loss: 9.8057 - val_mae: 2.4417\n",
            "Epoch 7/10\n",
            "819/819 [==============================] - 29s 36ms/step - loss: 8.4248 - mae: 2.2536 - val_loss: 9.8438 - val_mae: 2.4463\n"
          ]
        }
      ],
      "source": [
        "history = model.fit(train_dataset,\n",
        "                    epochs=10,\n",
        "                    validation_data=val_dataset,\n",
        "                    callbacks=callbacks)"
      ]
    },
    {
      "cell_type": "code",
      "execution_count": 43,
      "metadata": {},
      "outputs": [
        {
          "name": "stdout",
          "output_type": "stream",
          "text": [
            "405/405 [==============================] - 5s 11ms/step - loss: 11.1662 - mae: 2.6056\n",
            "Test MAE: 2.61\n"
          ]
        }
      ],
      "source": [
        "model = keras.models.load_model(\"time_jena_lstm.keras\")\n",
        "\n",
        "print(f\"Test MAE: {model.evaluate(test_dataset)[1]:.2f}\")"
      ]
    },
    {
      "cell_type": "markdown",
      "metadata": {},
      "source": [
        "- Define function to plot data"
      ]
    },
    {
      "cell_type": "code",
      "execution_count": 44,
      "metadata": {},
      "outputs": [],
      "source": [
        "import matplotlib.pyplot as plt\n",
        "\n",
        "def visualize_mae(history, title):\n",
        "    loss = history.history[\"mae\"]\n",
        "    val_loss = history.history[\"val_mae\"]\n",
        "    epochs = range(1, len(loss) + 1)\n",
        "\n",
        "    plt.figure()\n",
        "\n",
        "    plt.plot(epochs, loss, \"b\", label=\"Training MAE\")\n",
        "    plt.plot(epochs, val_loss, \"r\", label=\"Validation MAE\")\n",
        "\n",
        "    plt.title(title)\n",
        "    plt.axhline(y=2.62, color='k', linestyle='--', label='Baseline')\n",
        "    plt.xlabel(\"Epochs\")\n",
        "    plt.ylabel(\"Mean absolute error\")\n",
        "    plt.legend()\n",
        "    plt.show()"
      ]
    },
    {
      "cell_type": "code",
      "execution_count": 45,
      "metadata": {},
      "outputs": [
        {
          "data": {
            "image/png": "[encoded data removed]",
            "text/plain": [
              "<Figure size 432x288 with 1 Axes>"
            ]
          },
          "metadata": {
            "needs_background": "light"
          },
          "output_type": "display_data"
        }
      ],
      "source": [
        "visualize_mae(history, \"Training and Validation MAE\")"
      ]
    },
    {
      "cell_type": "markdown",
      "metadata": {
        "id": "r8n8tLdkO5TC"
      },
      "source": [
        "## LSTM with dropout"
      ]
    },
    {
      "cell_type": "markdown",
      "metadata": {
        "id": "vsxOM9bGO5TC"
      },
      "source": [
        "- Using recurrent dropout to fight overfitting"
      ]
    },
    {
      "cell_type": "markdown",
      "metadata": {
        "id": "emCc63ERO5TC"
      },
      "source": [
        "- Training and evaluating a dropout-regularized LSTM"
      ]
    },
    {
      "cell_type": "code",
      "execution_count": 46,
      "metadata": {
        "id": "PJKD3YN_O5TC"
      },
      "outputs": [],
      "source": [
        "inputs = keras.Input(shape=(sequence_length, raw_data.shape[-1]))\n",
        "\n",
        "x = layers.LSTM(32, recurrent_dropout=0.25)(inputs)\n",
        "x = layers.Dropout(0.5)(x)\n",
        "\n",
        "outputs = layers.Dense(1)(x)\n",
        "model = keras.Model(inputs, outputs)"
      ]
    },
    {
      "cell_type": "code",
      "execution_count": 47,
      "metadata": {},
      "outputs": [],
      "source": [
        "callbacks = [\n",
        "    keras.callbacks.ModelCheckpoint(\"time_jena_lstm_dropout.keras\",\n",
        "                                    save_best_only=True),\n",
        "    keras.callbacks.EarlyStopping(monitor=\"val_loss\", min_delta=0, patience=5)\n",
        "                                \n",
        "]"
      ]
    },
    {
      "cell_type": "code",
      "execution_count": 48,
      "metadata": {},
      "outputs": [
        {
          "name": "stdout",
          "output_type": "stream",
          "text": [
            "Epoch 1/10\n",
            "819/819 [==============================] - 53s 63ms/step - loss: 28.5826 - mae: 3.9429 - val_loss: 9.8555 - val_mae: 2.4362\n",
            "Epoch 2/10\n",
            "819/819 [==============================] - 51s 62ms/step - loss: 14.8545 - mae: 2.9914 - val_loss: 9.4010 - val_mae: 2.3751\n",
            "Epoch 3/10\n",
            "819/819 [==============================] - 51s 62ms/step - loss: 13.9669 - mae: 2.9001 - val_loss: 9.6470 - val_mae: 2.4053\n",
            "Epoch 4/10\n",
            "819/819 [==============================] - 50s 61ms/step - loss: 13.2885 - mae: 2.8275 - val_loss: 9.7995 - val_mae: 2.4221\n",
            "Epoch 5/10\n",
            "819/819 [==============================] - 51s 62ms/step - loss: 12.7552 - mae: 2.7719 - val_loss: 9.4762 - val_mae: 2.3890\n",
            "Epoch 6/10\n",
            "819/819 [==============================] - 50s 61ms/step - loss: 12.4207 - mae: 2.7304 - val_loss: 9.3058 - val_mae: 2.3698\n",
            "Epoch 7/10\n",
            "819/819 [==============================] - 50s 61ms/step - loss: 12.1240 - mae: 2.6987 - val_loss: 9.5247 - val_mae: 2.3964\n",
            "Epoch 8/10\n",
            "819/819 [==============================] - 50s 61ms/step - loss: 11.8355 - mae: 2.6715 - val_loss: 9.6142 - val_mae: 2.4055\n",
            "Epoch 9/10\n",
            "819/819 [==============================] - 50s 61ms/step - loss: 11.5989 - mae: 2.6411 - val_loss: 9.9466 - val_mae: 2.4450\n",
            "Epoch 10/10\n",
            "819/819 [==============================] - 50s 61ms/step - loss: 11.3550 - mae: 2.6125 - val_loss: 9.8216 - val_mae: 2.4368\n"
          ]
        }
      ],
      "source": [
        "model.compile(optimizer=\"rmsprop\", loss=\"mse\", metrics=[\"mae\"])\n",
        "history = model.fit(train_dataset,\n",
        "                    epochs=10, # we use 10 instead of 50\n",
        "                    validation_data=val_dataset,\n",
        "                    callbacks=callbacks)"
      ]
    },
    {
      "cell_type": "code",
      "execution_count": 49,
      "metadata": {},
      "outputs": [
        {
          "name": "stdout",
          "output_type": "stream",
          "text": [
            "405/405 [==============================] - 6s 14ms/step - loss: 10.5165 - mae: 2.5628\n",
            "Test MAE: 2.56\n"
          ]
        }
      ],
      "source": [
        "model = keras.models.load_model(\"time_jena_lstm_dropout.keras\")\n",
        "print(f\"Test MAE: {model.evaluate(test_dataset)[1]:.2f}\")"
      ]
    },
    {
      "cell_type": "code",
      "execution_count": 50,
      "metadata": {},
      "outputs": [
        {
          "data": {
            "image/png": "[encoded data removed]",
            "text/plain": [
              "<Figure size 432x288 with 1 Axes>"
            ]
          },
          "metadata": {
            "needs_background": "light"
          },
          "output_type": "display_data"
        }
      ],
      "source": [
        "visualize_mae(history, \"Training and Validation MAE\")"
      ]
    },
    {
      "cell_type": "markdown",
      "metadata": {
        "id": "4kVJz-AUO5TC"
      },
      "source": [
        "### Stacking recurrent layers with a GRU model"
      ]
    },
    {
      "cell_type": "markdown",
      "metadata": {
        "id": "H52ACDVvO5TC"
      },
      "source": [
        "- Next, we’ll use Gated Recurrent Unit (GRU) layers instead of LSTM. \n",
        "\n",
        "- GRU is very similar to LSTM—you can think of it as a slightly simpler, streamlined version of the LSTM architecture.\n",
        "\n",
        "- Training and evaluating a dropout-regularized, stacked GRU model"
      ]
    },
    {
      "cell_type": "code",
      "execution_count": 51,
      "metadata": {
        "id": "3xh6BkshO5TC"
      },
      "outputs": [],
      "source": [
        "inputs = keras.Input(shape=(sequence_length, raw_data.shape[-1]))\n",
        "\n",
        "x = layers.GRU(32, recurrent_dropout=0.5, return_sequences=True)(inputs)\n",
        "x = layers.GRU(32, recurrent_dropout=0.5)(x)\n",
        "x = layers.Dropout(0.5)(x)\n",
        "\n",
        "outputs = layers.Dense(1)(x)\n",
        "\n",
        "model = keras.Model(inputs, outputs)"
      ]
    },
    {
      "cell_type": "code",
      "execution_count": 52,
      "metadata": {},
      "outputs": [],
      "source": [
        "callbacks = [\n",
        "    keras.callbacks.ModelCheckpoint(\"time_jena_stacked_gru_dropout.keras\",\n",
        "                                    save_best_only=True),\n",
        "    keras.callbacks.EarlyStopping(monitor=\"val_loss\", min_delta=0, patience=5)                              \n",
        "]"
      ]
    },
    {
      "cell_type": "code",
      "execution_count": 53,
      "metadata": {},
      "outputs": [],
      "source": [
        "model.compile(optimizer=\"rmsprop\", loss=\"mse\", metrics=[\"mae\"])"
      ]
    },
    {
      "cell_type": "code",
      "execution_count": 54,
      "metadata": {},
      "outputs": [
        {
          "name": "stdout",
          "output_type": "stream",
          "text": [
            "Epoch 1/15\n",
            "819/819 [==============================] - 87s 103ms/step - loss: 25.8544 - mae: 3.7457 - val_loss: 9.1854 - val_mae: 2.3396\n",
            "Epoch 2/15\n",
            "819/819 [==============================] - 84s 102ms/step - loss: 14.0295 - mae: 2.9008 - val_loss: 9.1922 - val_mae: 2.3686\n",
            "Epoch 3/15\n",
            "819/819 [==============================] - 83s 102ms/step - loss: 13.2653 - mae: 2.8233 - val_loss: 9.5157 - val_mae: 2.4060\n",
            "Epoch 4/15\n",
            "819/819 [==============================] - 84s 102ms/step - loss: 12.6756 - mae: 2.7587 - val_loss: 8.8680 - val_mae: 2.3081\n",
            "Epoch 5/15\n",
            "819/819 [==============================] - 84s 103ms/step - loss: 12.1866 - mae: 2.7104 - val_loss: 8.6341 - val_mae: 2.2816\n",
            "Epoch 6/15\n",
            "819/819 [==============================] - 84s 102ms/step - loss: 11.8177 - mae: 2.6686 - val_loss: 9.9712 - val_mae: 2.4629\n",
            "Epoch 7/15\n",
            "819/819 [==============================] - 84s 102ms/step - loss: 11.4186 - mae: 2.6204 - val_loss: 9.0453 - val_mae: 2.3302\n",
            "Epoch 8/15\n",
            "819/819 [==============================] - 84s 102ms/step - loss: 11.0828 - mae: 2.5843 - val_loss: 9.3753 - val_mae: 2.3668\n",
            "Epoch 9/15\n",
            "819/819 [==============================] - 83s 102ms/step - loss: 10.7566 - mae: 2.5469 - val_loss: 9.5289 - val_mae: 2.3849\n",
            "Epoch 10/15\n",
            "819/819 [==============================] - 87s 107ms/step - loss: 10.4757 - mae: 2.5125 - val_loss: 9.4442 - val_mae: 2.3762\n"
          ]
        }
      ],
      "source": [
        "history = model.fit(train_dataset,\n",
        "                    epochs=15, # we use 15 instead of 50\n",
        "                    validation_data=val_dataset,\n",
        "                    callbacks=callbacks)"
      ]
    },
    {
      "cell_type": "code",
      "execution_count": 55,
      "metadata": {},
      "outputs": [
        {
          "name": "stdout",
          "output_type": "stream",
          "text": [
            "405/405 [==============================] - 9s 21ms/step - loss: 9.8207 - mae: 2.4722\n",
            "Test MAE: 2.47\n"
          ]
        }
      ],
      "source": [
        "model = keras.models.load_model(\"jena_stacked_gru_dropout.keras\")\n",
        "print(f\"Test MAE: {model.evaluate(test_dataset)[1]:.2f}\")"
      ]
    },
    {
      "cell_type": "code",
      "execution_count": 56,
      "metadata": {},
      "outputs": [
        {
          "data": {
            "image/png": "[encoded data removed]",
            "text/plain": [
              "<Figure size 432x288 with 1 Axes>"
            ]
          },
          "metadata": {
            "needs_background": "light"
          },
          "output_type": "display_data"
        }
      ],
      "source": [
        "visualize_mae(history, \"Training and Validation MAE\")"
      ]
    }
  ],
  "metadata": {
    "colab": {
      "collapsed_sections": [],
      "name": "chapter10_dl-for-timeseries.i",
      "provenance": [],
      "toc_visible": true
    },
    "kernelspec": {
      "display_name": "Python 3",
      "language": "python",
      "name": "python3"
    },
    "language_info": {
      "codemirror_mode": {
        "name": "ipython",
        "version": 3
      },
      "file_extension": ".py",
      "mimetype": "text/x-python",
      "name": "python",
      "nbconvert_exporter": "python",
      "pygments_lexer": "ipython3",
      "version": "3.8.12"
    }
  },
  "nbformat": 4,
  "nbformat_minor": 0
}
