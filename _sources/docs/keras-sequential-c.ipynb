{
 "cells": [
  {
   "cell_type": "markdown",
   "metadata": {
    "id": "vNUlG_SB58nr",
    "slideshow": {
     "slide_type": "slide"
    },
    "tags": []
   },
   "source": [
    "# Sequential model\n",
    "\n",
    "*This is a companion notebook for the excellent book [Deep Learning with Python, Second Edition](https://www.manning.com/books/deep-learning-with-python-second-edition?a_aid=keras&a_bid=76564dff) ([code provided by François Chollet](https://github.com/fchollet/deep-learning-with-python-notebooks)).* \n",
    "\n",
    "The Sequential model, the most approachable API—it’s basically a Python list. As such, it’s limited to simple (sequential) stacks of layers."
   ]
  },
  {
   "cell_type": "markdown",
   "metadata": {
    "slideshow": {
     "slide_type": "slide"
    },
    "tags": []
   },
   "source": [
    "## Setup"
   ]
  },
  {
   "cell_type": "code",
   "execution_count": null,
   "metadata": {
    "slideshow": {
     "slide_type": "fragment"
    },
    "tags": []
   },
   "outputs": [],
   "source": [
    "from tensorflow import keras\n",
    "from tensorflow.keras import layers"
   ]
  },
  {
   "cell_type": "markdown",
   "metadata": {
    "id": "KLq_PhUt58nv",
    "slideshow": {
     "slide_type": "slide"
    },
    "tags": []
   },
   "source": [
    "## Sequential class"
   ]
  },
  {
   "cell_type": "code",
   "execution_count": null,
   "metadata": {
    "id": "OQUrtmbU58nv",
    "slideshow": {
     "slide_type": "subslide"
    },
    "tags": []
   },
   "outputs": [],
   "source": [
    "# create a fully connected classification model (use Sequential class) \n",
    "# use 1 layer with 64 nodes with the activation function relu\n",
    "# output: the model has 10 categories to predict (we want to use softmax)\n",
    "model = keras.___([\n",
    "    layers.Dense(___, activation=\"___\"),\n",
    "    layers.Dense(___, activation=\"___\")\n",
    "])"
   ]
  },
  {
   "cell_type": "markdown",
   "metadata": {
    "id": "J5R91awq58nx",
    "slideshow": {
     "slide_type": "slide"
    },
    "tags": []
   },
   "source": [
    "## Incrementally building"
   ]
  },
  {
   "cell_type": "code",
   "execution_count": null,
   "metadata": {
    "id": "xfse7qM958ny",
    "slideshow": {
     "slide_type": "subslide"
    },
    "tags": []
   },
   "outputs": [],
   "source": [
    "model = keras.Sequential()\n",
    "model.add(layers.Dense(___, activation=\"___\"))\n",
    "model.add(layers.Dense(___, activation=\"___\"))"
   ]
  },
  {
   "cell_type": "markdown",
   "metadata": {
    "id": "Dss-M02g58ny",
    "slideshow": {
     "slide_type": "slide"
    },
    "tags": []
   },
   "source": [
    "## Build a model"
   ]
  },
  {
   "cell_type": "markdown",
   "metadata": {
    "slideshow": {
     "slide_type": "subslide"
    },
    "tags": []
   },
   "source": [
    "As input, we use `input_shape = (None, 3)`:\n",
    "\n",
    "- This means the number of samples per batch is variable (indicated by the `None` batch size).\n",
    "- The model will process batches where each sample has shape `(3,1)`, i.e. a simple array with 3 values. "
   ]
  },
  {
   "cell_type": "code",
   "execution_count": null,
   "metadata": {
    "id": "NWXqIYR558nz",
    "slideshow": {
     "slide_type": "fragment"
    },
    "tags": []
   },
   "outputs": [],
   "source": [
    "model.build(input_shape=(___, ___))\n",
    "model.weights"
   ]
  },
  {
   "cell_type": "markdown",
   "metadata": {
    "id": "QKI5OrL058nz",
    "slideshow": {
     "slide_type": "slide"
    },
    "tags": []
   },
   "source": [
    "## Model summary"
   ]
  },
  {
   "cell_type": "code",
   "execution_count": null,
   "metadata": {
    "id": "cEP5VDkQ58n0",
    "slideshow": {
     "slide_type": "subslide"
    },
    "tags": []
   },
   "outputs": [],
   "source": [
    "# print model summary\n",
    "model.___()"
   ]
  },
  {
   "cell_type": "markdown",
   "metadata": {
    "id": "gxXznb6p58n0",
    "slideshow": {
     "slide_type": "slide"
    },
    "tags": []
   },
   "source": [
    "## Naming models and layers"
   ]
  },
  {
   "cell_type": "code",
   "execution_count": null,
   "metadata": {
    "id": "kHU0njoc58n1",
    "slideshow": {
     "slide_type": "subslide"
    },
    "tags": []
   },
   "outputs": [],
   "source": [
    "# call your model my_example_model\n",
    "model = keras.Sequential(name=\"___\")\n",
    "# call it \"my_first layer\"\n",
    "model.add(layers.Dense(64, activation=\"relu\", name=\"___\"))\n",
    "# my_last_layer\n",
    "model.add(layers.Dense(10, activation=\"softmax\", name=\"___\"))\n",
    "\n",
    "# build the model with batch size=None\n",
    "model.build((___, 3))\n",
    "# obtain summary\n",
    "model.___()"
   ]
  },
  {
   "cell_type": "markdown",
   "metadata": {
    "id": "y5p68F-458n1",
    "slideshow": {
     "slide_type": "slide"
    },
    "tags": []
   },
   "source": [
    "## Specifying input shape"
   ]
  },
  {
   "cell_type": "markdown",
   "metadata": {
    "slideshow": {
     "slide_type": "subslide"
    },
    "tags": []
   },
   "source": [
    "Use Input to declare the shape\n",
    "of the inputs. Note that the\n",
    "shape argument must be the\n",
    "shape of each sample, not\n",
    "the shape of one batch."
   ]
  },
  {
   "cell_type": "code",
   "execution_count": null,
   "metadata": {
    "id": "Fey1dxBC58n1",
    "slideshow": {
     "slide_type": "subslide"
    },
    "tags": []
   },
   "outputs": [],
   "source": [
    "model = keras.Sequential()\n",
    "# declare input\n",
    "model.add(keras.Input(shape=(___,)))\n",
    "# add first layer with 64 nodes and relu activation\n",
    "model.add(layers.Dense(___, activation=\"___\"))"
   ]
  },
  {
   "cell_type": "code",
   "execution_count": null,
   "metadata": {
    "id": "aP09I2zi58n2",
    "slideshow": {
     "slide_type": "fragment"
    },
    "tags": []
   },
   "outputs": [],
   "source": [
    "model.summary()"
   ]
  },
  {
   "cell_type": "code",
   "execution_count": null,
   "metadata": {
    "id": "6e2MRSRQ58n2"
   },
   "outputs": [],
   "source": [
    "# declare output with 10 classes and softmax activation\n",
    "model.add(layers.Dense(___, activation=\"___\"))\n",
    "# obtain summary\n",
    "model.___()"
   ]
  }
 ],
 "metadata": {
  "colab": {
   "collapsed_sections": [],
   "name": "chapter07_working-with-keras.i",
   "provenance": [],
   "toc_visible": true
  },
  "kernelspec": {
   "display_name": "ds",
   "language": "python",
   "name": "python3"
  },
  "language_info": {
   "codemirror_mode": {
    "name": "ipython",
    "version": 3
   },
   "file_extension": ".py",
   "mimetype": "text/x-python",
   "name": "python",
   "nbconvert_exporter": "python",
   "pygments_lexer": "ipython3",
   "version": "3.9.13 | packaged by conda-forge | (main, May 27 2022, 17:00:52) \n[Clang 13.0.1 ]"
  },
  "vscode": {
   "interpreter": {
    "hash": "0de8387c967863cc622aba8b7ea5b466d4dfde089153d484429677aa77034389"
   }
  }
 },
 "nbformat": 4,
 "nbformat_minor": 4
}
