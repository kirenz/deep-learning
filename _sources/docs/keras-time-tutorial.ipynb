{
  "cells": [
    {
      "cell_type": "markdown",
      "metadata": {
        "id": "Ie7y4r0tO5S7"
      },
      "source": [
        "# Deep learning for timeseries"
      ]
    },
    {
      "cell_type": "markdown",
      "metadata": {
        "id": "aFMC69ceO5S6"
      },
      "source": [
        "- This is a companion notebook for the excellent book [Deep Learning with Python, Second Edition](https://www.manning.com/books/deep-learning-with-python-second-edition?a_aid=keras&a_bid=76564dff). \n",
        "\n",
        "- Problem statement: Given data covering the previous five days and sampled once per hour, can we predict the temperature in 24 hours?"
      ]
    },
    {
      "cell_type": "markdown",
      "metadata": {},
      "source": [
        "## Import data"
      ]
    },
    {
      "cell_type": "markdown",
      "metadata": {},
      "source": [
        "- We first need to download the data"
      ]
    },
    {
      "cell_type": "markdown",
      "metadata": {},
      "source": [
        "\n",
        "- Mac user: use [homebrew](https://brew.sh) to install the following packages:\n",
        "\n",
        "```bash\n",
        "brew install openssl\n",
        "```\n",
        "\n",
        "```bash\n",
        "brew install wget\n",
        "```"
      ]
    },
    {
      "cell_type": "code",
      "execution_count": 1,
      "metadata": {
        "id": "MGRUp5XNO5S8"
      },
      "outputs": [
        {
          "name": "stdout",
          "output_type": "stream",
          "text": [
            "--2022-05-05 15:33:33--  https://s3.amazonaws.com/keras-datasets/jena_climate_2009_2016.csv.zip\n",
            "Auflösen des Hostnamens s3.amazonaws.com (s3.amazonaws.com)… 54.231.165.120\n",
            "Verbindungsaufbau zu s3.amazonaws.com (s3.amazonaws.com)|54.231.165.120|:443 … verbunden.\n",
            "HTTP-Anforderung gesendet, auf Antwort wird gewartet … 200 OK\n",
            "Länge: 13565642 (13M) [application/zip]\n",
            "Wird in »jena_climate_2009_2016.csv.zip« gespeichert.\n",
            "\n",
            "jena_climate_2009_2 100%[===================>]  12,94M  12,5MB/s    in 1,0s    \n",
            "\n",
            "2022-05-05 15:33:34 (12,5 MB/s) - »jena_climate_2009_2016.csv.zip« gespeichert [13565642/13565642]\n",
            "\n"
          ]
        }
      ],
      "source": [
        "!wget https://s3.amazonaws.com/keras-datasets/jena_climate_2009_2016.csv.zip"
      ]
    },
    {
      "cell_type": "code",
      "execution_count": 2,
      "metadata": {},
      "outputs": [
        {
          "name": "stdout",
          "output_type": "stream",
          "text": [
            "Archive:  jena_climate_2009_2016.csv.zip\n",
            "  inflating: jena_climate_2009_2016.csv  \n",
            "  inflating: __MACOSX/._jena_climate_2009_2016.csv  \n"
          ]
        }
      ],
      "source": [
        "!unzip jena_climate_2009_2016.csv.zip"
      ]
    },
    {
      "cell_type": "markdown",
      "metadata": {
        "id": "R0Kz95ckO5S9"
      },
      "source": [
        "- Inspecting the data of the Jena weather dataset"
      ]
    },
    {
      "cell_type": "code",
      "execution_count": 1,
      "metadata": {
        "id": "XCxHQQW2O5S9"
      },
      "outputs": [
        {
          "name": "stdout",
          "output_type": "stream",
          "text": [
            "['\"Date Time\"', '\"p (mbar)\"', '\"T (degC)\"', '\"Tpot (K)\"', '\"Tdew (degC)\"', '\"rh (%)\"', '\"VPmax (mbar)\"', '\"VPact (mbar)\"', '\"VPdef (mbar)\"', '\"sh (g/kg)\"', '\"H2OC (mmol/mol)\"', '\"rho (g/m**3)\"', '\"wv (m/s)\"', '\"max. wv (m/s)\"', '\"wd (deg)\"']\n",
            "420451\n"
          ]
        }
      ],
      "source": [
        "import os\n",
        "fname = os.path.join(\"jena_climate_2009_2016.csv\")\n",
        "\n",
        "with open(fname) as f:\n",
        "    data = f.read()\n",
        "\n",
        "lines = data.split(\"\\n\")\n",
        "header = lines[0].split(\",\")\n",
        "lines = lines[1:]\n",
        "\n",
        "print(header)\n",
        "print(len(lines))"
      ]
    },
    {
      "cell_type": "markdown",
      "metadata": {},
      "source": [
        "- This outputs a count of 420,551 lines of data (each line is a timestep: a record of a\n",
        "date and 14 weather-related values), as well as the header."
      ]
    },
    {
      "cell_type": "markdown",
      "metadata": {},
      "source": [
        "- Now, convert all 420,551 lines of data into NumPy arrays: one array for the temperature\n",
        "(in degrees Celsius), and another one for the rest of the data—the features we\n",
        "will use to predict future temperatures. Note that we discard the “Date Time” column."
      ]
    },
    {
      "cell_type": "code",
      "execution_count": 2,
      "metadata": {
        "id": "sRxkBhZRO5S-"
      },
      "outputs": [],
      "source": [
        "import numpy as np\n",
        "\n",
        "temperature = np.zeros((len(lines),))\n",
        "\n",
        "raw_data = np.zeros((len(lines), len(header) - 1))\n",
        "\n",
        "for i, line in enumerate(lines):\n",
        "    values = [float(x) for x in line.split(\",\")[1:]]\n",
        "    temperature[i] = values[1]\n",
        "    raw_data[i, :] = values[:]"
      ]
    },
    {
      "cell_type": "markdown",
      "metadata": {
        "id": "d7t4MjrXO5S-"
      },
      "source": [
        "- Plotting the temperature timeseries"
      ]
    },
    {
      "cell_type": "code",
      "execution_count": 3,
      "metadata": {
        "id": "t0VUr0t8O5S-"
      },
      "outputs": [
        {
          "data": {
            "text/plain": [
              "[<matplotlib.lines.Line2D at 0x7fb7d9207b80>]"
            ]
          },
          "execution_count": 3,
          "metadata": {},
          "output_type": "execute_result"
        },
        {
          "data": {
            "image/png": "[encoded data removed]",
            "text/plain": [
              "<Figure size 432x288 with 1 Axes>"
            ]
          },
          "metadata": {
            "needs_background": "light"
          },
          "output_type": "display_data"
        }
      ],
      "source": [
        "from matplotlib import pyplot as plt\n",
        "\n",
        "plt.plot(range(len(temperature)), temperature)"
      ]
    },
    {
      "cell_type": "markdown",
      "metadata": {
        "id": "8nsCJnftO5S-"
      },
      "source": [
        "- Plotting the first 10 days of the temperature timeseries"
      ]
    },
    {
      "cell_type": "code",
      "execution_count": 4,
      "metadata": {
        "id": "RWo-qtIjO5S_"
      },
      "outputs": [
        {
          "data": {
            "text/plain": [
              "[<matplotlib.lines.Line2D at 0x7fb7baea2a30>]"
            ]
          },
          "execution_count": 4,
          "metadata": {},
          "output_type": "execute_result"
        },
        {
          "data": {
            "image/png": "[encoded data removed]",
            "text/plain": [
              "<Figure size 432x288 with 1 Axes>"
            ]
          },
          "metadata": {
            "needs_background": "light"
          },
          "output_type": "display_data"
        }
      ],
      "source": [
        "plt.plot(range(1440), temperature[:1440])"
      ]
    },
    {
      "cell_type": "markdown",
      "metadata": {},
      "source": [
        "## Data split"
      ]
    },
    {
      "cell_type": "markdown",
      "metadata": {},
      "source": [
        "- In all our experiments, we’ll use the first 50% of the data for training, the following\n",
        "25% for validation, and the last 25% for testing"
      ]
    },
    {
      "cell_type": "markdown",
      "metadata": {},
      "source": [
        "- When working with timeseries data, it’s important to use validation and test data that is more recent than the training\n",
        "data, because you’re trying to predict the future given the past, not the reverse,\n",
        "and your validation/test splits should reflect that"
      ]
    },
    {
      "cell_type": "markdown",
      "metadata": {
        "id": "WgjeHaM0O5S_"
      },
      "source": [
        "- Computing the number of samples we'll use for each data split:"
      ]
    },
    {
      "cell_type": "code",
      "execution_count": 5,
      "metadata": {
        "id": "-pJiN6QJO5S_"
      },
      "outputs": [
        {
          "name": "stdout",
          "output_type": "stream",
          "text": [
            "num_train_samples: 210225\n",
            "num_val_samples: 105112\n",
            "num_test_samples: 105114\n"
          ]
        }
      ],
      "source": [
        "num_train_samples = int(0.5 * len(raw_data))\n",
        "num_val_samples = int(0.25 * len(raw_data))\n",
        "\n",
        "num_test_samples = len(raw_data) - num_train_samples - num_val_samples\n",
        "\n",
        "print(\"num_train_samples:\", num_train_samples)\n",
        "print(\"num_val_samples:\", num_val_samples)\n",
        "print(\"num_test_samples:\", num_test_samples)"
      ]
    },
    {
      "cell_type": "markdown",
      "metadata": {
        "id": "93fqw3YyO5S_"
      },
      "source": [
        "## Normalizing the data"
      ]
    },
    {
      "cell_type": "markdown",
      "metadata": {},
      "source": [
        "- We’re going to use the first 210,225 timesteps as\n",
        "training data, so we’ll compute the mean and standard deviation only on this fraction\n",
        "of the data."
      ]
    },
    {
      "cell_type": "code",
      "execution_count": 6,
      "metadata": {
        "id": "cqfXgEwmO5S_"
      },
      "outputs": [],
      "source": [
        "mean = raw_data[:num_train_samples].mean(axis=0)\n",
        "raw_data -= mean\n",
        "\n",
        "std = raw_data[:num_train_samples].std(axis=0)\n",
        "raw_data /= std"
      ]
    },
    {
      "cell_type": "markdown",
      "metadata": {},
      "source": [
        "## Batch the data"
      ]
    },
    {
      "cell_type": "markdown",
      "metadata": {},
      "source": [
        "- Next, let’s create a Dataset object that yields batches of data from the past five days\n",
        "along with a target temperature 24 hours in the future. \n",
        "\n",
        "- Because the samples in the dataset are highly redundant (sample N and sample N + 1 will have most of their timesteps in common), it would be wasteful to explicitly allocate memory for every sample.\n",
        "\n",
        "- Instead, we’ll generate the samples on the fly while only keeping in memory the original\n",
        "raw_data and temperature arrays, and nothing more.\n",
        "\n",
        "- We could write a Python generator to do this, but there’s a built-in dataset\n",
        "utility in Keras that does just that (timeseries_dataset_from_array()), so we can\n",
        "save ourselves some work by using it. \n",
        "\n",
        "- You can generally use it for any kind of timeseries\n",
        "forecasting task."
      ]
    },
    {
      "cell_type": "markdown",
      "metadata": {},
      "source": [
        "### Example"
      ]
    },
    {
      "cell_type": "markdown",
      "metadata": {},
      "source": [
        "- To understand what timeseries_dataset_from_array() does, let’s look at a simple\n",
        "example. \n",
        "\n",
        "- The general idea is that you provide an array of timeseries data (the\n",
        "data argument), and `timeseries_dataset_from_array()` gives you windows\n",
        "extracted from the original timeseries (we’ll call them “sequences”)\n",
        "\n",
        "- For example, if you use data = [0 1 2 3 4 5 6] and sequence_length=3, then\n",
        "timeseries_dataset_from_array() will generate the following samples: [0 1 2],\n",
        "[1 2 3], [2 3 4], [3 4 5], [4 5 6].\n",
        "\n",
        "- You can also pass a targets argument (an array) to timeseries_dataset_\n",
        "from_array(). The first entry of the targets array should match the desired target\n",
        "for the first sequence that will be generated from the data array. \n",
        "\n",
        "- So if you’re doing timeseries forecasting, targets should be the same array as data, offset\n",
        "by some amount."
      ]
    },
    {
      "cell_type": "markdown",
      "metadata": {},
      "source": [
        "- For instance, with data = [0 1 2 3 4 5 6 …] and sequence_length=3, you could create\n",
        "a dataset to predict the next step in the series by passing targets = [3 4 5 6 …]. Let’s\n",
        "try it:"
      ]
    },
    {
      "cell_type": "code",
      "execution_count": 7,
      "metadata": {
        "id": "1zAGM4cKO5S_"
      },
      "outputs": [
        {
          "name": "stdout",
          "output_type": "stream",
          "text": [
            "[0, 1, 2] 3\n",
            "[1, 2, 3] 4\n",
            "[2, 3, 4] 5\n",
            "[3, 4, 5] 6\n",
            "[4, 5, 6] 7\n"
          ]
        },
        {
          "name": "stderr",
          "output_type": "stream",
          "text": [
            "2022-05-06 13:36:21.580752: I tensorflow/core/platform/cpu_feature_guard.cc:151] This TensorFlow binary is optimized with oneAPI Deep Neural Network Library (oneDNN) to use the following CPU instructions in performance-critical operations:  AVX2 FMA\n",
            "To enable them in other operations, rebuild TensorFlow with the appropriate compiler flags.\n"
          ]
        }
      ],
      "source": [
        "import numpy as np\n",
        "from tensorflow import keras\n",
        "\n",
        "# generate an array of sorted integers from 0 to 9\n",
        "int_sequence = np.arange(10)\n",
        "\n",
        "dummy_dataset = keras.utils.timeseries_dataset_from_array(\n",
        "    # The sequences we generate will be sampled from [0 1 2 3 4 5 6]\n",
        "    data=int_sequence[:-3],\n",
        "    # The target for the sequences taht starts at data [N] will be the data [N+3]\n",
        "    targets=int_sequence[3:],\n",
        "    # The sequences will be 3 steps long\n",
        "    sequence_length=3,\n",
        "    # The sequences will be batched in batches of size 2\n",
        "    batch_size=2,\n",
        ")\n",
        "\n",
        "for inputs, targets in dummy_dataset:\n",
        "    for i in range(inputs.shape[0]):\n",
        "        print([int(x) for x in inputs[i]], int(targets[i]))"
      ]
    },
    {
      "cell_type": "markdown",
      "metadata": {},
      "source": [
        "### Instantiating dataset"
      ]
    },
    {
      "cell_type": "markdown",
      "metadata": {
        "id": "vOrjGCe8O5TA"
      },
      "source": [
        "- We’ll use timeseries_dataset_from_array() to instantiate three datasets: one for\n",
        "training, one for validation, and one for testing.\n",
        "\n",
        "- We’ll use the following parameter values:\n",
        "\n",
        "  - *sampling_rate* = 6 (Observations will be sampled at one data point per hour: we will only keep one data point out of 6).\n",
        "  \n",
        "  - *sequence_length* = 120 (Observations will go back 5 days (120 hours)).\n",
        "  \n",
        "  - *delay* = sampling_rate *  (sequence_length + 24 - 1) (The target for a sequence\n",
        "will be the temperature 24 hours after the end of the sequence)"
      ]
    },
    {
      "cell_type": "markdown",
      "metadata": {},
      "source": [
        "- When making the training dataset, we’ll pass start_index = 0 and end_index =\n",
        "num_train_samples to only use the first 50% of the data. \n",
        "\n",
        "- For the validation dataset, we’ll pass start_index = num_train_samples and end_index = num_train_samples + num_val_samples to use the next 25% of the data. \n",
        "\n",
        "- Finally, for the test dataset, we’ll pass start_index = num_train_samples + num_val_samples to use the remaining samples."
      ]
    },
    {
      "cell_type": "code",
      "execution_count": 8,
      "metadata": {
        "id": "cIicvSxeO5TA"
      },
      "outputs": [],
      "source": [
        "sampling_rate = 6\n",
        "sequence_length = 120\n",
        "delay = sampling_rate * (sequence_length + 24 - 1)\n",
        "batch_size = 256\n",
        "\n",
        "train_dataset = keras.utils.timeseries_dataset_from_array(\n",
        "    raw_data[:-delay],\n",
        "    targets=temperature[delay:],\n",
        "    sampling_rate=sampling_rate,\n",
        "    sequence_length=sequence_length,\n",
        "    shuffle=True,\n",
        "    batch_size=batch_size,\n",
        "    start_index=0,\n",
        "    end_index=num_train_samples)\n",
        "\n",
        "val_dataset = keras.utils.timeseries_dataset_from_array(\n",
        "    raw_data[:-delay],\n",
        "    targets=temperature[delay:],\n",
        "    sampling_rate=sampling_rate,\n",
        "    sequence_length=sequence_length,\n",
        "    shuffle=True,\n",
        "    batch_size=batch_size,\n",
        "    start_index=num_train_samples,\n",
        "    end_index=num_train_samples + num_val_samples)\n",
        "\n",
        "test_dataset = keras.utils.timeseries_dataset_from_array(\n",
        "    raw_data[:-delay],\n",
        "    targets=temperature[delay:],\n",
        "    sampling_rate=sampling_rate,\n",
        "    sequence_length=sequence_length,\n",
        "    shuffle=True,\n",
        "    batch_size=batch_size,\n",
        "    start_index=num_train_samples + num_val_samples)"
      ]
    },
    {
      "cell_type": "markdown",
      "metadata": {},
      "source": [
        "- Each dataset yields a tuple (samples, targets), where samples is a batch of 256 samples,\n",
        "each containing 120 consecutive hours of input data, and targets is the corresponding\n",
        "array of 256 target temperatures. \n",
        "\n",
        "- Note that the samples are randomly shuffled, so two consecutive sequences in a batch (like samples[0] and samples[1]) aren’t necessarily temporally close."
      ]
    },
    {
      "cell_type": "markdown",
      "metadata": {
        "id": "rPkPH1ZeO5TA"
      },
      "source": [
        "**Inspecting the output of one of our datasets**"
      ]
    },
    {
      "cell_type": "code",
      "execution_count": 9,
      "metadata": {
        "id": "Aqc_aEV5O5TA"
      },
      "outputs": [
        {
          "name": "stdout",
          "output_type": "stream",
          "text": [
            "samples shape: (256, 120, 14)\n",
            "targets shape: (256,)\n"
          ]
        }
      ],
      "source": [
        "for samples, targets in train_dataset:\n",
        "    print(\"samples shape:\", samples.shape)\n",
        "    print(\"targets shape:\", targets.shape)\n",
        "    break"
      ]
    },
    {
      "cell_type": "markdown",
      "metadata": {
        "id": "MOOTQ1wEO5TA"
      },
      "source": [
        "## Baseline"
      ]
    },
    {
      "cell_type": "markdown",
      "metadata": {},
      "source": [
        "- A common-sense, non-machine-learning baseline\n",
        "\n",
        "- The temperature timeseries can safely be assumed to be continuous (the temperatures tomorrow are likely to be close to the temperatures today) as\n",
        "well as periodical with a daily period. \n",
        "\n",
        "- Thus a common-sense approach is to always predict that the temperature 24 hours from now will be equal to the temperature right now. \n",
        "\n",
        "- Let’s evaluate this approach, using the mean absolute error (MAE) metric, defined as follows:"
      ]
    },
    {
      "cell_type": "markdown",
      "metadata": {
        "id": "z9_laQ_FO5TA"
      },
      "source": [
        "- Computing the common-sense baseline MAE\n",
        "\n",
        "- The temperature feature is at column 1, so samples[:, -1, 1] is the last temperature measurement in the input sequence. \n",
        "\n",
        "- Recall that we normalized our features, so to retrieve a temperature in degrees Celsius,\n",
        "we need to un-normalize it by multiplying it by the standard deviation and adding back the mean."
      ]
    },
    {
      "cell_type": "code",
      "execution_count": 10,
      "metadata": {
        "id": "oIJqlJirO5TA"
      },
      "outputs": [
        {
          "name": "stdout",
          "output_type": "stream",
          "text": [
            "Validation MAE: 2.44\n",
            "Test MAE: 2.62\n"
          ]
        }
      ],
      "source": [
        "def evaluate_naive_method(dataset):\n",
        "\n",
        "    total_abs_err = 0.\n",
        "    samples_seen = 0\n",
        "    \n",
        "    for samples, targets in dataset:\n",
        "        preds = samples[:, -1, 1] * std[1] + mean[1]\n",
        "        total_abs_err += np.sum(np.abs(preds - targets))\n",
        "        samples_seen += samples.shape[0]\n",
        "    return total_abs_err / samples_seen\n",
        "\n",
        "print(f\"Validation MAE: {evaluate_naive_method(val_dataset):.2f}\")\n",
        "print(f\"Test MAE: {evaluate_naive_method(test_dataset):.2f}\")"
      ]
    },
    {
      "cell_type": "markdown",
      "metadata": {},
      "source": [
        "- This common-sense baseline achieves a validation MAE of 2.44 degrees Celsius and a\n",
        "test MAE of 2.62 degrees Celsius. \n",
        "\n",
        "- So if you always assume that the temperature 24 hours in the future will be the same as it is now, you will be off by two and a half degrees on average."
      ]
    },
    {
      "cell_type": "markdown",
      "metadata": {
        "id": "0ZEK1UK7O5TA"
      },
      "source": [
        "## Densely connected model"
      ]
    },
    {
      "cell_type": "markdown",
      "metadata": {
        "id": "gbQUPynvO5TA"
      },
      "source": [
        "- Training and evaluating a densely connected model"
      ]
    },
    {
      "cell_type": "code",
      "execution_count": 11,
      "metadata": {
        "id": "0HURL6QWO5TA"
      },
      "outputs": [],
      "source": [
        "from tensorflow import keras\n",
        "from tensorflow.keras import layers\n",
        "\n",
        "inputs = keras.Input(shape=(sequence_length, raw_data.shape[-1]))\n",
        "\n",
        "x = layers.Flatten()(inputs)\n",
        "\n",
        "x = layers.Dense(16, activation=\"relu\")(x)\n",
        "\n",
        "outputs = layers.Dense(1)(x)\n",
        "\n",
        "model = keras.Model(inputs, outputs)"
      ]
    },
    {
      "cell_type": "markdown",
      "metadata": {},
      "source": [
        "- We use a callback to save the bestperforming model\n",
        "- And the EarlyStopping callback to interrupt training when the validation loss is not longer improving."
      ]
    },
    {
      "cell_type": "code",
      "execution_count": 12,
      "metadata": {},
      "outputs": [],
      "source": [
        "callbacks = [\n",
        "    keras.callbacks.ModelCheckpoint(\"jena_dense.keras\",\n",
        "                                    save_best_only=True),\n",
        "    keras.callbacks.EarlyStopping(monitor=\"val_loss\", min_delta=0.01, patience=2)\n",
        "]"
      ]
    },
    {
      "cell_type": "code",
      "execution_count": 13,
      "metadata": {},
      "outputs": [],
      "source": [
        "model.compile(optimizer=\"rmsprop\", \n",
        "              loss=\"mse\", \n",
        "              metrics=[\"mae\"])"
      ]
    },
    {
      "cell_type": "code",
      "execution_count": 14,
      "metadata": {},
      "outputs": [
        {
          "name": "stdout",
          "output_type": "stream",
          "text": [
            "Epoch 1/10\n",
            "819/819 [==============================] - 8s 9ms/step - loss: 14.3800 - mae: 2.9339 - val_loss: 12.1828 - val_mae: 2.7651\n",
            "Epoch 2/10\n",
            "819/819 [==============================] - 8s 10ms/step - loss: 10.0183 - mae: 2.4863 - val_loss: 11.7025 - val_mae: 2.7049\n",
            "Epoch 3/10\n",
            "819/819 [==============================] - 8s 9ms/step - loss: 9.0763 - mae: 2.3721 - val_loss: 10.8984 - val_mae: 2.6006\n",
            "Epoch 4/10\n",
            "819/819 [==============================] - 8s 10ms/step - loss: 8.4876 - mae: 2.2970 - val_loss: 10.5284 - val_mae: 2.5631\n",
            "Epoch 5/10\n",
            "819/819 [==============================] - 8s 10ms/step - loss: 8.0546 - mae: 2.2381 - val_loss: 11.4569 - val_mae: 2.6579\n",
            "Epoch 6/10\n",
            "819/819 [==============================] - 8s 10ms/step - loss: 7.7324 - mae: 2.1923 - val_loss: 10.7193 - val_mae: 2.5830\n",
            "Epoch 7/10\n",
            "819/819 [==============================] - 8s 10ms/step - loss: 7.5112 - mae: 2.1631 - val_loss: 10.7113 - val_mae: 2.5755\n",
            "Epoch 8/10\n",
            "819/819 [==============================] - 8s 10ms/step - loss: 7.2989 - mae: 2.1330 - val_loss: 12.5019 - val_mae: 2.7986\n",
            "Epoch 9/10\n",
            "819/819 [==============================] - 8s 10ms/step - loss: 7.1252 - mae: 2.1071 - val_loss: 11.7819 - val_mae: 2.7100\n"
          ]
        }
      ],
      "source": [
        "history = model.fit(train_dataset,\n",
        "                    epochs=10,\n",
        "                    validation_data=val_dataset,\n",
        "                    callbacks=callbacks)"
      ]
    },
    {
      "cell_type": "markdown",
      "metadata": {},
      "source": [
        "- Reload the best model and evaluate it on the test data."
      ]
    },
    {
      "cell_type": "code",
      "execution_count": 15,
      "metadata": {},
      "outputs": [
        {
          "name": "stdout",
          "output_type": "stream",
          "text": [
            "405/405 [==============================] - 3s 6ms/step - loss: 11.7181 - mae: 2.6940\n",
            "Test MAE: 2.69\n"
          ]
        }
      ],
      "source": [
        "model = keras.models.load_model(\"jena_dense.keras\")\n",
        "print(f\"Test MAE: {model.evaluate(test_dataset)[1]:.2f}\")"
      ]
    },
    {
      "cell_type": "markdown",
      "metadata": {
        "id": "PapimwGMO5TB"
      },
      "source": [
        "**Plotting results**"
      ]
    },
    {
      "cell_type": "code",
      "execution_count": 16,
      "metadata": {
        "id": "Sxnm3sA9O5TB"
      },
      "outputs": [],
      "source": [
        "import matplotlib.pyplot as plt\n",
        "\n",
        "def visualize_mae(history, title):\n",
        "    loss = history.history[\"mae\"]\n",
        "    val_loss = history.history[\"val_mae\"]\n",
        "    epochs = range(1, len(loss) + 1)\n",
        "\n",
        "    plt.figure()\n",
        "\n",
        "    plt.plot(epochs, loss, \"b\", label=\"Training MAE\")\n",
        "    plt.plot(epochs, val_loss, \"r\", label=\"Validation MAE\")\n",
        "\n",
        "    plt.title(title)\n",
        "    plt.axhline(y=2.62, color='k', linestyle='--', label='Baseline')\n",
        "    plt.xlabel(\"Epochs\")\n",
        "    plt.ylabel(\"Mean absolute error\")\n",
        "    plt.legend()\n",
        "    plt.show()"
      ]
    },
    {
      "cell_type": "code",
      "execution_count": 17,
      "metadata": {},
      "outputs": [
        {
          "data": {
            "image/png": "[encoded data removed]",
            "text/plain": [
              "<Figure size 432x288 with 1 Axes>"
            ]
          },
          "metadata": {
            "needs_background": "light"
          },
          "output_type": "display_data"
        }
      ],
      "source": [
        "visualize_mae(history, \"Training and Validation MAE\")"
      ]
    },
    {
      "cell_type": "markdown",
      "metadata": {},
      "source": [
        "- Some of the validation losses are close to the no-learning baseline, but not reliably.\n",
        "\n",
        "- This goes to show the merit of having this baseline in the first place: it turns out to be\n",
        "not easy to outperform. \n",
        "\n",
        "- Your common sense contains a lot of valuable information to which a machine learning model doesn’t have access."
      ]
    },
    {
      "cell_type": "markdown",
      "metadata": {
        "id": "wDE_w4zeO5TB"
      },
      "source": [
        "## 1D convolutional model"
      ]
    },
    {
      "cell_type": "markdown",
      "metadata": {},
      "source": [
        "- Since our input sequences feature daily cycles, perhaps a convolutional model could work. \n",
        "\n",
        "- A temporal convnet could reuse the same representations across different days, much like a spatial convnet can reuse the same representations across different locations in an image.\n",
        "\n",
        "- You can build 1D convnets, strictly analogous to 2D convnets. \n",
        "\n",
        "- They’re a great fit for any sequence data that follows the translation invariance assumption (meaning that if you slide a window over the sequence, the content of the window should follow the same properties independently of the location of the window).\n",
        "\n",
        "- Let’s try one on our temperature-forecasting problem. \n",
        "\n",
        "- We’ll pick an initial window length of 24, so that we look at 24 hours of data at a time (one cycle). \n",
        "\n",
        "- As we downsample the sequences (via MaxPooling1D layers), we’ll reduce the window size accordingly."
      ]
    },
    {
      "cell_type": "code",
      "execution_count": 18,
      "metadata": {
        "id": "WpVMCkdPO5TB"
      },
      "outputs": [],
      "source": [
        "inputs = keras.Input(shape=(sequence_length, raw_data.shape[-1]))\n",
        "\n",
        "x = layers.Conv1D(8, 24, activation=\"relu\")(inputs)\n",
        "x = layers.MaxPooling1D(2)(x)\n",
        "\n",
        "x = layers.Conv1D(8, 12, activation=\"relu\")(x)\n",
        "x = layers.MaxPooling1D(2)(x)\n",
        "\n",
        "x = layers.Conv1D(8, 6, activation=\"relu\")(x)\n",
        "x = layers.GlobalAveragePooling1D()(x)\n",
        "\n",
        "outputs = layers.Dense(1)(x)\n",
        "\n",
        "model = keras.Model(inputs, outputs)\n"
      ]
    },
    {
      "cell_type": "code",
      "execution_count": 19,
      "metadata": {},
      "outputs": [],
      "source": [
        "callbacks = [\n",
        "    keras.callbacks.ModelCheckpoint(\"jena_conv.keras\",\n",
        "                                    save_best_only=True),\n",
        "    keras.callbacks.EarlyStopping(monitor=\"val_loss\", min_delta=0.01, patience=2)\n",
        "                                \n",
        "]\n"
      ]
    },
    {
      "cell_type": "code",
      "execution_count": 20,
      "metadata": {},
      "outputs": [],
      "source": [
        "model.compile(optimizer=\"rmsprop\", \n",
        "              loss=\"mse\", \n",
        "              metrics=[\"mae\"])"
      ]
    },
    {
      "cell_type": "code",
      "execution_count": 21,
      "metadata": {},
      "outputs": [
        {
          "name": "stdout",
          "output_type": "stream",
          "text": [
            "Epoch 1/10\n",
            "819/819 [==============================] - 17s 20ms/step - loss: 23.6939 - mae: 3.7550 - val_loss: 18.1069 - val_mae: 3.3402\n",
            "Epoch 2/10\n",
            "819/819 [==============================] - 17s 20ms/step - loss: 15.1103 - mae: 3.0730 - val_loss: 15.7768 - val_mae: 3.1067\n",
            "Epoch 3/10\n",
            "819/819 [==============================] - 17s 21ms/step - loss: 14.0057 - mae: 2.9560 - val_loss: 16.5323 - val_mae: 3.1798\n",
            "Epoch 4/10\n",
            "819/819 [==============================] - 17s 21ms/step - loss: 13.2491 - mae: 2.8729 - val_loss: 14.2281 - val_mae: 2.9814\n",
            "Epoch 5/10\n",
            "819/819 [==============================] - 17s 20ms/step - loss: 12.7285 - mae: 2.8138 - val_loss: 15.4208 - val_mae: 3.0884\n",
            "Epoch 6/10\n",
            "819/819 [==============================] - 17s 21ms/step - loss: 12.2768 - mae: 2.7600 - val_loss: 16.1570 - val_mae: 3.1698\n",
            "Epoch 7/10\n",
            "819/819 [==============================] - 17s 20ms/step - loss: 11.9065 - mae: 2.7183 - val_loss: 14.2458 - val_mae: 2.9699\n",
            "Epoch 8/10\n",
            "819/819 [==============================] - 17s 21ms/step - loss: 11.5829 - mae: 2.6791 - val_loss: 19.4210 - val_mae: 3.4790\n",
            "Epoch 9/10\n",
            "819/819 [==============================] - 17s 20ms/step - loss: 11.2942 - mae: 2.6457 - val_loss: 14.6049 - val_mae: 3.0147\n",
            "Epoch 10/10\n",
            "819/819 [==============================] - 17s 20ms/step - loss: 11.0020 - mae: 2.6118 - val_loss: 16.6014 - val_mae: 3.1635\n"
          ]
        }
      ],
      "source": [
        "history = model.fit(train_dataset,\n",
        "                    epochs=10,\n",
        "                    validation_data=val_dataset,\n",
        "                    callbacks=callbacks)"
      ]
    },
    {
      "cell_type": "code",
      "execution_count": 22,
      "metadata": {},
      "outputs": [
        {
          "name": "stdout",
          "output_type": "stream",
          "text": [
            "405/405 [==============================] - 3s 8ms/step - loss: 16.1991 - mae: 3.2221\n",
            "Test MAE: 3.22\n"
          ]
        }
      ],
      "source": [
        "model = keras.models.load_model(\"jena_conv.keras\")\n",
        "\n",
        "print(f\"Test MAE: {model.evaluate(test_dataset)[1]:.2f}\")"
      ]
    },
    {
      "cell_type": "code",
      "execution_count": 23,
      "metadata": {},
      "outputs": [
        {
          "data": {
            "image/png": "[encoded data removed]",
            "text/plain": [
              "<Figure size 432x288 with 1 Axes>"
            ]
          },
          "metadata": {
            "needs_background": "light"
          },
          "output_type": "display_data"
        }
      ],
      "source": [
        "visualize_mae(history, \"Training and Validation MAE\")"
      ]
    },
    {
      "cell_type": "markdown",
      "metadata": {},
      "source": [
        "- This model performs even worse than the densely connected one,\n",
        "\n",
        "- We only achieve a validation MAE of about 3 degrees, far from the common-sense\n",
        "baseline. \n",
        "\n",
        "- What went wrong here? Two things:\n",
        "  - First, weather data doesn’t quite respect the translation invariance assumption. While the data does feature daily cycles, data from a morning follows different properties than data from an evening or from the middle of the night. Weather data is only translation-invariant for a very specific timescale.\n",
        "\n",
        "  - Second, order in our data matters—a lot. The recent past is far more informative for predicting the next day’s temperature than data from five days ago. A 1D convnet is not able to leverage this fact. In particular, our max pooling and global average pooling layers are largely destroying order information."
      ]
    },
    {
      "cell_type": "markdown",
      "metadata": {
        "id": "JWvZ4EFJO5TB"
      },
      "source": [
        "## Recurrent neural networks: LSTM-based model"
      ]
    },
    {
      "cell_type": "markdown",
      "metadata": {},
      "source": [
        "- The densely connected approach first flattened the timeseries, which removed the notion of time from the input data. \n",
        "\n",
        "- The convolutional approach treated every segment of the data in the same way, even applying pooling, which destroyed order information. \n",
        "\n",
        "- Let’s instead look at the data as what it is: a sequence, where causality and order matter."
      ]
    },
    {
      "cell_type": "markdown",
      "metadata": {},
      "source": [
        "- There’s a family of neural network architectures designed specifically for this use\n",
        "case: recurrent neural networks. \n",
        "\n",
        "- Among them, the Long Short Term Memory (LSTM) layer has long been very popular."
      ]
    },
    {
      "cell_type": "code",
      "execution_count": 24,
      "metadata": {
        "id": "v1sVUe2WO5TB"
      },
      "outputs": [],
      "source": [
        "inputs = keras.Input(shape=(sequence_length, raw_data.shape[-1]))\n",
        "\n",
        "x = layers.LSTM(16)(inputs)\n",
        "\n",
        "outputs = layers.Dense(1)(x)\n",
        "\n",
        "model = keras.Model(inputs, outputs)"
      ]
    },
    {
      "cell_type": "code",
      "execution_count": 25,
      "metadata": {},
      "outputs": [],
      "source": [
        "callbacks = [\n",
        "    keras.callbacks.ModelCheckpoint(\"jena_lstm.keras\",\n",
        "                                    save_best_only=True),\n",
        "    keras.callbacks.EarlyStopping(monitor=\"val_loss\", min_delta=0.01, patience=2)                              \n",
        "]"
      ]
    },
    {
      "cell_type": "code",
      "execution_count": 26,
      "metadata": {},
      "outputs": [],
      "source": [
        "model.compile(optimizer=\"rmsprop\", \n",
        "              loss=\"mse\", \n",
        "              metrics=[\"mae\"])"
      ]
    },
    {
      "cell_type": "code",
      "execution_count": 27,
      "metadata": {},
      "outputs": [
        {
          "name": "stdout",
          "output_type": "stream",
          "text": [
            "Epoch 1/10\n",
            "819/819 [==============================] - 34s 39ms/step - loss: 42.9086 - mae: 4.7865 - val_loss: 13.1834 - val_mae: 2.7782\n",
            "Epoch 2/10\n",
            "819/819 [==============================] - 33s 40ms/step - loss: 11.2389 - mae: 2.6037 - val_loss: 9.8621 - val_mae: 2.4406\n",
            "Epoch 3/10\n",
            "819/819 [==============================] - 34s 42ms/step - loss: 9.9253 - mae: 2.4582 - val_loss: 9.9196 - val_mae: 2.4556\n",
            "Epoch 4/10\n",
            "819/819 [==============================] - 36s 43ms/step - loss: 9.5473 - mae: 2.4084 - val_loss: 9.7663 - val_mae: 2.4092\n",
            "Epoch 5/10\n",
            "819/819 [==============================] - 37s 45ms/step - loss: 9.2234 - mae: 2.3655 - val_loss: 9.9486 - val_mae: 2.4083\n",
            "Epoch 6/10\n",
            "819/819 [==============================] - 38s 46ms/step - loss: 8.9929 - mae: 2.3343 - val_loss: 10.3940 - val_mae: 2.4632\n",
            "Epoch 7/10\n",
            "819/819 [==============================] - 39s 48ms/step - loss: 8.8194 - mae: 2.3088 - val_loss: 10.4243 - val_mae: 2.4520\n",
            "Epoch 8/10\n",
            "819/819 [==============================] - 40s 49ms/step - loss: 8.6682 - mae: 2.2856 - val_loss: 9.8806 - val_mae: 2.4162\n",
            "Epoch 9/10\n",
            "819/819 [==============================] - 38s 46ms/step - loss: 8.5465 - mae: 2.2697 - val_loss: 10.2288 - val_mae: 2.4538\n",
            "Epoch 10/10\n",
            "819/819 [==============================] - 41s 50ms/step - loss: 8.4262 - mae: 2.2539 - val_loss: 10.3551 - val_mae: 2.4635\n"
          ]
        }
      ],
      "source": [
        "history = model.fit(train_dataset,\n",
        "                    epochs=10,\n",
        "                    validation_data=val_dataset,\n",
        "                    callbacks=callbacks)"
      ]
    },
    {
      "cell_type": "code",
      "execution_count": 28,
      "metadata": {},
      "outputs": [
        {
          "name": "stdout",
          "output_type": "stream",
          "text": [
            "405/405 [==============================] - 9s 22ms/step - loss: 11.0675 - mae: 2.5845\n",
            "Test MAE: 2.58\n"
          ]
        }
      ],
      "source": [
        "model = keras.models.load_model(\"jena_lstm.keras\")\n",
        "\n",
        "print(f\"Test MAE: {model.evaluate(test_dataset)[1]:.2f}\")"
      ]
    },
    {
      "cell_type": "code",
      "execution_count": 29,
      "metadata": {},
      "outputs": [
        {
          "data": {
            "image/png": "[encoded data removed]",
            "text/plain": [
              "<Figure size 432x288 with 1 Axes>"
            ]
          },
          "metadata": {
            "needs_background": "light"
          },
          "output_type": "display_data"
        }
      ],
      "source": [
        "visualize_mae(history, \"Training and Validation MAE\")"
      ]
    },
    {
      "cell_type": "markdown",
      "metadata": {},
      "source": [
        "-  We achieve a validation MAE as low as 2.5961 degrees and a test MAE of 2.6 degrees. \n",
        "\n",
        "- The LSTM-based model can finally beat the common-sense baseline (albeit just by a bit, for now), demonstrating the value of machine learning on this task."
      ]
    },
    {
      "cell_type": "markdown",
      "metadata": {
        "id": "52TcydELO5TB"
      },
      "source": [
        "## Understanding recurrent neural networks"
      ]
    },
    {
      "cell_type": "markdown",
      "metadata": {},
      "source": [
        "- A major characteristic of all neural networks you’ve seen so far, such as densely connected\n",
        "networks and convnets, is that they have no memory. \n",
        "\n",
        "- Each input shown to them is processed independently, with no state kept between inputs. \n",
        "\n",
        "- With such networks,in order to process a sequence or a temporal series of data points, you have to show the entire sequence to the network at once: turn it into a single data point. \n",
        "\n",
        "- For instance, this is what we did in the densely connected network example: we flattened\n",
        "our five days of data into a single large vector and processed it in one go. Such networks\n",
        "are called feedforward networks."
      ]
    },
    {
      "cell_type": "markdown",
      "metadata": {},
      "source": [
        "- A recurrent neural network (RNN) processes sequences by iterating through the sequence elements and maintaining a state that contains information relative to what\n",
        "it has seen so far. \n",
        "\n",
        "- In effect, an RNN is a type of neural network that has an internal loop"
      ]
    },
    {
      "cell_type": "markdown",
      "metadata": {
        "id": "wUe-sUrSO5TB"
      },
      "source": [
        "### A recurrent layer in Keras"
      ]
    },
    {
      "cell_type": "markdown",
      "metadata": {
        "id": "FoS4xv3eO5TB"
      },
      "source": [
        "- An RNN layer that can process sequences of any length\n",
        "\n",
        "- It takes inputs of shape (batch_size, timesteps, input_features)\n",
        "\n",
        "- All recurrent layers in Keras (SimpleRNN, LSTM, and GRU) can be run in two different\n",
        "modes: they can return either full sequences of successive outputs for each timestep\n",
        "(a rank-3 tensor of shape (batch_size, timesteps, output_features)) or\n",
        "return only the last output for each input sequence (a rank-2 tensor of shape (batch_\n",
        "size, output_features)). \n",
        "\n",
        "- These two modes are controlled by the return_sequences constructor argument"
      ]
    },
    {
      "cell_type": "markdown",
      "metadata": {
        "id": "l04Z2RwrO5TB"
      },
      "source": [
        "- An RNN layer that returns only its last output step**"
      ]
    },
    {
      "cell_type": "code",
      "execution_count": 30,
      "metadata": {
        "id": "yy50-JmlO5TC"
      },
      "outputs": [
        {
          "name": "stdout",
          "output_type": "stream",
          "text": [
            "(None, 16)\n"
          ]
        }
      ],
      "source": [
        "num_features = 14\n",
        "steps = 120\n",
        "\n",
        "inputs = keras.Input(shape=(steps, num_features))\n",
        "\n",
        "outputs = layers.SimpleRNN(16, return_sequences=False)(inputs)\n",
        "\n",
        "print(outputs.shape)"
      ]
    },
    {
      "cell_type": "markdown",
      "metadata": {
        "id": "P2YZOiR9O5TC"
      },
      "source": [
        "- An RNN layer that returns its full output sequence"
      ]
    },
    {
      "cell_type": "code",
      "execution_count": 31,
      "metadata": {
        "id": "PBDf2gp1O5TC"
      },
      "outputs": [
        {
          "name": "stdout",
          "output_type": "stream",
          "text": [
            "(None, 120, 16)\n"
          ]
        }
      ],
      "source": [
        "num_features = 14\n",
        "steps = 120\n",
        "\n",
        "inputs = keras.Input(shape=(steps, num_features))\n",
        "outputs = layers.SimpleRNN(16, return_sequences=True)(inputs)\n",
        "\n",
        "print(outputs.shape)"
      ]
    },
    {
      "cell_type": "markdown",
      "metadata": {
        "id": "yYWZPHHqO5TC"
      },
      "source": [
        "**Stacking RNN layers**"
      ]
    },
    {
      "cell_type": "markdown",
      "metadata": {},
      "source": [
        "- It’s sometimes useful to stack several recurrent layers one after the other in order to\n",
        "increase the representational power of a network. \n",
        "\n",
        "- In such a setup, you have to get all of the intermediate layers to return a full sequence of outputs."
      ]
    },
    {
      "cell_type": "code",
      "execution_count": 32,
      "metadata": {
        "id": "hHUVSDUAO5TC"
      },
      "outputs": [],
      "source": [
        "inputs = keras.Input(shape=(steps, num_features))\n",
        "\n",
        "x = layers.SimpleRNN(16, return_sequences=True)(inputs)\n",
        "x = layers.SimpleRNN(16, return_sequences=True)(x)\n",
        "\n",
        "outputs = layers.SimpleRNN(16)(x)"
      ]
    },
    {
      "cell_type": "markdown",
      "metadata": {},
      "source": [
        "- In practice, you’ll rarely work with the SimpleRNN layer. It’s generally too simplistic to be of real use. \n",
        "\n",
        "- In particular, SimpleRNN has a major issue: although it should theoretically\n",
        "be able to retain at time t information about inputs seen many timesteps before, such\n",
        "long-term dependencies prove impossible to learn in practice. \n",
        "\n",
        "- This is due to the vanishing gradient problem, an effect that is similar to what is observed with non-recurrent networks (feedforward networks) that are many layers deep: as you keep adding layers to a network, the network eventually becomes untrainable"
      ]
    },
    {
      "cell_type": "markdown",
      "metadata": {
        "id": "r8n8tLdkO5TC"
      },
      "source": [
        "## Advanced use of recurrent neural networks"
      ]
    },
    {
      "cell_type": "markdown",
      "metadata": {
        "id": "vsxOM9bGO5TC"
      },
      "source": [
        "- Using recurrent dropout to fight overfitting"
      ]
    },
    {
      "cell_type": "markdown",
      "metadata": {
        "id": "emCc63ERO5TC"
      },
      "source": [
        "**Training and evaluating a dropout-regularized LSTM**"
      ]
    },
    {
      "cell_type": "code",
      "execution_count": 33,
      "metadata": {
        "id": "PJKD3YN_O5TC"
      },
      "outputs": [],
      "source": [
        "inputs = keras.Input(shape=(sequence_length, raw_data.shape[-1]))\n",
        "\n",
        "x = layers.LSTM(32, recurrent_dropout=0.25)(inputs)\n",
        "x = layers.Dropout(0.5)(x)\n",
        "\n",
        "outputs = layers.Dense(1)(x)\n",
        "model = keras.Model(inputs, outputs)"
      ]
    },
    {
      "cell_type": "code",
      "execution_count": 34,
      "metadata": {},
      "outputs": [],
      "source": [
        "callbacks = [\n",
        "    keras.callbacks.ModelCheckpoint(\"jena_lstm_dropout.keras\",\n",
        "                                    save_best_only=True),\n",
        "     keras.callbacks.EarlyStopping(monitor=\"val_loss\", min_delta=0.01, patience=2)                                \n",
        "]"
      ]
    },
    {
      "cell_type": "code",
      "execution_count": 36,
      "metadata": {},
      "outputs": [
        {
          "name": "stdout",
          "output_type": "stream",
          "text": [
            "Epoch 1/10\n",
            "819/819 [==============================] - 57s 67ms/step - loss: 9.5786 - mae: 2.4009 - val_loss: 11.0471 - val_mae: 2.5688\n",
            "Epoch 2/10\n",
            "819/819 [==============================] - 54s 66ms/step - loss: 9.5111 - mae: 2.3911 - val_loss: 11.4402 - val_mae: 2.6143\n",
            "Epoch 3/10\n",
            "819/819 [==============================] - 56s 68ms/step - loss: 9.5285 - mae: 2.3896 - val_loss: 11.1815 - val_mae: 2.5868\n",
            "Epoch 4/10\n",
            "819/819 [==============================] - 56s 68ms/step - loss: 9.5142 - mae: 2.3911 - val_loss: 11.1256 - val_mae: 2.5893\n",
            "Epoch 5/10\n",
            "819/819 [==============================] - 56s 68ms/step - loss: 9.3757 - mae: 2.3720 - val_loss: 10.9156 - val_mae: 2.5615\n",
            "Epoch 6/10\n",
            "819/819 [==============================] - 55s 67ms/step - loss: 9.3851 - mae: 2.3715 - val_loss: 11.0319 - val_mae: 2.5698\n",
            "Epoch 7/10\n",
            "819/819 [==============================] - 54s 66ms/step - loss: 9.3228 - mae: 2.3688 - val_loss: 11.0931 - val_mae: 2.5773\n",
            "Epoch 8/10\n",
            "819/819 [==============================] - 55s 67ms/step - loss: 9.2358 - mae: 2.3581 - val_loss: 11.1550 - val_mae: 2.5877\n",
            "Epoch 9/10\n",
            "819/819 [==============================] - 54s 66ms/step - loss: 9.2531 - mae: 2.3579 - val_loss: 10.8746 - val_mae: 2.5554\n",
            "Epoch 10/10\n",
            "819/819 [==============================] - 54s 66ms/step - loss: 9.2377 - mae: 2.3555 - val_loss: 11.3936 - val_mae: 2.6106\n"
          ]
        }
      ],
      "source": [
        "model.compile(optimizer=\"rmsprop\", loss=\"mse\", metrics=[\"mae\"])\n",
        "history = model.fit(train_dataset,\n",
        "                    epochs=10, \n",
        "                    validation_data=val_dataset,\n",
        "                    callbacks=callbacks)"
      ]
    },
    {
      "cell_type": "code",
      "execution_count": 37,
      "metadata": {},
      "outputs": [
        {
          "name": "stdout",
          "output_type": "stream",
          "text": [
            "405/405 [==============================] - 6s 15ms/step - loss: 10.1155 - mae: 2.5134\n",
            "Test MAE: 2.51\n"
          ]
        }
      ],
      "source": [
        "model = keras.models.load_model(\"jena_lstm_dropout.keras\")\n",
        "print(f\"Test MAE: {model.evaluate(test_dataset)[1]:.2f}\")"
      ]
    },
    {
      "cell_type": "code",
      "execution_count": 38,
      "metadata": {},
      "outputs": [
        {
          "data": {
            "image/png": "[encoded data removed]",
            "text/plain": [
              "<Figure size 432x288 with 1 Axes>"
            ]
          },
          "metadata": {
            "needs_background": "light"
          },
          "output_type": "display_data"
        }
      ],
      "source": [
        "visualize_mae(history, \"Training and Validation MAE\")"
      ]
    },
    {
      "cell_type": "markdown",
      "metadata": {
        "id": "4kVJz-AUO5TC"
      },
      "source": [
        "## Stacking recurrent layers with a GRU model"
      ]
    },
    {
      "cell_type": "markdown",
      "metadata": {
        "id": "H52ACDVvO5TC"
      },
      "source": [
        "- Next, we’ll use Gated Recurrent Unit (GRU) layers instead of LSTM. \n",
        "\n",
        "- GRU is very similar to LSTM—you can think of it as a slightly simpler, streamlined version of the LSTM architecture.\n",
        "\n",
        "- Training and evaluating a dropout-regularized, stacked GRU model"
      ]
    },
    {
      "cell_type": "code",
      "execution_count": 39,
      "metadata": {
        "id": "3xh6BkshO5TC"
      },
      "outputs": [],
      "source": [
        "inputs = keras.Input(shape=(sequence_length, raw_data.shape[-1]))\n",
        "\n",
        "x = layers.GRU(32, recurrent_dropout=0.5, return_sequences=True)(inputs)\n",
        "x = layers.GRU(32, recurrent_dropout=0.5)(x)\n",
        "x = layers.Dropout(0.5)(x)\n",
        "\n",
        "outputs = layers.Dense(1)(x)\n",
        "\n",
        "model = keras.Model(inputs, outputs)"
      ]
    },
    {
      "cell_type": "code",
      "execution_count": 40,
      "metadata": {},
      "outputs": [],
      "source": [
        "callbacks = [\n",
        "    keras.callbacks.ModelCheckpoint(\"jena_stacked_gru_dropout.keras\",\n",
        "                                    save_best_only=True),\n",
        "    keras.callbacks.EarlyStopping(monitor=\"val_loss\", min_delta=0.01, patience=2)                             \n",
        "]"
      ]
    },
    {
      "cell_type": "code",
      "execution_count": 41,
      "metadata": {},
      "outputs": [],
      "source": [
        "model.compile(optimizer=\"rmsprop\", loss=\"mse\", metrics=[\"mae\"])"
      ]
    },
    {
      "cell_type": "code",
      "execution_count": 42,
      "metadata": {},
      "outputs": [
        {
          "name": "stdout",
          "output_type": "stream",
          "text": [
            "Epoch 1/10\n",
            "819/819 [==============================] - 97s 116ms/step - loss: 25.7359 - mae: 3.7422 - val_loss: 9.3439 - val_mae: 2.3706\n",
            "Epoch 2/10\n",
            "819/819 [==============================] - 91s 111ms/step - loss: 14.0316 - mae: 2.9030 - val_loss: 9.3555 - val_mae: 2.3701\n",
            "Epoch 3/10\n",
            "819/819 [==============================] - 88s 108ms/step - loss: 13.2588 - mae: 2.8209 - val_loss: 9.2216 - val_mae: 2.3564\n",
            "Epoch 4/10\n",
            "819/819 [==============================] - 91s 111ms/step - loss: 12.6635 - mae: 2.7597 - val_loss: 8.7221 - val_mae: 2.2933\n",
            "Epoch 5/10\n",
            "819/819 [==============================] - 94s 115ms/step - loss: 12.1896 - mae: 2.7076 - val_loss: 8.9592 - val_mae: 2.3243\n",
            "Epoch 6/10\n",
            "819/819 [==============================] - 96s 117ms/step - loss: 11.7795 - mae: 2.6615 - val_loss: 9.1896 - val_mae: 2.3371\n"
          ]
        }
      ],
      "source": [
        "history = model.fit(train_dataset,\n",
        "                    epochs=10,\n",
        "                    validation_data=val_dataset,\n",
        "                    callbacks=callbacks)"
      ]
    },
    {
      "cell_type": "code",
      "execution_count": 43,
      "metadata": {},
      "outputs": [
        {
          "name": "stdout",
          "output_type": "stream",
          "text": [
            "405/405 [==============================] - 10s 24ms/step - loss: 9.8430 - mae: 2.4757\n",
            "Test MAE: 2.48\n"
          ]
        }
      ],
      "source": [
        "model = keras.models.load_model(\"jena_stacked_gru_dropout.keras\")\n",
        "print(f\"Test MAE: {model.evaluate(test_dataset)[1]:.2f}\")"
      ]
    },
    {
      "cell_type": "code",
      "execution_count": 44,
      "metadata": {},
      "outputs": [
        {
          "data": {
            "image/png": "[encoded data removed]",
            "text/plain": [
              "<Figure size 432x288 with 1 Axes>"
            ]
          },
          "metadata": {
            "needs_background": "light"
          },
          "output_type": "display_data"
        }
      ],
      "source": [
        "visualize_mae(history, \"Training and Validation MAE\")"
      ]
    },
    {
      "cell_type": "markdown",
      "metadata": {
        "id": "vzxgioBNO5TC"
      },
      "source": [
        "## Bidirectional RNN"
      ]
    },
    {
      "cell_type": "markdown",
      "metadata": {},
      "source": [
        "- The last technique we’ll look at is the bidirectional RNN. \n",
        "\n",
        "- A bidirectional RNN is a common RNN variant that can offer greater performance than a regular RNN on certain tasks. \n",
        "\n",
        "- It’s frequently used in natural language processing—you could call it the Swiss Army knife of deep learning for natural language processing"
      ]
    },
    {
      "cell_type": "markdown",
      "metadata": {},
      "source": [
        "- You’ll find that it doesn’t perform as well as the plain LSTM layer since  all the predictive capacity must come from the chronological half of the\n",
        "network, because the antichronological half is known to be severely underperforming\n",
        "on this task (again, because the recent past matters much more than the distant past,\n",
        "in this case). \n",
        "\n",
        "- At the same time, the presence of the antichronological half doubles the network’s capacity and causes it to start overfitting much earlier.\n",
        "\n",
        "- However, bidirectional RNNs are a great fit for text data, or any other kind of data\n",
        "where order matters, yet where which order you use doesn’t matter. \n",
        "\n",
        "- In fact, for a while in 2016, bidirectional LSTMs were considered the state of the art on many natural language processing tasks (before the rise of the Transformer architecture)"
      ]
    },
    {
      "cell_type": "markdown",
      "metadata": {
        "id": "2XvBFoU4O5TC"
      },
      "source": [
        "**Training and evaluating a bidirectional LSTM**"
      ]
    },
    {
      "cell_type": "code",
      "execution_count": 45,
      "metadata": {
        "id": "jntiIo-uO5TC"
      },
      "outputs": [],
      "source": [
        "inputs = keras.Input(shape=(sequence_length, raw_data.shape[-1]))\n",
        "\n",
        "x = layers.Bidirectional(layers.LSTM(16))(inputs)\n",
        "\n",
        "outputs = layers.Dense(1)(x)\n",
        "\n",
        "model = keras.Model(inputs, outputs)"
      ]
    },
    {
      "cell_type": "code",
      "execution_count": 46,
      "metadata": {},
      "outputs": [
        {
          "name": "stdout",
          "output_type": "stream",
          "text": [
            "Epoch 1/5\n",
            "819/819 [==============================] - 46s 53ms/step - loss: 28.7066 - mae: 3.8249 - val_loss: 10.8151 - val_mae: 2.5471\n",
            "Epoch 2/5\n",
            "819/819 [==============================] - 47s 57ms/step - loss: 9.4020 - mae: 2.3933 - val_loss: 9.5691 - val_mae: 2.3854\n",
            "Epoch 3/5\n",
            "819/819 [==============================] - 46s 57ms/step - loss: 8.4517 - mae: 2.2606 - val_loss: 9.4533 - val_mae: 2.3619\n",
            "Epoch 4/5\n",
            "819/819 [==============================] - 46s 56ms/step - loss: 7.9258 - mae: 2.1868 - val_loss: 9.4290 - val_mae: 2.3604\n",
            "Epoch 5/5\n",
            "819/819 [==============================] - 49s 60ms/step - loss: 7.5546 - mae: 2.1369 - val_loss: 9.6947 - val_mae: 2.4016\n"
          ]
        }
      ],
      "source": [
        "\n",
        "model.compile(optimizer=\"rmsprop\", loss=\"mse\", metrics=[\"mae\"])\n",
        "history = model.fit(train_dataset,\n",
        "                    epochs=5,\n",
        "                    validation_data=val_dataset)"
      ]
    },
    {
      "cell_type": "code",
      "execution_count": 47,
      "metadata": {},
      "outputs": [
        {
          "data": {
            "image/png": "[encoded data removed]",
            "text/plain": [
              "<Figure size 432x288 with 1 Axes>"
            ]
          },
          "metadata": {
            "needs_background": "light"
          },
          "output_type": "display_data"
        }
      ],
      "source": [
        "visualize_mae(history, \"Training and Validation MAE\")"
      ]
    }
  ],
  "metadata": {
    "colab": {
      "collapsed_sections": [],
      "name": "chapter10_dl-for-timeseries.i",
      "provenance": [],
      "toc_visible": true
    },
    "kernelspec": {
      "display_name": "Python 3",
      "language": "python",
      "name": "python3"
    },
    "language_info": {
      "codemirror_mode": {
        "name": "ipython",
        "version": 3
      },
      "file_extension": ".py",
      "mimetype": "text/x-python",
      "name": "python",
      "nbconvert_exporter": "python",
      "pygments_lexer": "ipython3",
      "version": "3.8.12"
    }
  },
  "nbformat": 4,
  "nbformat_minor": 0
}
