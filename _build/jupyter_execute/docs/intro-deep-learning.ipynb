{
 "cells": [
  {
   "cell_type": "markdown",
   "metadata": {
    "slideshow": {
     "slide_type": "slide"
    }
   },
   "source": [
    "# Deep Learning notebook\n",
    "\n",
    "\n",
    "<img src=\"https://www.tensorflow.org/site-assets/images/marketing/home/model.svg\">\n",
    "\n",
    "<sub>*Photo credit: TensorFlow*<sub>  \n",
    "\n",
    "Prof. Dr. Jan Kirenz  \n",
    "HdM Stuttgart"
   ]
  },
  {
   "cell_type": "markdown",
   "metadata": {
    "slideshow": {
     "slide_type": "notes"
    }
   },
   "source": [
    "<table class=\"tfo-notebook-buttons\" align=\"left\">\n",
    "  <td>\n",
    "    <a target=\"_blank\" href=\"https://www.tensorflow.org/tutorials/quickstart/beginner\"><img src=\"https://www.tensorflow.org/images/tf_logo_32px.png\" />View on TensorFlow.org</a>\n",
    "  </td>\n",
    "  <td>\n",
    "    <a target=\"_blank\" href=\"https://colab.research.google.com/github/tensorflow/docs/blob/master/site/en/tutorials/quickstart/beginner.ipynb\"><img src=\"https://www.tensorflow.org/images/colab_logo_32px.png\" />Run in Google Colab</a>\n",
    "  </td>\n",
    "  <td>\n",
    "    <a target=\"_blank\" href=\"https://github.com/tensorflow/docs/blob/master/site/en/tutorials/quickstart/beginner.ipynb\"><img src=\"https://www.tensorflow.org/images/GitHub-Mark-32px.png\" />View source on GitHub</a>\n",
    "  </td>\n",
    "  <td>\n",
    "    <a href=\"https://storage.googleapis.com/tensorflow_docs/docs/site/en/tutorials/quickstart/beginner.ipynb\"><img src=\"https://www.tensorflow.org/images/download_logo_32px.png\" />Download notebook</a>\n",
    "  </td>\n",
    "</table>"
   ]
  },
  {
   "cell_type": "markdown",
   "metadata": {
    "slideshow": {
     "slide_type": "slide"
    }
   },
   "source": [
    "[![Intro to Machine Learning](https://img.youtube.com/vi/KNAWp2S3w94/0.jpg)](https://www.youtube.com/watch?v=KNAWp2S3w94 \"Intro to Machine Learning\")  \n",
    "*This tutorial is based on Lawrence Moroney's excellent video tutorial [Intro to Machine Learning](https://www.youtube.com/watch?v=KNAWp2S3w94).*"
   ]
  },
  {
   "cell_type": "markdown",
   "metadata": {
    "slideshow": {
     "slide_type": "slide"
    }
   },
   "source": [
    "- First of all, we create some data in Python. \n",
    "- In particular, we create two variables *x* and *y* with 6 values respectively. \n",
    "\n",
    "A Python library called **NumPy** provides lots of array type data structures to do this. \n",
    "\n",
    "1. Import the library ``numpy`` as ``np`` and \n",
    "2. specify the values for *x* and *y* as an array in NumPy with ``np.array[]``. We use datatype *float*."
   ]
  },
  {
   "cell_type": "code",
   "execution_count": 1,
   "metadata": {
    "slideshow": {
     "slide_type": "fragment"
    }
   },
   "outputs": [],
   "source": [
    "# Create some data\n",
    "import numpy as np\n",
    "\n",
    "x = np.array([-1.0, 0.0, 1.0, 2.0, 3.0, 4.0], dtype=float)\n",
    "y = np.array([-2.0, 1.0, 4.0, 7.0, 10.0, 13.0], dtype=float)"
   ]
  },
  {
   "cell_type": "markdown",
   "metadata": {
    "slideshow": {
     "slide_type": "slide"
    }
   },
   "source": [
    "Now let's take a look at the numbers.  \n",
    "Can you see the relationship between them?\n",
    "\n",
    "\n",
    "| Variable   | Value 1   | Value 2   | Value 3   | Value 4   | Value 5   | Value 6  |\n",
    "|---|---|---|---|---|---|---|\n",
    "| x | -1 | 0 | 1 | 2 | 3 | 4 |\n",
    "| y | -2 | 1 | 4 | 7 | 10 | 13 |"
   ]
  },
  {
   "cell_type": "markdown",
   "metadata": {
    "slideshow": {
     "slide_type": "notes"
    }
   },
   "source": [
    "As you look at them, you might notice that the value of x is increasing by 1 as you read left to right and the corresponding value of y is increasing by 3. \n",
    "You probably think that y equals 3 times x plus or minus something. Then, you'd probably look at the 0 on x and see that y is 1, and you'd come up with the relationship: \n",
    "\n",
    "$y = 3x + 1.$\n",
    "\n",
    "That's almost exactly how you would use code to train a model to spot the patterns in the data! How would you train a neural network to do the equivalent task? By feeding it with your set of x's and y's, it should be able to figure out the relationship between them.\n",
    "\n",
    "But before we train our model, let`s first use the Python library **seaborn** to visualize the realtionship between x and y."
   ]
  },
  {
   "cell_type": "code",
   "execution_count": 2,
   "metadata": {
    "slideshow": {
     "slide_type": "slide"
    }
   },
   "outputs": [
    {
     "name": "stdout",
     "output_type": "stream",
     "text": [
      "y = 3x + 1\n"
     ]
    },
    {
     "data": {
      "image/png": "[encoded data removed]",
      "text/plain": [
       "<Figure size 432x288 with 1 Axes>"
      ]
     },
     "metadata": {
      "filenames": {
       "image/png": "/Users/jankirenz/books/deep-learning/_build/jupyter_execute/docs/intro-deep-learning_7_1.png"
      },
      "needs_background": "light"
     },
     "output_type": "display_data"
    }
   ],
   "source": [
    "# Plot relationship with scatterplot\n",
    "import seaborn as sns\n",
    "\n",
    "sns.scatterplot(x=x,y=y);\n",
    "\n",
    "print(\"y = 3x + 1\")"
   ]
  },
  {
   "cell_type": "markdown",
   "metadata": {
    "slideshow": {
     "slide_type": "slide"
    }
   },
   "source": [
    "\n",
    "# Neural Network\n",
    "\n",
    "- We import **TensorFlow** and calling it ``tf`` for ease of use. \n",
    "- The framework for defining a neural network as a set of sequential layers is called ``keras``, so import that, too."
   ]
  },
  {
   "cell_type": "code",
   "execution_count": 3,
   "metadata": {
    "slideshow": {
     "slide_type": "fragment"
    }
   },
   "outputs": [
    {
     "ename": "ModuleNotFoundError",
     "evalue": "No module named 'tensorflow'",
     "output_type": "error",
     "traceback": [
      "\u001b[0;31m---------------------------------------------------------------------------\u001b[0m",
      "\u001b[0;31mModuleNotFoundError\u001b[0m                       Traceback (most recent call last)",
      "\u001b[0;32m/var/folders/sl/9n0p_v712g9ftpzq9r9c254w0000gn/T/ipykernel_11065/4055475441.py\u001b[0m in \u001b[0;36m<module>\u001b[0;34m\u001b[0m\n\u001b[1;32m      1\u001b[0m \u001b[0;31m# Import TensorFlow and Keras\u001b[0m\u001b[0;34m\u001b[0m\u001b[0;34m\u001b[0m\u001b[0m\n\u001b[1;32m      2\u001b[0m \u001b[0;34m\u001b[0m\u001b[0m\n\u001b[0;32m----> 3\u001b[0;31m \u001b[0;32mimport\u001b[0m \u001b[0mtensorflow\u001b[0m \u001b[0;32mas\u001b[0m \u001b[0mtf\u001b[0m\u001b[0;34m\u001b[0m\u001b[0;34m\u001b[0m\u001b[0m\n\u001b[0m\u001b[1;32m      4\u001b[0m \u001b[0;32mfrom\u001b[0m \u001b[0mtensorflow\u001b[0m \u001b[0;32mimport\u001b[0m \u001b[0mkeras\u001b[0m\u001b[0;34m\u001b[0m\u001b[0;34m\u001b[0m\u001b[0m\n",
      "\u001b[0;31mModuleNotFoundError\u001b[0m: No module named 'tensorflow'"
     ]
    }
   ],
   "source": [
    "# Import TensorFlow and Keras \n",
    "\n",
    "import tensorflow as tf\n",
    "from tensorflow import keras"
   ]
  },
  {
   "cell_type": "markdown",
   "metadata": {
    "slideshow": {
     "slide_type": "slide"
    }
   },
   "source": [
    "## Define and compile the neural network\n",
    "\n",
    "First, we create the simplest possible neural network:\n",
    "\n",
    "- it has one layer (``keras.layers.Dense()``), \n",
    "- that layer has one neuron (``units=1``), \n",
    "- and the input shape to it is only one value (``input_shape=[1]``)."
   ]
  },
  {
   "cell_type": "code",
   "execution_count": 5,
   "metadata": {
    "slideshow": {
     "slide_type": "fragment"
    }
   },
   "outputs": [
    {
     "name": "stderr",
     "output_type": "stream",
     "text": [
      "2022-03-05 13:16:23.316110: I tensorflow/core/platform/cpu_feature_guard.cc:151] This TensorFlow binary is optimized with oneAPI Deep Neural Network Library (oneDNN) to use the following CPU instructions in performance-critical operations:  AVX2 FMA\n",
      "To enable them in other operations, rebuild TensorFlow with the appropriate compiler flags.\n"
     ]
    }
   ],
   "source": [
    "# Define neural network\n",
    "\n",
    "model = tf.keras.Sequential([keras.layers.Dense(units=1, input_shape=[1])])"
   ]
  },
  {
   "cell_type": "markdown",
   "metadata": {
    "slideshow": {
     "slide_type": "slide"
    }
   },
   "source": [
    "- Next, we write the code to ``compile`` your neural network. \n",
    "- When you do so, you need to specify two functions:  \n",
    "\n",
    "  - an ``optimizer`` and\n",
    "  - a ``loss`` function.\n",
    "\n",
    "\n",
    "- We use **mean_squared_error** for the loss and **stochastic gradient descent (sgd)** for the optimizer.   \n",
    "- You don't need to understand the math for those yet, but you can see that they work!"
   ]
  },
  {
   "cell_type": "code",
   "execution_count": 6,
   "metadata": {
    "slideshow": {
     "slide_type": "fragment"
    }
   },
   "outputs": [],
   "source": [
    "# Compile neural network\n",
    "\n",
    "model.compile(optimizer='sgd', loss='mean_squared_error')"
   ]
  },
  {
   "cell_type": "markdown",
   "metadata": {
    "slideshow": {
     "slide_type": "notes"
    }
   },
   "source": [
    "In this example, you know that the relationship between the numbers is $y=3x+1$. \n",
    "\n",
    "1. When the computer is trying to learn that, it makes a guess, maybe $y=10x+10$. \n",
    "2. The **loss** function measures the guessed answers against the known correct answers and measures how well or badly it did.\n",
    "3. Next, the model uses the **optimizer** function to make another guess. \n",
    "4. Based on the **loss** function's result, it tries to minimize the loss. At this point, maybe it will come up with something like $y=5x+5$. While that's still pretty bad, it's closer to the correct result (the loss is lower).\n",
    "5. The model repeats that for the number of **epochs**, which you'll see shortly.\n",
    "\n",
    "Now you have all the code you need to define the neural network. The next step is to train it to see if it can infer the patterns between those numbers and use them to create a model."
   ]
  },
  {
   "cell_type": "markdown",
   "metadata": {
    "slideshow": {
     "slide_type": "notes"
    }
   },
   "source": [
    "## Train the neural network\n",
    "\n",
    "The process of training the neural network, where it learns the relationship between the x's and y's, is in the ``model.fit`` call. That's where it will go through the loop before making a guess, measuring how good or bad it is (the loss), or using the optimizer to make another guess. It will do that for the number of **epochs** that you specify. \n",
    "\n",
    "When you run that code, you'll see the loss will be printed out for each epoch. \n",
    "\n",
    "For example, you can see that for the first few epochs, the loss value is quite large, but it's getting smaller with each step. As the training progresses, the loss soon gets very small.\n",
    "By the time the training is done, the loss is extremely small, showing that our model is doing a great job of inferring the relationship between the numbers.\n"
   ]
  },
  {
   "cell_type": "code",
   "execution_count": 7,
   "metadata": {
    "slideshow": {
     "slide_type": "slide"
    }
   },
   "outputs": [
    {
     "name": "stdout",
     "output_type": "stream",
     "text": [
      "Epoch 1/50\n",
      "1/1 [==============================] - 0s 168ms/step - loss: 40.4891\n",
      "Epoch 2/50\n",
      "1/1 [==============================] - 0s 2ms/step - loss: 31.8584\n",
      "Epoch 3/50\n",
      "1/1 [==============================] - 0s 2ms/step - loss: 25.0681\n",
      "Epoch 4/50\n",
      "1/1 [==============================] - 0s 2ms/step - loss: 19.7257\n",
      "Epoch 5/50\n",
      "1/1 [==============================] - 0s 2ms/step - loss: 15.5225\n",
      "Epoch 6/50\n",
      "1/1 [==============================] - 0s 2ms/step - loss: 12.2156\n",
      "Epoch 7/50\n",
      "1/1 [==============================] - 0s 2ms/step - loss: 9.6138\n",
      "Epoch 8/50\n",
      "1/1 [==============================] - 0s 2ms/step - loss: 7.5668\n",
      "Epoch 9/50\n",
      "1/1 [==============================] - 0s 2ms/step - loss: 5.9562\n",
      "Epoch 10/50\n",
      "1/1 [==============================] - 0s 2ms/step - loss: 4.6890\n",
      "Epoch 11/50\n",
      "1/1 [==============================] - 0s 2ms/step - loss: 3.6920\n",
      "Epoch 12/50\n",
      "1/1 [==============================] - 0s 2ms/step - loss: 2.9075\n",
      "Epoch 13/50\n",
      "1/1 [==============================] - 0s 2ms/step - loss: 2.2903\n",
      "Epoch 14/50\n",
      "1/1 [==============================] - 0s 2ms/step - loss: 1.8046\n",
      "Epoch 15/50\n",
      "1/1 [==============================] - 0s 2ms/step - loss: 1.4224\n",
      "Epoch 16/50\n",
      "1/1 [==============================] - 0s 2ms/step - loss: 1.1217\n",
      "Epoch 17/50\n",
      "1/1 [==============================] - 0s 2ms/step - loss: 0.8851\n",
      "Epoch 18/50\n",
      "1/1 [==============================] - 0s 2ms/step - loss: 0.6988\n",
      "Epoch 19/50\n",
      "1/1 [==============================] - 0s 2ms/step - loss: 0.5523\n",
      "Epoch 20/50\n",
      "1/1 [==============================] - 0s 2ms/step - loss: 0.4369\n",
      "Epoch 21/50\n",
      "1/1 [==============================] - 0s 2ms/step - loss: 0.3461\n",
      "Epoch 22/50\n",
      "1/1 [==============================] - 0s 2ms/step - loss: 0.2746\n",
      "Epoch 23/50\n",
      "1/1 [==============================] - 0s 2ms/step - loss: 0.2183\n",
      "Epoch 24/50\n",
      "1/1 [==============================] - 0s 2ms/step - loss: 0.1740\n",
      "Epoch 25/50\n",
      "1/1 [==============================] - 0s 2ms/step - loss: 0.1390\n",
      "Epoch 26/50\n",
      "1/1 [==============================] - 0s 2ms/step - loss: 0.1115\n",
      "Epoch 27/50\n",
      "1/1 [==============================] - 0s 9ms/step - loss: 0.0898\n",
      "Epoch 28/50\n",
      "1/1 [==============================] - 0s 2ms/step - loss: 0.0727\n",
      "Epoch 29/50\n",
      "1/1 [==============================] - 0s 2ms/step - loss: 0.0592\n",
      "Epoch 30/50\n",
      "1/1 [==============================] - 0s 2ms/step - loss: 0.0485\n",
      "Epoch 31/50\n",
      "1/1 [==============================] - 0s 2ms/step - loss: 0.0401\n",
      "Epoch 32/50\n",
      "1/1 [==============================] - 0s 2ms/step - loss: 0.0334\n",
      "Epoch 33/50\n",
      "1/1 [==============================] - 0s 2ms/step - loss: 0.0281\n",
      "Epoch 34/50\n",
      "1/1 [==============================] - 0s 2ms/step - loss: 0.0239\n",
      "Epoch 35/50\n",
      "1/1 [==============================] - 0s 2ms/step - loss: 0.0206\n",
      "Epoch 36/50\n",
      "1/1 [==============================] - 0s 2ms/step - loss: 0.0179\n",
      "Epoch 37/50\n",
      "1/1 [==============================] - 0s 2ms/step - loss: 0.0158\n",
      "Epoch 38/50\n",
      "1/1 [==============================] - 0s 2ms/step - loss: 0.0141\n",
      "Epoch 39/50\n",
      "1/1 [==============================] - 0s 2ms/step - loss: 0.0127\n",
      "Epoch 40/50\n",
      "1/1 [==============================] - 0s 2ms/step - loss: 0.0116\n",
      "Epoch 41/50\n",
      "1/1 [==============================] - 0s 2ms/step - loss: 0.0107\n",
      "Epoch 42/50\n",
      "1/1 [==============================] - 0s 2ms/step - loss: 0.0099\n",
      "Epoch 43/50\n",
      "1/1 [==============================] - 0s 2ms/step - loss: 0.0093\n",
      "Epoch 44/50\n",
      "1/1 [==============================] - 0s 2ms/step - loss: 0.0088\n",
      "Epoch 45/50\n",
      "1/1 [==============================] - 0s 1ms/step - loss: 0.0083\n",
      "Epoch 46/50\n",
      "1/1 [==============================] - 0s 2ms/step - loss: 0.0080\n",
      "Epoch 47/50\n",
      "1/1 [==============================] - 0s 2ms/step - loss: 0.0076\n",
      "Epoch 48/50\n",
      "1/1 [==============================] - 0s 2ms/step - loss: 0.0074\n",
      "Epoch 49/50\n",
      "1/1 [==============================] - 0s 2ms/step - loss: 0.0071\n",
      "Epoch 50/50\n",
      "1/1 [==============================] - 0s 2ms/step - loss: 0.0069\n"
     ]
    },
    {
     "data": {
      "text/plain": [
       "<keras.callbacks.History at 0x7fbe11836670>"
      ]
     },
     "execution_count": 7,
     "metadata": {},
     "output_type": "execute_result"
    }
   ],
   "source": [
    "# Train neural network\n",
    "\n",
    "model.fit(x, y, epochs=50)"
   ]
  },
  {
   "cell_type": "markdown",
   "metadata": {
    "slideshow": {
     "slide_type": "notes"
    }
   },
   "source": [
    "## Use the model\n",
    "\n",
    "You now have a model that has been trained to learn the relationship between x and y. You can use the ``model.predict`` method to have it figure out the y for a previously unknown x. \n",
    "\n",
    "For example, if x is 10, what do you think y will be? Take a guess before you run the following code:"
   ]
  },
  {
   "cell_type": "code",
   "execution_count": 8,
   "metadata": {
    "slideshow": {
     "slide_type": "slide"
    }
   },
   "outputs": [
    {
     "name": "stdout",
     "output_type": "stream",
     "text": [
      "[[31.170954]]\n"
     ]
    }
   ],
   "source": [
    "# Make a prediction\n",
    "\n",
    "print(model.predict([10.0]))"
   ]
  },
  {
   "cell_type": "markdown",
   "metadata": {
    "slideshow": {
     "slide_type": "notes"
    }
   },
   "source": [
    "You might have thought 31, but it ended up not exactly there.  Why do you think that is?\n",
    "\n",
    "Neural networks deal with probabilities, so it calculated that there is a very high probability that the relationship between x and y is $y=3x+1$, but it can't know for sure with only six data points. Therefore, the result is very close to 31, but not necessarily 31.\n",
    "\n",
    "As you work with neural networks, you'll see that pattern recurring. You will almost always deal with probabilities, not certainties, and will do a little bit of coding to figure out what the result is based on the probabilities.\n",
    "\n",
    "---"
   ]
  },
  {
   "cell_type": "code",
   "execution_count": 9,
   "metadata": {
    "slideshow": {
     "slide_type": "slide"
    }
   },
   "outputs": [
    {
     "name": "stdout",
     "output_type": "stream",
     "text": [
      "[[31.005653]]\n"
     ]
    }
   ],
   "source": [
    "# Summary\n",
    "\n",
    "# Import modules\n",
    "import numpy as np\n",
    "import tensorflow as tf\n",
    "from tensorflow import keras\n",
    "\n",
    "# Data\n",
    "x = np.array([-1.0, 0.0, 1.0, 2.0, 3.0, 4.0], dtype=float)\n",
    "y = np.array([-2.0, 1.0, 4.0, 7.0, 10.0, 13.0], dtype=float)\n",
    "\n",
    "# Model definition\n",
    "model = tf.keras.Sequential([keras.layers.Dense(units=1, input_shape=[1])])\n",
    "model.compile(optimizer='sgd', loss='mean_squared_error')\n",
    "\n",
    "# Model fitting\n",
    "model.fit(x, y, epochs=50, verbose=0)\n",
    "\n",
    "# Model prediction\n",
    "print(model.predict([10.0]))"
   ]
  }
 ],
 "metadata": {
  "celltoolbar": "Slideshow",
  "interpreter": {
   "hash": "09dae4df73b471858248f7b697ec2bb8ee523eef7d0b410e464ff3946da6c31d"
  },
  "kernelspec": {
   "display_name": "Python [conda env:tf]",
   "language": "python",
   "name": "python3"
  },
  "language_info": {
   "codemirror_mode": {
    "name": "ipython",
    "version": 3
   },
   "file_extension": ".py",
   "mimetype": "text/x-python",
   "name": "python",
   "nbconvert_exporter": "python",
   "pygments_lexer": "ipython3",
   "version": "3.9.7"
  },
  "rise": {
   "enable_chalkboard": true
  },
  "varInspector": {
   "cols": {
    "lenName": 16,
    "lenType": 16,
    "lenVar": 40
   },
   "kernels_config": {
    "python": {
     "delete_cmd_postfix": "",
     "delete_cmd_prefix": "del ",
     "library": "var_list.py",
     "varRefreshCmd": "print(var_dic_list())"
    },
    "r": {
     "delete_cmd_postfix": ") ",
     "delete_cmd_prefix": "rm(",
     "library": "var_list.r",
     "varRefreshCmd": "cat(var_dic_list()) "
    }
   },
   "types_to_exclude": [
    "module",
    "function",
    "builtin_function_or_method",
    "instance",
    "_Feature"
   ],
   "window_display": false
  }
 },
 "nbformat": 4,
 "nbformat_minor": 4
}