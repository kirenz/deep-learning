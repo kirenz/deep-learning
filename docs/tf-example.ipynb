{
 "cells": [
  {
   "cell_type": "markdown",
   "metadata": {
    "slideshow": {
     "slide_type": "slide"
    }
   },
   "source": [
    "# TensorFlow Example\n",
    "\n",
    "\n",
    "<img src=\"https://www.tensorflow.org/site-assets/images/marketing/home/model.svg\">\n",
    "\n",
    "<sub>*Photo credit: TensorFlow*<sub>  "
   ]
  },
  {
   "cell_type": "markdown",
   "metadata": {
    "slideshow": {
     "slide_type": "slide"
    }
   },
   "source": [
    "[![Intro to Machine Learning](https://img.youtube.com/vi/KNAWp2S3w94/0.jpg)](https://www.youtube.com/watch?v=KNAWp2S3w94 \"Intro to Machine Learning\")  \n",
    "*This tutorial is based on Lawrence Moroney's excellent video tutorial [Intro to Machine Learning](https://www.youtube.com/watch?v=KNAWp2S3w94).*"
   ]
  },
  {
   "cell_type": "markdown",
   "metadata": {
    "slideshow": {
     "slide_type": "slide"
    }
   },
   "source": [
    "- First of all, we create some data in Python. \n",
    "- In particular, we create two variables *x* and *y* with 6 values respectively. \n",
    "\n",
    "A Python library called **NumPy** provides lots of array type data structures to do this. \n",
    "\n",
    "1. Import the library ``numpy`` as ``np`` and \n",
    "2. specify the values for *x* and *y* as an array in NumPy with ``np.array[]``. We use datatype *float*."
   ]
  },
  {
   "cell_type": "code",
   "execution_count": 1,
   "metadata": {
    "slideshow": {
     "slide_type": "fragment"
    }
   },
   "outputs": [],
   "source": [
    "# Create some data\n",
    "import numpy as np\n",
    "\n",
    "x = np.array([-1.0, 0.0, 1.0, 2.0, 3.0, 4.0], dtype=float)\n",
    "y = np.array([-2.0, 1.0, 4.0, 7.0, 10.0, 13.0], dtype=float)"
   ]
  },
  {
   "cell_type": "markdown",
   "metadata": {
    "slideshow": {
     "slide_type": "slide"
    }
   },
   "source": [
    "Now let's take a look at the numbers.  \n",
    "Can you see the relationship between them?\n",
    "\n",
    "\n",
    "| Variable   | Value 1   | Value 2   | Value 3   | Value 4   | Value 5   | Value 6  |\n",
    "|---|---|---|---|---|---|---|\n",
    "| x | -1 | 0 | 1 | 2 | 3 | 4 |\n",
    "| y | -2 | 1 | 4 | 7 | 10 | 13 |"
   ]
  },
  {
   "cell_type": "markdown",
   "metadata": {
    "slideshow": {
     "slide_type": "notes"
    }
   },
   "source": [
    "As you look at them, you might notice that the value of x is increasing by 1 as you read left to right and the corresponding value of y is increasing by 3. \n",
    "You probably think that y equals 3 times x plus or minus something. Then, you'd probably look at the 0 on x and see that y is 1, and you'd come up with the relationship: \n",
    "\n",
    "$y = 3x + 1.$\n",
    "\n",
    "That's almost exactly how you would use code to train a model to spot the patterns in the data! How would you train a neural network to do the equivalent task? By feeding it with your set of x's and y's, it should be able to figure out the relationship between them.\n",
    "\n",
    "But before we train our model, let`s first use the Python library **seaborn** to visualize the realtionship between x and y."
   ]
  },
  {
   "cell_type": "code",
   "execution_count": 3,
   "metadata": {
    "slideshow": {
     "slide_type": "slide"
    }
   },
   "outputs": [
    {
     "name": "stdout",
     "output_type": "stream",
     "text": [
      "y = 3x + 1\n"
     ]
    },
    {
     "data": {
      "image/png": "[encoded data removed]",
      "text/plain": [
       "<Figure size 432x288 with 1 Axes>"
      ]
     },
     "metadata": {
      "needs_background": "light"
     },
     "output_type": "display_data"
    }
   ],
   "source": [
    "# Plot relationship with scatterplot\n",
    "import seaborn as sns\n",
    "\n",
    "sns.scatterplot(x=x,y=y);\n",
    "\n",
    "print(\"y = 3x + 1\")"
   ]
  },
  {
   "cell_type": "markdown",
   "metadata": {
    "slideshow": {
     "slide_type": "slide"
    }
   },
   "source": [
    "\n",
    "# Neural Network\n",
    "\n",
    "- We import **TensorFlow** and calling it ``tf`` for ease of use. \n",
    "- The framework for defining a neural network as a set of sequential layers is called ``keras``, so import that, too."
   ]
  },
  {
   "cell_type": "code",
   "execution_count": 4,
   "metadata": {
    "slideshow": {
     "slide_type": "fragment"
    }
   },
   "outputs": [],
   "source": [
    "# Import TensorFlow and Keras \n",
    "\n",
    "import tensorflow as tf\n",
    "from tensorflow import keras"
   ]
  },
  {
   "cell_type": "markdown",
   "metadata": {
    "slideshow": {
     "slide_type": "slide"
    }
   },
   "source": [
    "## Define and compile the neural network\n",
    "\n",
    "First, we create the simplest possible neural network:\n",
    "\n",
    "- it has one layer (``keras.layers.Dense()``), \n",
    "- that layer has one neuron (``units=1``), \n",
    "- and the input shape to it is only one value (``input_shape=[1]``)."
   ]
  },
  {
   "cell_type": "code",
   "execution_count": 5,
   "metadata": {
    "slideshow": {
     "slide_type": "fragment"
    }
   },
   "outputs": [],
   "source": [
    "# Define neural network\n",
    "\n",
    "model = tf.keras.Sequential([\n",
    "    keras.layers.Dense(units=1, input_shape=[1])])"
   ]
  },
  {
   "cell_type": "markdown",
   "metadata": {
    "slideshow": {
     "slide_type": "slide"
    }
   },
   "source": [
    "- Next, we write the code to ``compile`` your neural network. \n",
    "- When you do so, you need to specify two functions:  \n",
    "\n",
    "  - an ``optimizer`` and\n",
    "  - a ``loss`` function.\n",
    "\n",
    "\n",
    "- We use **mean_squared_error** for the loss and **stochastic gradient descent (sgd)** for the optimizer.   \n",
    "- You don't need to understand the math for those yet, but you can see that they work!"
   ]
  },
  {
   "cell_type": "code",
   "execution_count": 6,
   "metadata": {
    "slideshow": {
     "slide_type": "fragment"
    }
   },
   "outputs": [],
   "source": [
    "# Compile neural network\n",
    "\n",
    "model.compile(optimizer='sgd', \n",
    "             loss='mean_squared_error')"
   ]
  },
  {
   "cell_type": "markdown",
   "metadata": {
    "slideshow": {
     "slide_type": "notes"
    }
   },
   "source": [
    "In this example, you know that the relationship between the numbers is $y=3x+1$. \n",
    "\n",
    "1. When the computer is trying to learn that, it makes a guess, maybe $y=10x+10$. \n",
    "2. The **loss** function measures the guessed answers against the known correct answers and measures how well or badly it did.\n",
    "3. Next, the model uses the **optimizer** function to make another guess. \n",
    "4. Based on the **loss** function's result, it tries to minimize the loss. At this point, maybe it will come up with something like $y=5x+5$. While that's still pretty bad, it's closer to the correct result (the loss is lower).\n",
    "5. The model repeats that for the number of **epochs**, which you'll see shortly.\n",
    "\n",
    "Now you have all the code you need to define the neural network. The next step is to train it to see if it can infer the patterns between those numbers and use them to create a model."
   ]
  },
  {
   "cell_type": "markdown",
   "metadata": {
    "slideshow": {
     "slide_type": "notes"
    }
   },
   "source": [
    "## Train the neural network\n",
    "\n",
    "The process of training the neural network, where it learns the relationship between the x's and y's, is in the ``model.fit`` call. That's where it will go through the loop before making a guess, measuring how good or bad it is (the loss), or using the optimizer to make another guess. It will do that for the number of **epochs** that you specify. \n",
    "\n",
    "When you run that code, you'll see the loss will be printed out for each epoch. \n",
    "\n",
    "For example, you can see that for the first few epochs, the loss value is quite large, but it's getting smaller with each step. As the training progresses, the loss soon gets very small.\n",
    "By the time the training is done, the loss is extremely small, showing that our model is doing a great job of inferring the relationship between the numbers.\n"
   ]
  },
  {
   "cell_type": "code",
   "execution_count": 7,
   "metadata": {
    "slideshow": {
     "slide_type": "slide"
    }
   },
   "outputs": [
    {
     "name": "stdout",
     "output_type": "stream",
     "text": [
      "Epoch 1/50\n",
      "1/1 [==============================] - 0s 99ms/step - loss: 78.0524\n",
      "Epoch 2/50\n",
      "1/1 [==============================] - 0s 1ms/step - loss: 61.4100\n",
      "Epoch 3/50\n",
      "1/1 [==============================] - 0s 1ms/step - loss: 48.3166\n",
      "Epoch 4/50\n",
      "1/1 [==============================] - 0s 1ms/step - loss: 38.0152\n",
      "Epoch 5/50\n",
      "1/1 [==============================] - 0s 1ms/step - loss: 29.9106\n",
      "Epoch 6/50\n",
      "1/1 [==============================] - 0s 1ms/step - loss: 23.5342\n",
      "Epoch 7/50\n",
      "1/1 [==============================] - 0s 1ms/step - loss: 18.5175\n",
      "Epoch 8/50\n",
      "1/1 [==============================] - 0s 1ms/step - loss: 14.5706\n",
      "Epoch 9/50\n",
      "1/1 [==============================] - 0s 1ms/step - loss: 11.4654\n",
      "Epoch 10/50\n",
      "1/1 [==============================] - 0s 1ms/step - loss: 9.0222\n",
      "Epoch 11/50\n",
      "1/1 [==============================] - 0s 1ms/step - loss: 7.1001\n",
      "Epoch 12/50\n",
      "1/1 [==============================] - 0s 1ms/step - loss: 5.5878\n",
      "Epoch 13/50\n",
      "1/1 [==============================] - 0s 1ms/step - loss: 4.3979\n",
      "Epoch 14/50\n",
      "1/1 [==============================] - 0s 2ms/step - loss: 3.4618\n",
      "Epoch 15/50\n",
      "1/1 [==============================] - 0s 1ms/step - loss: 2.7252\n",
      "Epoch 16/50\n",
      "1/1 [==============================] - 0s 1ms/step - loss: 2.1457\n",
      "Epoch 17/50\n",
      "1/1 [==============================] - 0s 1ms/step - loss: 1.6897\n",
      "Epoch 18/50\n",
      "1/1 [==============================] - 0s 1ms/step - loss: 1.3310\n",
      "Epoch 19/50\n",
      "1/1 [==============================] - 0s 1ms/step - loss: 1.0487\n",
      "Epoch 20/50\n",
      "1/1 [==============================] - 0s 1ms/step - loss: 0.8265\n",
      "Epoch 21/50\n",
      "1/1 [==============================] - 0s 2ms/step - loss: 0.6517\n",
      "Epoch 22/50\n",
      "1/1 [==============================] - 0s 2ms/step - loss: 0.5142\n",
      "Epoch 23/50\n",
      "1/1 [==============================] - 0s 1ms/step - loss: 0.4060\n",
      "Epoch 24/50\n",
      "1/1 [==============================] - 0s 1ms/step - loss: 0.3208\n",
      "Epoch 25/50\n",
      "1/1 [==============================] - 0s 1ms/step - loss: 0.2537\n",
      "Epoch 26/50\n",
      "1/1 [==============================] - 0s 1ms/step - loss: 0.2009\n",
      "Epoch 27/50\n",
      "1/1 [==============================] - 0s 1ms/step - loss: 0.1594\n",
      "Epoch 28/50\n",
      "1/1 [==============================] - 0s 2ms/step - loss: 0.1267\n",
      "Epoch 29/50\n",
      "1/1 [==============================] - 0s 2ms/step - loss: 0.1009\n",
      "Epoch 30/50\n",
      "1/1 [==============================] - 0s 1ms/step - loss: 0.0806\n",
      "Epoch 31/50\n",
      "1/1 [==============================] - 0s 1ms/step - loss: 0.0646\n",
      "Epoch 32/50\n",
      "1/1 [==============================] - 0s 1ms/step - loss: 0.0520\n",
      "Epoch 33/50\n",
      "1/1 [==============================] - 0s 1ms/step - loss: 0.0421\n",
      "Epoch 34/50\n",
      "1/1 [==============================] - 0s 1ms/step - loss: 0.0342\n",
      "Epoch 35/50\n",
      "1/1 [==============================] - 0s 1ms/step - loss: 0.0280\n",
      "Epoch 36/50\n",
      "1/1 [==============================] - 0s 2ms/step - loss: 0.0231\n",
      "Epoch 37/50\n",
      "1/1 [==============================] - 0s 2ms/step - loss: 0.0192\n",
      "Epoch 38/50\n",
      "1/1 [==============================] - 0s 3ms/step - loss: 0.0162\n",
      "Epoch 39/50\n",
      "1/1 [==============================] - 0s 2ms/step - loss: 0.0137\n"
     ]
    },
    {
     "name": "stderr",
     "output_type": "stream",
     "text": [
      "2022-06-30 21:11:32.750040: W tensorflow/core/platform/profile_utils/cpu_utils.cc:128] Failed to get CPU frequency: 0 Hz\n"
     ]
    },
    {
     "name": "stdout",
     "output_type": "stream",
     "text": [
      "Epoch 40/50\n",
      "1/1 [==============================] - 0s 2ms/step - loss: 0.0118\n",
      "Epoch 41/50\n",
      "1/1 [==============================] - 0s 1ms/step - loss: 0.0102\n",
      "Epoch 42/50\n",
      "1/1 [==============================] - 0s 2ms/step - loss: 0.0090\n",
      "Epoch 43/50\n",
      "1/1 [==============================] - 0s 3ms/step - loss: 0.0080\n",
      "Epoch 44/50\n",
      "1/1 [==============================] - 0s 2ms/step - loss: 0.0072\n",
      "Epoch 45/50\n",
      "1/1 [==============================] - 0s 1ms/step - loss: 0.0066\n",
      "Epoch 46/50\n",
      "1/1 [==============================] - 0s 1ms/step - loss: 0.0060\n",
      "Epoch 47/50\n",
      "1/1 [==============================] - 0s 995us/step - loss: 0.0056\n",
      "Epoch 48/50\n",
      "1/1 [==============================] - 0s 1ms/step - loss: 0.0053\n",
      "Epoch 49/50\n",
      "1/1 [==============================] - 0s 1ms/step - loss: 0.0050\n",
      "Epoch 50/50\n",
      "1/1 [==============================] - 0s 1ms/step - loss: 0.0047\n"
     ]
    },
    {
     "data": {
      "text/plain": [
       "<keras.callbacks.History at 0x1690a17e0>"
      ]
     },
     "execution_count": 7,
     "metadata": {},
     "output_type": "execute_result"
    }
   ],
   "source": [
    "# Train neural network\n",
    "\n",
    "model.fit(x, y, epochs=50)"
   ]
  },
  {
   "cell_type": "markdown",
   "metadata": {
    "slideshow": {
     "slide_type": "notes"
    }
   },
   "source": [
    "## Use the model\n",
    "\n",
    "You now have a model that has been trained to learn the relationship between x and y. You can use the ``model.predict`` method to have it figure out the y for a previously unknown x. \n",
    "\n",
    "For example, if x is 10, what do you think y will be? Take a guess before you run the following code:"
   ]
  },
  {
   "cell_type": "code",
   "execution_count": 8,
   "metadata": {
    "slideshow": {
     "slide_type": "slide"
    }
   },
   "outputs": [
    {
     "name": "stdout",
     "output_type": "stream",
     "text": [
      "[[30.722605]]\n"
     ]
    }
   ],
   "source": [
    "# Make a prediction\n",
    "\n",
    "print(model.predict([10.0]))"
   ]
  },
  {
   "cell_type": "markdown",
   "metadata": {
    "slideshow": {
     "slide_type": "notes"
    }
   },
   "source": [
    "You might have thought 31, but it ended up not exactly there.  Why do you think that is?\n",
    "\n",
    "Neural networks deal with probabilities, so it calculated that there is a very high probability that the relationship between x and y is $y=3x+1$, but it can't know for sure with only six data points. Therefore, the result is very close to 31, but not necessarily 31.\n",
    "\n",
    "As you work with neural networks, you'll see that pattern recurring. You will almost always deal with probabilities, not certainties, and will do a little bit of coding to figure out what the result is based on the probabilities.\n",
    "\n",
    "---"
   ]
  },
  {
   "cell_type": "code",
   "execution_count": 9,
   "metadata": {
    "slideshow": {
     "slide_type": "slide"
    }
   },
   "outputs": [
    {
     "name": "stdout",
     "output_type": "stream",
     "text": [
      "[[31.594315]]\n"
     ]
    }
   ],
   "source": [
    "# Summary\n",
    "\n",
    "# Import modules\n",
    "import numpy as np\n",
    "import tensorflow as tf\n",
    "from tensorflow import keras\n",
    "\n",
    "# Create some data\n",
    "x = np.array([-1.0, 0.0, 1.0, 2.0, 3.0, 4.0], dtype=float)\n",
    "y = np.array([-2.0, 1.0, 4.0, 7.0, 10.0, 13.0], dtype=float)\n",
    "\n",
    "# Model definition\n",
    "model = tf.keras.Sequential([\n",
    "    keras.layers.Dense(units=1, input_shape=[1])])\n",
    "\n",
    "# Compile model\n",
    "model.compile(optimizer='sgd', \n",
    "              loss='mean_squared_error')\n",
    "\n",
    "# Model fitting\n",
    "model.fit(x, y, epochs=50, verbose=0)\n",
    "\n",
    "# Model prediction\n",
    "print(model.predict([10.0]))"
   ]
  }
 ],
 "metadata": {
  "celltoolbar": "Slideshow",
  "kernelspec": {
   "display_name": "Python 3.10.4 ('tf2')",
   "language": "python",
   "name": "python3"
  },
  "language_info": {
   "codemirror_mode": {
    "name": "ipython",
    "version": 3
   },
   "file_extension": ".py",
   "mimetype": "text/x-python",
   "name": "python",
   "nbconvert_exporter": "python",
   "pygments_lexer": "ipython3",
   "version": "3.10.4"
  },
  "rise": {
   "enable_chalkboard": true
  },
  "varInspector": {
   "cols": {
    "lenName": 16,
    "lenType": 16,
    "lenVar": 40
   },
   "kernels_config": {
    "python": {
     "delete_cmd_postfix": "",
     "delete_cmd_prefix": "del ",
     "library": "var_list.py",
     "varRefreshCmd": "print(var_dic_list())"
    },
    "r": {
     "delete_cmd_postfix": ") ",
     "delete_cmd_prefix": "rm(",
     "library": "var_list.r",
     "varRefreshCmd": "cat(var_dic_list()) "
    }
   },
   "types_to_exclude": [
    "module",
    "function",
    "builtin_function_or_method",
    "instance",
    "_Feature"
   ],
   "window_display": false
  },
  "vscode": {
   "interpreter": {
    "hash": "ae37491be93ab49159331f0a34aabc23e6b831eda0a065a9b252432e581294a8"
   }
  }
 },
 "nbformat": 4,
 "nbformat_minor": 4
}
