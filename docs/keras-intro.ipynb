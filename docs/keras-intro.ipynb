{
  "cells": [
    {
      "cell_type": "markdown",
      "metadata": {
        "id": "vNUlG_SB58nr"
      },
      "source": [
        "# Keras models\n",
        "\n",
        "This is a companion notebook for the excellent book [Deep Learning with Python, Second Edition](https://www.manning.com/books/deep-learning-with-python-second-edition?a_aid=keras&a_bid=76564dff). \n",
        "\n",
        "This notebook was generated for TensorFlow 2.6."
      ]
    },
    {
      "cell_type": "markdown",
      "metadata": {
        "id": "gCiGrE3x58nu"
      },
      "source": [
        "## Different ways to build Keras models"
      ]
    },
    {
      "cell_type": "markdown",
      "metadata": {
        "id": "7mhwlGWJ58nv"
      },
      "source": [
        "### The Sequential model\n",
        "\n",
        "The Sequential model, the most approachable API—it’s basically a Python list. As such, it’s limited to simple (sequential) stacks of layers."
      ]
    },
    {
      "cell_type": "markdown",
      "metadata": {
        "id": "KLq_PhUt58nv"
      },
      "source": [
        "**The `Sequential` class**"
      ]
    },
    {
      "cell_type": "code",
      "execution_count": 1,
      "metadata": {
        "id": "OQUrtmbU58nv"
      },
      "outputs": [
        {
          "name": "stderr",
          "output_type": "stream",
          "text": [
            "2022-03-31 14:17:34.885677: I tensorflow/core/platform/cpu_feature_guard.cc:151] This TensorFlow binary is optimized with oneAPI Deep Neural Network Library (oneDNN) to use the following CPU instructions in performance-critical operations:  AVX2 FMA\n",
            "To enable them in other operations, rebuild TensorFlow with the appropriate compiler flags.\n"
          ]
        }
      ],
      "source": [
        "from tensorflow import keras\n",
        "from tensorflow.keras import layers\n",
        "\n",
        "model = keras.Sequential([\n",
        "    layers.Dense(64, activation=\"relu\"),\n",
        "    layers.Dense(10, activation=\"softmax\")\n",
        "])"
      ]
    },
    {
      "cell_type": "markdown",
      "metadata": {
        "id": "J5R91awq58nx"
      },
      "source": [
        "**Incrementally building a Sequential model**"
      ]
    },
    {
      "cell_type": "code",
      "execution_count": 2,
      "metadata": {
        "id": "xfse7qM958ny"
      },
      "outputs": [],
      "source": [
        "model = keras.Sequential()\n",
        "model.add(layers.Dense(64, activation=\"relu\"))\n",
        "model.add(layers.Dense(10, activation=\"softmax\"))"
      ]
    },
    {
      "cell_type": "markdown",
      "metadata": {
        "id": "Dss-M02g58ny"
      },
      "source": [
        "**Calling a model for the first time to build it**"
      ]
    },
    {
      "cell_type": "markdown",
      "metadata": {},
      "source": [
        "As input, we use `input_shape = (None, 3)`:\n",
        "\n",
        "- This means the number of samples per batch is variable (indicated by the `None` batch size).\n",
        "- The model will process batches where each sample has shape `(3,1)`, i.e. a simple array with 3 values. "
      ]
    },
    {
      "cell_type": "code",
      "execution_count": 3,
      "metadata": {
        "id": "NWXqIYR558nz"
      },
      "outputs": [
        {
          "data": {
            "text/plain": [
              "[<tf.Variable 'dense_2/kernel:0' shape=(3, 64) dtype=float32, numpy=\n",
              " array([[ 0.03373712,  0.2671157 ,  0.13327378,  0.1550805 ,  0.19931924,\n",
              "         -0.07308966, -0.0016838 , -0.18464865, -0.2592446 ,  0.21505326,\n",
              "          0.06285653,  0.09643739, -0.20686859,  0.2184332 , -0.1482696 ,\n",
              "         -0.1939669 ,  0.07906452,  0.20935374, -0.14667019, -0.10245556,\n",
              "          0.26021755, -0.22202364, -0.2033441 ,  0.28616434,  0.05176863,\n",
              "          0.26585698, -0.26252136,  0.00551108, -0.12317705,  0.29023314,\n",
              "          0.07716918, -0.27247947, -0.03886172,  0.28300858,  0.05526081,\n",
              "          0.22093803,  0.14790171,  0.19485155, -0.02762887,  0.1662159 ,\n",
              "          0.26405782, -0.09647278, -0.02765548,  0.05707493, -0.21533039,\n",
              "          0.14453328, -0.06212035,  0.07391107,  0.09139535,  0.06543401,\n",
              "         -0.03352281, -0.12256746,  0.23992735,  0.0975455 , -0.18405768,\n",
              "         -0.15366995,  0.26648736, -0.0106504 ,  0.16666618, -0.18852937,\n",
              "          0.13674384, -0.23937833, -0.21860203, -0.2949467 ],\n",
              "        [ 0.03549471, -0.10776758,  0.22046125, -0.16868694,  0.13285062,\n",
              "          0.22045887, -0.1702379 ,  0.1337041 , -0.28853464, -0.2034748 ,\n",
              "          0.18862298,  0.23432642,  0.21152025, -0.29908   , -0.23411432,\n",
              "          0.25570947, -0.24912989,  0.01643661, -0.15200356,  0.12057531,\n",
              "          0.09775212,  0.05316246, -0.24746257, -0.2978942 ,  0.24979365,\n",
              "          0.10301799,  0.19179094, -0.16308089, -0.18563224,  0.18210226,\n",
              "         -0.27560326, -0.13953595, -0.12056759, -0.13356131,  0.09466797,\n",
              "          0.17867073,  0.04581282, -0.22129261,  0.27281874,  0.08552074,\n",
              "         -0.06725715, -0.09985022,  0.02583313,  0.10097423, -0.20598567,\n",
              "          0.2851389 ,  0.09956035, -0.18072239,  0.02405143, -0.10410461,\n",
              "          0.24994665, -0.03776848,  0.23434532, -0.06485295, -0.02153409,\n",
              "          0.00650361, -0.2782544 , -0.21662578, -0.13855714,  0.16934791,\n",
              "         -0.24641111,  0.00881925,  0.15776223,  0.22333515],\n",
              "        [ 0.2142973 , -0.296379  ,  0.15471476,  0.13230297, -0.0784211 ,\n",
              "         -0.27014983,  0.28442168, -0.16964236,  0.14122024, -0.29317302,\n",
              "         -0.23086208,  0.18544552,  0.28999317,  0.19222996, -0.19348088,\n",
              "          0.08376873, -0.08146128, -0.14320163, -0.03696018,  0.18480703,\n",
              "         -0.01537988, -0.05821009, -0.17344204,  0.26319653, -0.01889157,\n",
              "         -0.11935705, -0.08247778, -0.2646894 , -0.11045039, -0.08104704,\n",
              "          0.19478455, -0.04579598, -0.27630347, -0.20255293,  0.11589235,\n",
              "         -0.06078987, -0.03228071, -0.18235561,  0.24025917, -0.18775132,\n",
              "         -0.13705392, -0.26146886, -0.23313195,  0.06410751, -0.26361263,\n",
              "         -0.13674763, -0.240298  , -0.08999102,  0.00245106, -0.09568268,\n",
              "         -0.24125056, -0.26558352, -0.02883121,  0.02380791,  0.17231533,\n",
              "         -0.00410891, -0.20436423, -0.2584431 ,  0.18069679,  0.28672677,\n",
              "         -0.28275394, -0.07092412, -0.11510931, -0.07019167]],\n",
              "       dtype=float32)>,\n",
              " <tf.Variable 'dense_2/bias:0' shape=(64,) dtype=float32, numpy=\n",
              " array([0., 0., 0., 0., 0., 0., 0., 0., 0., 0., 0., 0., 0., 0., 0., 0., 0.,\n",
              "        0., 0., 0., 0., 0., 0., 0., 0., 0., 0., 0., 0., 0., 0., 0., 0., 0.,\n",
              "        0., 0., 0., 0., 0., 0., 0., 0., 0., 0., 0., 0., 0., 0., 0., 0., 0.,\n",
              "        0., 0., 0., 0., 0., 0., 0., 0., 0., 0., 0., 0., 0.], dtype=float32)>,\n",
              " <tf.Variable 'dense_3/kernel:0' shape=(64, 10) dtype=float32, numpy=\n",
              " array([[ 6.86919987e-02,  1.45397127e-01, -1.08231738e-01,\n",
              "          1.49845362e-01, -1.78512484e-01, -1.75987676e-01,\n",
              "         -1.77497461e-01, -1.22441947e-02, -1.17332205e-01,\n",
              "          2.25560069e-02],\n",
              "        [-7.82769173e-02,  1.33068562e-01,  1.21745408e-01,\n",
              "          1.18023098e-01,  2.76218802e-01, -1.89379603e-01,\n",
              "         -2.52971768e-01,  2.56049246e-01,  2.43650109e-01,\n",
              "          9.79598463e-02],\n",
              "        [ 9.61896479e-02,  2.10611254e-01, -3.17393541e-02,\n",
              "         -2.33006284e-01, -8.24125707e-02, -2.03213036e-01,\n",
              "          5.18021286e-02,  1.36040449e-01, -2.68738121e-01,\n",
              "         -7.43986815e-02],\n",
              "        [ 1.16017669e-01, -1.96399540e-01, -8.61665010e-02,\n",
              "          2.77248412e-01,  3.25673223e-02, -2.74743795e-01,\n",
              "          2.50203937e-01,  1.85934782e-01,  2.45081276e-01,\n",
              "         -4.99900430e-02],\n",
              "        [-2.24155515e-01, -8.26914012e-02, -2.17538297e-01,\n",
              "         -1.13121375e-01,  2.33425409e-01,  1.46670192e-01,\n",
              "          2.58428454e-02, -7.04123080e-02, -1.95713311e-01,\n",
              "         -2.77774036e-01],\n",
              "        [ 2.62756377e-01, -2.01304257e-01,  1.51097387e-01,\n",
              "         -1.21255994e-01,  2.71281749e-01,  2.63106555e-01,\n",
              "         -2.02238753e-01, -1.32180557e-01, -5.59025705e-02,\n",
              "          2.47176141e-01],\n",
              "        [-1.23371542e-01, -3.00393403e-02, -1.71607271e-01,\n",
              "          1.39694601e-01,  2.74993926e-01, -1.88318580e-01,\n",
              "          1.76875949e-01,  2.52387971e-01, -3.69713753e-02,\n",
              "         -2.38022953e-01],\n",
              "        [-2.84881592e-02,  8.61000419e-02, -2.79638946e-01,\n",
              "         -2.63131708e-01, -1.13726273e-01, -2.41206601e-01,\n",
              "          1.66320741e-01,  1.15655422e-01, -2.42490515e-01,\n",
              "         -2.59016901e-01],\n",
              "        [-7.48016685e-02,  1.67061359e-01,  1.23274744e-01,\n",
              "          2.46772498e-01, -9.47704911e-03, -2.48500884e-01,\n",
              "          6.73195422e-02, -2.78089941e-02,  2.09132671e-01,\n",
              "         -2.21171528e-01],\n",
              "        [-6.75892085e-02,  2.42166847e-01, -8.51457268e-02,\n",
              "         -2.62025177e-01, -1.89731538e-01, -8.89372826e-03,\n",
              "          1.87098891e-01,  2.07327247e-01, -2.60843188e-01,\n",
              "         -1.52539879e-01],\n",
              "        [-3.16478610e-02,  6.67971373e-02,  2.50558108e-01,\n",
              "          1.19669288e-01,  2.52119154e-01, -2.02104673e-01,\n",
              "         -1.04970828e-01, -7.88186640e-02,  7.43363500e-02,\n",
              "         -2.36915603e-01],\n",
              "        [-6.76655769e-02, -5.97940385e-02, -2.36770451e-01,\n",
              "         -1.76311985e-01,  2.65554160e-01, -8.08096528e-02,\n",
              "         -2.08764657e-01, -1.16927579e-01, -1.09173834e-01,\n",
              "         -8.68016779e-02],\n",
              "        [ 2.10735083e-01, -1.38675168e-01,  6.16982579e-02,\n",
              "         -2.04952478e-01, -2.07245976e-01,  2.52912641e-02,\n",
              "         -2.67295092e-01,  1.99263245e-01, -2.77628481e-01,\n",
              "         -1.09884426e-01],\n",
              "        [ 1.87000573e-01,  2.43374705e-02,  2.53181964e-01,\n",
              "          8.32223594e-02,  2.25980490e-01, -2.21088827e-02,\n",
              "         -6.21831268e-02, -2.25855663e-01,  2.44572312e-01,\n",
              "         -2.04460025e-02],\n",
              "        [ 2.53002048e-02,  1.73840016e-01, -1.01467475e-01,\n",
              "          1.69140995e-02, -1.44978330e-01,  3.85026634e-02,\n",
              "          1.00019932e-01,  1.65262222e-02,  8.39747190e-02,\n",
              "          2.58566827e-01],\n",
              "        [-2.44098604e-01, -1.83671236e-01,  1.99753523e-01,\n",
              "          1.17787927e-01, -2.45845318e-02,  4.80711758e-02,\n",
              "         -1.80473983e-01, -8.56391340e-02,  5.61355650e-02,\n",
              "         -1.67620629e-01],\n",
              "        [ 2.27012843e-01,  1.71419501e-01, -2.48751178e-01,\n",
              "          1.66466027e-01,  7.05311000e-02, -1.07483536e-01,\n",
              "         -6.23901933e-02,  1.90517634e-01,  4.39584553e-02,\n",
              "         -5.21974564e-02],\n",
              "        [-1.45830333e-01, -2.06258595e-01, -9.26854163e-02,\n",
              "          9.52631235e-04, -8.65525156e-02,  9.32945907e-02,\n",
              "          2.31970757e-01, -2.43222907e-01, -1.05804026e-01,\n",
              "         -2.37278879e-01],\n",
              "        [-2.82178879e-01, -2.36391306e-01,  2.04816848e-01,\n",
              "         -2.78354406e-01, -2.61528105e-01,  1.94089144e-01,\n",
              "         -2.00895578e-01,  2.62328297e-01,  2.00776905e-01,\n",
              "         -1.56483829e-01],\n",
              "        [ 1.97190464e-01,  1.92430884e-01, -1.57538965e-01,\n",
              "          1.29732758e-01,  1.98075771e-02, -1.35093927e-04,\n",
              "          8.84152055e-02,  1.30175740e-01,  5.59096932e-02,\n",
              "         -1.91345960e-01],\n",
              "        [ 1.08302474e-01, -1.31709471e-01, -1.39130771e-01,\n",
              "         -6.46872818e-02, -1.50106847e-02,  8.93479288e-02,\n",
              "          2.59934574e-01,  6.59624338e-02,  1.53365284e-01,\n",
              "          1.98931992e-02],\n",
              "        [ 4.37941551e-02,  1.21459365e-03,  1.17192626e-01,\n",
              "          3.24510336e-02,  2.71285683e-01,  1.27862275e-01,\n",
              "          2.26899475e-01, -2.37982690e-01,  2.47711867e-01,\n",
              "         -1.42146125e-01],\n",
              "        [ 1.84657305e-01, -3.90220284e-02, -1.10059589e-01,\n",
              "          1.98732674e-01,  1.17096484e-01,  8.08450282e-02,\n",
              "          2.31089324e-01, -1.04825139e-01, -3.98739725e-02,\n",
              "         -5.25197983e-02],\n",
              "        [-7.48149753e-02, -2.41004363e-01,  1.44649595e-01,\n",
              "         -2.10168600e-01, -1.49477884e-01,  1.73840404e-01,\n",
              "         -9.64370370e-02, -1.23387098e-01, -6.32441044e-03,\n",
              "         -2.08335221e-02],\n",
              "        [-1.56725168e-01,  2.03844905e-03,  4.54565883e-03,\n",
              "          8.59986246e-02, -7.48561770e-02, -9.45262909e-02,\n",
              "          1.12304807e-01,  3.45257223e-02, -2.22574040e-01,\n",
              "          1.91077590e-01],\n",
              "        [ 2.70312697e-01,  7.89663792e-02,  1.21670187e-01,\n",
              "         -2.22953543e-01, -2.66287148e-01, -7.60037750e-02,\n",
              "         -1.28315836e-01,  2.05300152e-01, -2.61551946e-01,\n",
              "          6.93793595e-02],\n",
              "        [ 1.29926652e-01, -2.49566942e-01,  5.12899756e-02,\n",
              "          6.60175085e-02, -1.65942192e-01,  1.57923549e-01,\n",
              "         -2.69560218e-02,  2.74779588e-01,  1.99366570e-01,\n",
              "         -1.57377109e-01],\n",
              "        [-2.47837737e-01,  5.07445633e-02, -2.35314235e-01,\n",
              "          1.42662704e-01, -2.49533400e-01,  4.71114218e-02,\n",
              "         -2.17945158e-01,  2.21985012e-01, -2.56511778e-01,\n",
              "         -8.34966302e-02],\n",
              "        [-6.53563291e-02,  9.65250134e-02, -5.76989204e-02,\n",
              "          2.42042273e-01, -2.61639923e-01,  2.11222649e-01,\n",
              "         -2.10488290e-01, -1.22447908e-01, -2.41709247e-01,\n",
              "         -1.93942159e-01],\n",
              "        [-7.48196542e-02, -2.31855899e-01, -7.15941191e-02,\n",
              "          2.14754522e-01,  2.05715001e-01,  1.92741126e-01,\n",
              "          2.63087183e-01,  1.99665904e-01, -2.50086546e-01,\n",
              "          1.22213960e-02],\n",
              "        [ 1.64268047e-01,  2.00424552e-01, -5.93109429e-02,\n",
              "          1.63205177e-01,  1.24564081e-01,  1.82441086e-01,\n",
              "          2.11671680e-01, -2.53444821e-01, -4.58429754e-02,\n",
              "          2.80231237e-03],\n",
              "        [ 2.48078257e-01,  2.71992475e-01,  3.49349678e-02,\n",
              "         -2.08067000e-02, -7.93133676e-02,  1.27013117e-01,\n",
              "         -1.74690187e-02,  2.40353554e-01, -1.71994239e-01,\n",
              "         -2.69006371e-01],\n",
              "        [-2.59837955e-01,  1.40566766e-01,  1.22322649e-01,\n",
              "         -2.46803373e-01,  3.93325388e-02,  3.70683670e-02,\n",
              "         -1.45009428e-01,  2.72343189e-01, -1.36015952e-01,\n",
              "         -8.03064555e-02],\n",
              "        [-2.10023046e-01, -2.50331461e-02,  1.61062539e-01,\n",
              "          3.69403362e-02,  2.19215363e-01, -1.86877832e-01,\n",
              "         -1.27597094e-01, -2.23163188e-01, -2.49184728e-01,\n",
              "          1.86520517e-01],\n",
              "        [ 1.12509221e-01, -2.38811374e-02,  7.62757361e-02,\n",
              "          1.09107196e-02, -8.39607120e-02, -2.28811353e-01,\n",
              "          2.64044136e-01,  2.40911573e-01, -9.22774076e-02,\n",
              "         -2.78634131e-01],\n",
              "        [ 1.24449074e-01,  1.23593599e-01, -2.31547758e-01,\n",
              "          5.80537617e-02,  2.09923059e-01,  3.78140807e-03,\n",
              "         -1.79891378e-01,  5.39262593e-02,  2.16055512e-02,\n",
              "          1.74090117e-01],\n",
              "        [-2.12281317e-01, -4.92769480e-02,  2.27044553e-01,\n",
              "         -1.55657530e-03,  7.47514963e-02,  2.57292390e-03,\n",
              "         -2.77182788e-01, -1.85983062e-01,  1.07060939e-01,\n",
              "         -4.74051684e-02],\n",
              "        [-8.42279196e-03,  9.46298242e-03,  2.20879287e-01,\n",
              "         -1.47792265e-01,  1.94818348e-01,  2.18330413e-01,\n",
              "         -2.70309299e-01,  5.04955351e-02, -1.54557407e-01,\n",
              "         -2.40768850e-01],\n",
              "        [-2.03493342e-01, -9.01817381e-02,  1.60901994e-01,\n",
              "          2.61875898e-01, -4.15621698e-02,  1.16584390e-01,\n",
              "         -1.68335557e-01, -2.28329882e-01,  2.32057065e-01,\n",
              "         -2.76026011e-01],\n",
              "        [-2.01911256e-01, -7.42222369e-02, -2.09864259e-01,\n",
              "         -1.33018106e-01, -2.39240259e-01,  5.82565665e-02,\n",
              "         -1.41311094e-01, -1.61419809e-02,  2.66748697e-01,\n",
              "          1.35333002e-01],\n",
              "        [-7.16537237e-02,  1.84457123e-01,  2.09999979e-01,\n",
              "         -8.85409117e-03,  2.50317752e-02, -2.06824183e-01,\n",
              "         -1.91178679e-01,  2.57983357e-01,  4.09364998e-02,\n",
              "         -1.48124442e-01],\n",
              "        [ 7.16283917e-03, -2.20636904e-01,  1.04971856e-01,\n",
              "          1.11518174e-01, -8.95491242e-03, -1.77029908e-01,\n",
              "          1.70736909e-02, -9.57682729e-03, -1.21279076e-01,\n",
              "         -1.42740637e-01],\n",
              "        [ 1.58869326e-02,  2.69109219e-01, -2.25015879e-01,\n",
              "         -1.90997615e-01,  2.17506558e-01, -7.46048540e-02,\n",
              "         -2.67848969e-02,  2.51268536e-01, -2.57424206e-01,\n",
              "         -1.40174359e-01],\n",
              "        [-1.94224104e-01, -7.26913363e-02, -2.56488621e-01,\n",
              "         -1.95274964e-01, -8.07199627e-02, -3.00634503e-02,\n",
              "          2.46948600e-02, -1.42785236e-01, -1.52922705e-01,\n",
              "          8.35165083e-02],\n",
              "        [-8.47121775e-02,  1.71296805e-01, -1.47991657e-01,\n",
              "         -2.64339387e-01,  9.97676849e-02,  1.11551642e-01,\n",
              "          1.23402029e-01, -1.00473717e-01, -1.78824157e-01,\n",
              "         -1.20153204e-01],\n",
              "        [-2.36316487e-01, -5.37106395e-02, -2.71476924e-01,\n",
              "         -2.05493957e-01,  2.31770575e-02,  1.25211060e-01,\n",
              "         -2.03874677e-01, -2.37751395e-01, -5.69799542e-03,\n",
              "          1.63964808e-01],\n",
              "        [ 2.16536552e-01,  1.38042778e-01, -2.53088266e-01,\n",
              "          1.86947078e-01, -7.69777894e-02,  2.56112307e-01,\n",
              "          2.18553632e-01, -1.64520204e-01,  2.19694704e-01,\n",
              "          1.08326375e-01],\n",
              "        [ 1.10278249e-01, -1.41952246e-01, -2.22329840e-01,\n",
              "          1.47802114e-01,  6.09740317e-02, -2.59583831e-01,\n",
              "         -3.95918936e-02,  5.96945882e-02,  6.50866032e-02,\n",
              "          2.48337716e-01],\n",
              "        [ 2.14309394e-02,  7.79513717e-02, -1.76965356e-01,\n",
              "         -1.80906579e-01,  2.09316105e-01, -2.12400854e-01,\n",
              "         -7.71674067e-02,  7.02214539e-02,  2.55140036e-01,\n",
              "          3.60256135e-02],\n",
              "        [ 1.95589095e-01,  2.77423590e-01,  1.36961251e-01,\n",
              "          1.85440421e-01,  2.61401504e-01,  2.37344414e-01,\n",
              "         -3.50970924e-02, -2.30505764e-02,  1.89530671e-01,\n",
              "         -6.39547557e-02],\n",
              "        [ 1.06693089e-01,  2.42430657e-01,  2.80947477e-01,\n",
              "          2.69056588e-01, -1.03493348e-01,  4.45955098e-02,\n",
              "         -2.76373535e-01,  8.03385079e-02,  1.62196964e-01,\n",
              "          1.10810846e-01],\n",
              "        [ 1.05248898e-01,  1.45080566e-01,  9.93980765e-02,\n",
              "         -1.89623475e-01, -1.94645911e-01,  3.61079574e-02,\n",
              "          4.18275297e-02,  8.40716362e-02,  8.45474303e-02,\n",
              "          1.64672464e-01],\n",
              "        [-2.72508830e-01,  8.14723670e-02,  1.28754735e-01,\n",
              "          1.85455084e-01, -1.71925664e-01,  3.66681218e-02,\n",
              "         -2.10182190e-01,  2.30620295e-01,  2.78095394e-01,\n",
              "          2.28354126e-01],\n",
              "        [-3.45188081e-02,  4.75989282e-02, -3.43258679e-02,\n",
              "          2.87958980e-03, -1.31856203e-02, -5.34791350e-02,\n",
              "         -1.69467479e-01, -1.93798378e-01,  9.51795280e-02,\n",
              "          1.36925042e-01],\n",
              "        [-1.17682308e-01,  1.60747766e-02, -9.50104743e-02,\n",
              "          9.65321362e-02, -2.80387491e-01, -4.47380841e-02,\n",
              "         -2.50615478e-01,  1.19097114e-01, -6.84729218e-03,\n",
              "          6.91509843e-02],\n",
              "        [ 2.80678242e-01,  3.45195532e-02,  1.67353958e-01,\n",
              "         -2.19820380e-01,  5.99265695e-02,  2.14307338e-01,\n",
              "         -2.19932273e-01, -1.37505174e-01, -2.07404092e-01,\n",
              "          2.66351849e-01],\n",
              "        [-1.47414386e-01, -1.00198150e-01, -2.29321539e-01,\n",
              "          1.12158030e-01,  2.76685268e-01,  3.57168317e-02,\n",
              "         -9.83792096e-02,  1.83105439e-01, -2.27121800e-01,\n",
              "         -2.62518466e-01],\n",
              "        [-3.92962992e-02, -2.76041150e-01,  3.59334052e-02,\n",
              "         -1.18004501e-01, -6.80234283e-02,  2.16834337e-01,\n",
              "         -1.70546770e-01,  2.14238971e-01,  1.66374445e-01,\n",
              "          1.11059934e-01],\n",
              "        [-1.81626737e-01, -2.32110009e-01, -2.54921496e-01,\n",
              "          2.35565603e-02,  2.79064775e-02,  1.53963566e-02,\n",
              "          2.15068221e-01,  1.06540889e-01,  1.25601619e-01,\n",
              "          1.30190670e-01],\n",
              "        [ 2.45243877e-01,  1.68459654e-01, -1.00013092e-01,\n",
              "         -1.52569115e-02,  6.18470907e-02,  2.47330099e-01,\n",
              "         -1.43773302e-01, -1.43970579e-01, -6.90577179e-02,\n",
              "          2.34952837e-01],\n",
              "        [-1.75933361e-01,  2.49263316e-01, -2.42203549e-01,\n",
              "          4.23316956e-02,  2.02691764e-01,  2.11848617e-02,\n",
              "         -9.94056910e-02, -2.54723310e-01,  9.05871391e-03,\n",
              "          1.46943927e-02],\n",
              "        [ 2.38573641e-01,  2.64235705e-01,  1.95286840e-01,\n",
              "         -2.37271488e-02, -4.58176583e-02, -1.75253808e-01,\n",
              "         -1.91489071e-01,  2.77832538e-01, -1.73294857e-01,\n",
              "         -2.01497734e-01],\n",
              "        [-1.87049121e-01,  1.12573504e-01,  1.92540258e-01,\n",
              "         -2.56202012e-01, -1.11209497e-01, -3.97422612e-02,\n",
              "         -1.05280325e-01,  1.19892627e-01,  1.59216553e-01,\n",
              "          2.19508022e-01],\n",
              "        [ 1.82181269e-01, -2.94846892e-02,  2.16749400e-01,\n",
              "         -2.94849277e-03,  2.64110893e-01, -2.11850613e-01,\n",
              "          5.06570637e-02,  2.40682572e-01,  1.68962717e-01,\n",
              "          2.25302488e-01]], dtype=float32)>,\n",
              " <tf.Variable 'dense_3/bias:0' shape=(10,) dtype=float32, numpy=array([0., 0., 0., 0., 0., 0., 0., 0., 0., 0.], dtype=float32)>]"
            ]
          },
          "execution_count": 3,
          "metadata": {},
          "output_type": "execute_result"
        }
      ],
      "source": [
        "model.build(input_shape=(None, 3))\n",
        "model.weights"
      ]
    },
    {
      "cell_type": "markdown",
      "metadata": {
        "id": "QKI5OrL058nz"
      },
      "source": [
        "**The summary method**"
      ]
    },
    {
      "cell_type": "code",
      "execution_count": 4,
      "metadata": {
        "id": "cEP5VDkQ58n0"
      },
      "outputs": [
        {
          "name": "stdout",
          "output_type": "stream",
          "text": [
            "Model: \"sequential_1\"\n",
            "_________________________________________________________________\n",
            " Layer (type)                Output Shape              Param #   \n",
            "=================================================================\n",
            " dense_2 (Dense)             (None, 64)                256       \n",
            "                                                                 \n",
            " dense_3 (Dense)             (None, 10)                650       \n",
            "                                                                 \n",
            "=================================================================\n",
            "Total params: 906\n",
            "Trainable params: 906\n",
            "Non-trainable params: 0\n",
            "_________________________________________________________________\n"
          ]
        }
      ],
      "source": [
        "model.summary()"
      ]
    },
    {
      "cell_type": "markdown",
      "metadata": {
        "id": "gxXznb6p58n0"
      },
      "source": [
        "**Naming models and layers with the `name` argument**"
      ]
    },
    {
      "cell_type": "code",
      "execution_count": 5,
      "metadata": {
        "id": "kHU0njoc58n1"
      },
      "outputs": [
        {
          "name": "stdout",
          "output_type": "stream",
          "text": [
            "Model: \"my_example_model\"\n",
            "_________________________________________________________________\n",
            " Layer (type)                Output Shape              Param #   \n",
            "=================================================================\n",
            " my_first_layer (Dense)      (None, 64)                256       \n",
            "                                                                 \n",
            " my_last_layer (Dense)       (None, 10)                650       \n",
            "                                                                 \n",
            "=================================================================\n",
            "Total params: 906\n",
            "Trainable params: 906\n",
            "Non-trainable params: 0\n",
            "_________________________________________________________________\n"
          ]
        }
      ],
      "source": [
        "model = keras.Sequential(name=\"my_example_model\")\n",
        "model.add(layers.Dense(64, activation=\"relu\", name=\"my_first_layer\"))\n",
        "model.add(layers.Dense(10, activation=\"softmax\", name=\"my_last_layer\"))\n",
        "model.build((None, 3))\n",
        "model.summary()"
      ]
    },
    {
      "cell_type": "markdown",
      "metadata": {
        "id": "y5p68F-458n1"
      },
      "source": [
        "**Specifying the input shape of your model in advance**"
      ]
    },
    {
      "cell_type": "markdown",
      "metadata": {},
      "source": [
        "Use Input to declare the shape\n",
        "of the inputs. Note that the\n",
        "shape argument must be the\n",
        "shape of each sample, not\n",
        "the shape of one batch."
      ]
    },
    {
      "cell_type": "code",
      "execution_count": 6,
      "metadata": {
        "id": "Fey1dxBC58n1"
      },
      "outputs": [],
      "source": [
        "model = keras.Sequential()\n",
        "model.add(keras.Input(shape=(3,)))\n",
        "model.add(layers.Dense(64, activation=\"relu\"))"
      ]
    },
    {
      "cell_type": "code",
      "execution_count": 7,
      "metadata": {
        "id": "aP09I2zi58n2"
      },
      "outputs": [
        {
          "name": "stdout",
          "output_type": "stream",
          "text": [
            "Model: \"sequential_2\"\n",
            "_________________________________________________________________\n",
            " Layer (type)                Output Shape              Param #   \n",
            "=================================================================\n",
            " dense_4 (Dense)             (None, 64)                256       \n",
            "                                                                 \n",
            "=================================================================\n",
            "Total params: 256\n",
            "Trainable params: 256\n",
            "Non-trainable params: 0\n",
            "_________________________________________________________________\n"
          ]
        }
      ],
      "source": [
        "model.summary()"
      ]
    },
    {
      "cell_type": "code",
      "execution_count": 8,
      "metadata": {
        "id": "6e2MRSRQ58n2"
      },
      "outputs": [
        {
          "name": "stdout",
          "output_type": "stream",
          "text": [
            "Model: \"sequential_2\"\n",
            "_________________________________________________________________\n",
            " Layer (type)                Output Shape              Param #   \n",
            "=================================================================\n",
            " dense_4 (Dense)             (None, 64)                256       \n",
            "                                                                 \n",
            " dense_5 (Dense)             (None, 10)                650       \n",
            "                                                                 \n",
            "=================================================================\n",
            "Total params: 906\n",
            "Trainable params: 906\n",
            "Non-trainable params: 0\n",
            "_________________________________________________________________\n"
          ]
        }
      ],
      "source": [
        "model.add(layers.Dense(10, activation=\"softmax\"))\n",
        "model.summary()"
      ]
    },
    {
      "cell_type": "markdown",
      "metadata": {
        "id": "lARdGQ2758n2"
      },
      "source": [
        "### The Functional API\n",
        "\n",
        "The Sequential model is easy to use, but its applicability is extremely limited: it can\n",
        "only express models with a single input and a single output, applying one layer after\n",
        "the other in a sequential fashion. In practice, it’s pretty common to encounter models\n",
        "with multiple inputs (say, an image and its metadata), multiple outputs (different\n",
        "things you want to predict about the data), or a nonlinear topology.\n",
        "In such cases, you’d build your model using the Functional API. This is what most\n",
        "Keras models you’ll encounter in the wild use. It’s fun and powerful—it feels like playing\n",
        "with LEGO bricks."
      ]
    },
    {
      "cell_type": "markdown",
      "metadata": {
        "id": "uTfiqAGt58n2"
      },
      "source": [
        "#### A simple example"
      ]
    },
    {
      "cell_type": "markdown",
      "metadata": {
        "id": "-wUbVZF058n2"
      },
      "source": [
        "**A simple Functional model with two `Dense` layers**"
      ]
    },
    {
      "cell_type": "code",
      "execution_count": 45,
      "metadata": {
        "id": "ZI2rsQNH58n3"
      },
      "outputs": [],
      "source": [
        "# Declare an input (sample has shape 3,1)\n",
        "inputs = keras.Input(shape=(3,), name=\"my_input\")\n",
        "\n",
        "# Create a layer and call it on the input\n",
        "features = layers.Dense(64, activation=\"relu\")(inputs)\n",
        "\n",
        "# Create final output layer and call it on the features\n",
        "outputs = layers.Dense(10, activation=\"softmax\")(features)\n",
        "\n",
        "# Specify inputs and outputs in the Model constructor\n",
        "model = keras.Model(inputs=inputs, outputs=outputs)"
      ]
    },
    {
      "cell_type": "markdown",
      "metadata": {},
      "source": [
        "Let's take a look at the objects:"
      ]
    },
    {
      "cell_type": "code",
      "execution_count": 46,
      "metadata": {
        "id": "iaMm5xY_58n3"
      },
      "outputs": [
        {
          "data": {
            "text/plain": [
              "TensorShape([None, 3])"
            ]
          },
          "execution_count": 46,
          "metadata": {},
          "output_type": "execute_result"
        }
      ],
      "source": [
        "inputs.shape"
      ]
    },
    {
      "cell_type": "markdown",
      "metadata": {},
      "source": [
        "- The number of samples per batch is variable (indicated by the `None` batch size).\n",
        "- The model will process batches where each sample has shape `(3,)` (wich is the same as `(3,1)`)."
      ]
    },
    {
      "cell_type": "code",
      "execution_count": 12,
      "metadata": {
        "id": "D72TQK5Y58n3"
      },
      "outputs": [
        {
          "data": {
            "text/plain": [
              "tf.float32"
            ]
          },
          "execution_count": 12,
          "metadata": {},
          "output_type": "execute_result"
        }
      ],
      "source": [
        "inputs.dtype"
      ]
    },
    {
      "cell_type": "markdown",
      "metadata": {},
      "source": [
        "- The batches will have dtype `float32`. \n",
        "\n",
        "We call such an object a symbolic tensor. It doesn’t contain any actual data, but it\n",
        "encodes the specifications of the actual tensors of data that the model will see when\n",
        "you use it. It stands for future tensors of data."
      ]
    },
    {
      "cell_type": "code",
      "execution_count": 47,
      "metadata": {
        "id": "J46H824n58n4"
      },
      "outputs": [
        {
          "data": {
            "text/plain": [
              "TensorShape([None, 64])"
            ]
          },
          "execution_count": 47,
          "metadata": {},
          "output_type": "execute_result"
        }
      ],
      "source": [
        "features.shape"
      ]
    },
    {
      "cell_type": "markdown",
      "metadata": {},
      "source": [
        "Summary of the model:"
      ]
    },
    {
      "cell_type": "code",
      "execution_count": 48,
      "metadata": {
        "id": "MQhZx66n58n4"
      },
      "outputs": [
        {
          "name": "stdout",
          "output_type": "stream",
          "text": [
            "Model: \"model_12\"\n",
            "_________________________________________________________________\n",
            " Layer (type)                Output Shape              Param #   \n",
            "=================================================================\n",
            " my_input (InputLayer)       [(None, 3)]               0         \n",
            "                                                                 \n",
            " dense_30 (Dense)            (None, 64)                256       \n",
            "                                                                 \n",
            " dense_31 (Dense)            (None, 10)                650       \n",
            "                                                                 \n",
            "=================================================================\n",
            "Total params: 906\n",
            "Trainable params: 906\n",
            "Non-trainable params: 0\n",
            "_________________________________________________________________\n"
          ]
        }
      ],
      "source": [
        "model.summary()"
      ]
    },
    {
      "cell_type": "markdown",
      "metadata": {
        "id": "RfLY-_CH58n4"
      },
      "source": [
        "#### Multi-input, multi-output models\n",
        "\n",
        "Unlike this toy model, most deep learning models don’t look like lists—they look like\n",
        "graphs. \n",
        "\n",
        "They may, for instance, have multiple inputs or multiple outputs. It’s for this kind of model that the Functional API really shines. \n",
        "\n",
        "Let’s say you’re building a system to rank customer support tickets by priority and route them to the appropriate department. Your model has three inputs:\n",
        "\n",
        "- The title of the ticket (text input)\n",
        "- The text body of the ticket (text input)\n",
        "- Any tags added by the user (categorical input, assumed here to be one-hot\n",
        "encoded)\n",
        "\n",
        "We can encode the text inputs as arrays of ones and zeros of size `vocabulary_size`\n",
        "\n",
        "Your model also has two outputs:\n",
        "\n",
        "- The priority score of the ticket, a scalar between 0 and 1 (sigmoid output)\n",
        "- The department that should handle the ticket (a softmax over the set of departments)\n",
        "\n",
        "You can build this model in a few lines with the Functional API."
      ]
    },
    {
      "cell_type": "markdown",
      "metadata": {
        "id": "_XkaEVg058n4"
      },
      "source": [
        "**A multi-input, multi-output Functional model**"
      ]
    },
    {
      "cell_type": "code",
      "execution_count": 18,
      "metadata": {
        "id": "k2kQAeqh58n4"
      },
      "outputs": [],
      "source": [
        "vocabulary_size = 10000\n",
        "num_tags = 100\n",
        "num_departments = 4\n",
        "\n",
        "# Define model inputs\n",
        "title = keras.Input(shape=(vocabulary_size,), name=\"title\")\n",
        "text_body = keras.Input(shape=(vocabulary_size,), name=\"text_body\")\n",
        "tags = keras.Input(shape=(num_tags,), name=\"tags\")\n",
        "\n",
        "# Combine input \n",
        "features = layers.Concatenate()([title, text_body, tags])\n",
        "features = layers.Dense(64, activation=\"relu\")(features)\n",
        "\n",
        "priority = layers.Dense(1, activation=\"sigmoid\", name=\"priority\")(features)\n",
        "department = layers.Dense(\n",
        "    num_departments, activation=\"softmax\", name=\"department\")(features)\n",
        "\n",
        "model = keras.Model(inputs=[title, text_body, tags], outputs=[priority, department])"
      ]
    },
    {
      "cell_type": "markdown",
      "metadata": {
        "id": "pbf5lAib58n5"
      },
      "source": [
        "#### Training a multi-input, multi-output model"
      ]
    },
    {
      "cell_type": "markdown",
      "metadata": {
        "id": "w_wyJYT-58n5"
      },
      "source": [
        "**Training a model by providing lists of input & target arrays**"
      ]
    },
    {
      "cell_type": "code",
      "execution_count": 19,
      "metadata": {
        "id": "dEPGxNxG58n5"
      },
      "outputs": [
        {
          "name": "stdout",
          "output_type": "stream",
          "text": [
            "40/40 [==============================] - 1s 14ms/step - loss: 33.6141 - priority_loss: 0.3134 - department_loss: 33.3007 - priority_mean_absolute_error: 0.4794 - department_accuracy: 0.2344\n",
            "40/40 [==============================] - 0s 4ms/step - loss: 53.5145 - priority_loss: 0.3322 - department_loss: 53.1824 - priority_mean_absolute_error: 0.4982 - department_accuracy: 0.0711\n"
          ]
        }
      ],
      "source": [
        "import numpy as np\n",
        "\n",
        "num_samples = 1280\n",
        "\n",
        "title_data = np.random.randint(0, 2, size=(num_samples, vocabulary_size))\n",
        "text_body_data = np.random.randint(0, 2, size=(num_samples, vocabulary_size))\n",
        "tags_data = np.random.randint(0, 2, size=(num_samples, num_tags))\n",
        "\n",
        "priority_data = np.random.random(size=(num_samples, 1))\n",
        "department_data = np.random.randint(0, 2, size=(num_samples, num_departments))\n",
        "\n",
        "model.compile(optimizer=\"rmsprop\",\n",
        "              loss=[\"mean_squared_error\", \"categorical_crossentropy\"],\n",
        "              metrics=[[\"mean_absolute_error\"], [\"accuracy\"]])\n",
        "model.fit([title_data, text_body_data, tags_data],\n",
        "          [priority_data, department_data],\n",
        "          epochs=1)\n",
        "model.evaluate([title_data, text_body_data, tags_data],\n",
        "               [priority_data, department_data])\n",
        "priority_preds, department_preds = model.predict([title_data, text_body_data, tags_data])"
      ]
    },
    {
      "cell_type": "markdown",
      "metadata": {
        "id": "wcyjCM_w58n5"
      },
      "source": [
        "**Training a model by providing dicts of input & target arrays**"
      ]
    },
    {
      "cell_type": "code",
      "execution_count": 20,
      "metadata": {
        "id": "Z7X4gp_058n5"
      },
      "outputs": [
        {
          "name": "stdout",
          "output_type": "stream",
          "text": [
            "40/40 [==============================] - 1s 14ms/step - loss: 45.1952 - priority_loss: 0.3264 - department_loss: 44.8688 - priority_mean_absolute_error: 0.4925 - department_accuracy: 0.2695\n",
            "40/40 [==============================] - 0s 5ms/step - loss: 26.3427 - priority_loss: 0.3358 - department_loss: 26.0070 - priority_mean_absolute_error: 0.5018 - department_accuracy: 0.2805\n"
          ]
        }
      ],
      "source": [
        "model.compile(optimizer=\"rmsprop\",\n",
        "              loss={\"priority\": \"mean_squared_error\", \"department\": \"categorical_crossentropy\"},\n",
        "              metrics={\"priority\": [\"mean_absolute_error\"], \"department\": [\"accuracy\"]})\n",
        "model.fit({\"title\": title_data, \"text_body\": text_body_data, \"tags\": tags_data},\n",
        "          {\"priority\": priority_data, \"department\": department_data},\n",
        "          epochs=1)\n",
        "model.evaluate({\"title\": title_data, \"text_body\": text_body_data, \"tags\": tags_data},\n",
        "               {\"priority\": priority_data, \"department\": department_data})\n",
        "priority_preds, department_preds = model.predict(\n",
        "    {\"title\": title_data, \"text_body\": text_body_data, \"tags\": tags_data})"
      ]
    },
    {
      "cell_type": "markdown",
      "metadata": {
        "id": "uRoCfu0L58n6"
      },
      "source": [
        "#### The power of the Functional API: Access to layer connectivity"
      ]
    },
    {
      "cell_type": "code",
      "execution_count": 21,
      "metadata": {
        "id": "o4-trd-u58n6"
      },
      "outputs": [
        {
          "data": {
            "image/png": "[encoded data removed]",
            "text/plain": [
              "<IPython.core.display.Image object>"
            ]
          },
          "execution_count": 21,
          "metadata": {},
          "output_type": "execute_result"
        }
      ],
      "source": [
        "keras.utils.plot_model(model, \"ticket_classifier.png\")"
      ]
    },
    {
      "cell_type": "code",
      "execution_count": 22,
      "metadata": {
        "id": "pgjcOY-j58n6"
      },
      "outputs": [
        {
          "data": {
            "image/png": "[encoded data removed]",
            "text/plain": [
              "<IPython.core.display.Image object>"
            ]
          },
          "execution_count": 22,
          "metadata": {},
          "output_type": "execute_result"
        }
      ],
      "source": [
        "keras.utils.plot_model(model, \"ticket_classifier_with_shape_info.png\", show_shapes=True)"
      ]
    },
    {
      "cell_type": "markdown",
      "metadata": {
        "id": "wiB-tvhD58n6"
      },
      "source": [
        "**Retrieving the inputs or outputs of a layer in a Functional model**"
      ]
    },
    {
      "cell_type": "code",
      "execution_count": 23,
      "metadata": {
        "id": "vj0xiSH058n6"
      },
      "outputs": [
        {
          "data": {
            "text/plain": [
              "[<keras.engine.input_layer.InputLayer at 0x7fb38175c2e0>,\n",
              " <keras.engine.input_layer.InputLayer at 0x7fb38175ce80>,\n",
              " <keras.engine.input_layer.InputLayer at 0x7fb391680fd0>,\n",
              " <keras.layers.merge.Concatenate at 0x7fb391680340>,\n",
              " <keras.layers.core.dense.Dense at 0x7fb391680700>,\n",
              " <keras.layers.core.dense.Dense at 0x7fb3816cbb50>,\n",
              " <keras.layers.core.dense.Dense at 0x7fb391684970>]"
            ]
          },
          "execution_count": 23,
          "metadata": {},
          "output_type": "execute_result"
        }
      ],
      "source": [
        "model.layers"
      ]
    },
    {
      "cell_type": "code",
      "execution_count": 24,
      "metadata": {
        "id": "XRxYwRhM58n6"
      },
      "outputs": [
        {
          "data": {
            "text/plain": [
              "[<KerasTensor: shape=(None, 10000) dtype=float32 (created by layer 'title')>,\n",
              " <KerasTensor: shape=(None, 10000) dtype=float32 (created by layer 'text_body')>,\n",
              " <KerasTensor: shape=(None, 100) dtype=float32 (created by layer 'tags')>]"
            ]
          },
          "execution_count": 24,
          "metadata": {},
          "output_type": "execute_result"
        }
      ],
      "source": [
        "model.layers[3].input"
      ]
    },
    {
      "cell_type": "code",
      "execution_count": 25,
      "metadata": {
        "id": "zOGRbJxi58n6"
      },
      "outputs": [
        {
          "data": {
            "text/plain": [
              "<KerasTensor: shape=(None, 20100) dtype=float32 (created by layer 'concatenate')>"
            ]
          },
          "execution_count": 25,
          "metadata": {},
          "output_type": "execute_result"
        }
      ],
      "source": [
        "model.layers[3].output"
      ]
    },
    {
      "cell_type": "markdown",
      "metadata": {
        "id": "_kC6Uvpr58n6"
      },
      "source": [
        "**Creating a new model by reusing intermediate layer outputs**"
      ]
    },
    {
      "cell_type": "code",
      "execution_count": 26,
      "metadata": {
        "id": "mu0ZD_Ci58n7"
      },
      "outputs": [],
      "source": [
        "features = model.layers[4].output\n",
        "difficulty = layers.Dense(3, activation=\"softmax\", name=\"difficulty\")(features)\n",
        "\n",
        "new_model = keras.Model(\n",
        "    inputs=[title, text_body, tags],\n",
        "    outputs=[priority, department, difficulty])"
      ]
    },
    {
      "cell_type": "code",
      "execution_count": 27,
      "metadata": {
        "id": "QA8ZUtU-58n7"
      },
      "outputs": [
        {
          "data": {
            "image/png": "[encoded data removed]",
            "text/plain": [
              "<IPython.core.display.Image object>"
            ]
          },
          "execution_count": 27,
          "metadata": {},
          "output_type": "execute_result"
        }
      ],
      "source": [
        "keras.utils.plot_model(new_model, \"updated_ticket_classifier.png\", show_shapes=True)"
      ]
    },
    {
      "cell_type": "markdown",
      "metadata": {
        "id": "MQAstZ4o58n7"
      },
      "source": [
        "### Subclassing the Model class"
      ]
    },
    {
      "cell_type": "markdown",
      "metadata": {
        "id": "QNyxyNhn58n7"
      },
      "source": [
        "#### Rewriting our previous example as a subclassed model"
      ]
    },
    {
      "cell_type": "markdown",
      "metadata": {
        "id": "QCVLwJQB58n7"
      },
      "source": [
        "**A simple subclassed model**"
      ]
    },
    {
      "cell_type": "code",
      "execution_count": 28,
      "metadata": {
        "id": "4dn-U1cX58n7"
      },
      "outputs": [],
      "source": [
        "class CustomerTicketModel(keras.Model):\n",
        "\n",
        "    def __init__(self, num_departments):\n",
        "        super().__init__()\n",
        "        self.concat_layer = layers.Concatenate()\n",
        "        self.mixing_layer = layers.Dense(64, activation=\"relu\")\n",
        "        self.priority_scorer = layers.Dense(1, activation=\"sigmoid\")\n",
        "        self.department_classifier = layers.Dense(\n",
        "            num_departments, activation=\"softmax\")\n",
        "\n",
        "    def call(self, inputs):\n",
        "        title = inputs[\"title\"]\n",
        "        text_body = inputs[\"text_body\"]\n",
        "        tags = inputs[\"tags\"]\n",
        "\n",
        "        features = self.concat_layer([title, text_body, tags])\n",
        "        features = self.mixing_layer(features)\n",
        "        priority = self.priority_scorer(features)\n",
        "        department = self.department_classifier(features)\n",
        "        return priority, department"
      ]
    },
    {
      "cell_type": "code",
      "execution_count": 29,
      "metadata": {
        "id": "JrdO3awX58n7"
      },
      "outputs": [],
      "source": [
        "model = CustomerTicketModel(num_departments=4)\n",
        "\n",
        "priority, department = model(\n",
        "    {\"title\": title_data, \"text_body\": text_body_data, \"tags\": tags_data})"
      ]
    },
    {
      "cell_type": "code",
      "execution_count": 30,
      "metadata": {
        "id": "NARCA6Wu58n8"
      },
      "outputs": [
        {
          "name": "stdout",
          "output_type": "stream",
          "text": [
            "40/40 [==============================] - 1s 14ms/step - loss: 25.3773 - output_1_loss: 0.3349 - output_2_loss: 25.0425 - output_1_mean_absolute_error: 0.5011 - output_2_accuracy: 0.2352\n",
            "40/40 [==============================] - 0s 5ms/step - loss: 36.3067 - output_1_loss: 0.3358 - output_2_loss: 35.9709 - output_1_mean_absolute_error: 0.5018 - output_2_accuracy: 0.0711\n"
          ]
        }
      ],
      "source": [
        "model.compile(optimizer=\"rmsprop\",\n",
        "              loss=[\"mean_squared_error\", \"categorical_crossentropy\"],\n",
        "              metrics=[[\"mean_absolute_error\"], [\"accuracy\"]])\n",
        "model.fit({\"title\": title_data,\n",
        "           \"text_body\": text_body_data,\n",
        "           \"tags\": tags_data},\n",
        "          [priority_data, department_data],\n",
        "          epochs=1)\n",
        "model.evaluate({\"title\": title_data,\n",
        "                \"text_body\": text_body_data,\n",
        "                \"tags\": tags_data},\n",
        "               [priority_data, department_data])\n",
        "priority_preds, department_preds = model.predict({\"title\": title_data,\n",
        "                                                  \"text_body\": text_body_data,\n",
        "                                                  \"tags\": tags_data})"
      ]
    },
    {
      "cell_type": "markdown",
      "metadata": {
        "id": "VYmpi3jf58n8"
      },
      "source": [
        "#### Beware: What subclassed models don't support"
      ]
    },
    {
      "cell_type": "markdown",
      "metadata": {
        "id": "gqJLWRJu58n8"
      },
      "source": [
        "### Mixing and matching different components"
      ]
    },
    {
      "cell_type": "markdown",
      "metadata": {
        "id": "JTXkFxOu58n8"
      },
      "source": [
        "**Creating a Functional model that includes a subclassed model**"
      ]
    },
    {
      "cell_type": "code",
      "execution_count": 31,
      "metadata": {
        "id": "mcLC86TH58n8"
      },
      "outputs": [],
      "source": [
        "class Classifier(keras.Model):\n",
        "\n",
        "    def __init__(self, num_classes=2):\n",
        "        super().__init__()\n",
        "        if num_classes == 2:\n",
        "            num_units = 1\n",
        "            activation = \"sigmoid\"\n",
        "        else:\n",
        "            num_units = num_classes\n",
        "            activation = \"softmax\"\n",
        "        self.dense = layers.Dense(num_units, activation=activation)\n",
        "\n",
        "    def call(self, inputs):\n",
        "        return self.dense(inputs)\n",
        "\n",
        "inputs = keras.Input(shape=(3,))\n",
        "features = layers.Dense(64, activation=\"relu\")(inputs)\n",
        "outputs = Classifier(num_classes=10)(features)\n",
        "model = keras.Model(inputs=inputs, outputs=outputs)"
      ]
    },
    {
      "cell_type": "markdown",
      "metadata": {
        "id": "NER1c3HR58n8"
      },
      "source": [
        "**Creating a subclassed model that includes a Functional model**"
      ]
    },
    {
      "cell_type": "code",
      "execution_count": 32,
      "metadata": {
        "id": "j5jL7D2P58n8"
      },
      "outputs": [],
      "source": [
        "inputs = keras.Input(shape=(64,))\n",
        "outputs = layers.Dense(1, activation=\"sigmoid\")(inputs)\n",
        "binary_classifier = keras.Model(inputs=inputs, outputs=outputs)\n",
        "\n",
        "class MyModel(keras.Model):\n",
        "\n",
        "    def __init__(self, num_classes=2):\n",
        "        super().__init__()\n",
        "        self.dense = layers.Dense(64, activation=\"relu\")\n",
        "        self.classifier = binary_classifier\n",
        "\n",
        "    def call(self, inputs):\n",
        "        features = self.dense(inputs)\n",
        "        return self.classifier(features)\n",
        "\n",
        "model = MyModel()"
      ]
    },
    {
      "cell_type": "markdown",
      "metadata": {
        "id": "U8P4sKD858n8"
      },
      "source": [
        "### Remember: Use the right tool for the job"
      ]
    },
    {
      "cell_type": "markdown",
      "metadata": {
        "id": "HXgFZbmY58n9"
      },
      "source": [
        "## Using built-in training and evaluation loops"
      ]
    },
    {
      "cell_type": "markdown",
      "metadata": {
        "id": "TYwutAhd58n9"
      },
      "source": [
        "**The standard workflow: `compile()`, `fit()`, `evaluate()`, `predict()`**"
      ]
    },
    {
      "cell_type": "code",
      "execution_count": 33,
      "metadata": {
        "id": "lkeUkwPe58n9"
      },
      "outputs": [
        {
          "name": "stdout",
          "output_type": "stream",
          "text": [
            "Epoch 1/3\n",
            "1563/1563 [==============================] - 8s 5ms/step - loss: 0.2950 - accuracy: 0.9129 - val_loss: 0.1440 - val_accuracy: 0.9583\n",
            "Epoch 2/3\n",
            "1563/1563 [==============================] - 7s 5ms/step - loss: 0.1656 - accuracy: 0.9523 - val_loss: 0.1242 - val_accuracy: 0.9676\n",
            "Epoch 3/3\n",
            "1563/1563 [==============================] - 7s 5ms/step - loss: 0.1369 - accuracy: 0.9626 - val_loss: 0.1174 - val_accuracy: 0.9701\n",
            "313/313 [==============================] - 0s 1ms/step - loss: 0.1100 - accuracy: 0.9721\n"
          ]
        }
      ],
      "source": [
        "from tensorflow.keras.datasets import mnist\n",
        "\n",
        "def get_mnist_model():\n",
        "    inputs = keras.Input(shape=(28 * 28,))\n",
        "    features = layers.Dense(512, activation=\"relu\")(inputs)\n",
        "    features = layers.Dropout(0.5)(features)\n",
        "    outputs = layers.Dense(10, activation=\"softmax\")(features)\n",
        "    model = keras.Model(inputs, outputs)\n",
        "    return model\n",
        "\n",
        "(images, labels), (test_images, test_labels) = mnist.load_data()\n",
        "images = images.reshape((60000, 28 * 28)).astype(\"float32\") / 255\n",
        "test_images = test_images.reshape((10000, 28 * 28)).astype(\"float32\") / 255\n",
        "train_images, val_images = images[10000:], images[:10000]\n",
        "train_labels, val_labels = labels[10000:], labels[:10000]\n",
        "\n",
        "model = get_mnist_model()\n",
        "model.compile(optimizer=\"rmsprop\",\n",
        "              loss=\"sparse_categorical_crossentropy\",\n",
        "              metrics=[\"accuracy\"])\n",
        "model.fit(train_images, train_labels,\n",
        "          epochs=3,\n",
        "          validation_data=(val_images, val_labels))\n",
        "test_metrics = model.evaluate(test_images, test_labels)\n",
        "predictions = model.predict(test_images)"
      ]
    },
    {
      "cell_type": "markdown",
      "metadata": {
        "id": "-69jjA3K58n9"
      },
      "source": [
        "### Writing your own metrics"
      ]
    },
    {
      "cell_type": "markdown",
      "metadata": {
        "id": "0TSqFpZm58n9"
      },
      "source": [
        "**Implementing a custom metric by subclassing the `Metric` class**"
      ]
    },
    {
      "cell_type": "code",
      "execution_count": 34,
      "metadata": {
        "id": "alQpxcI758n9"
      },
      "outputs": [],
      "source": [
        "import tensorflow as tf\n",
        "\n",
        "class RootMeanSquaredError(keras.metrics.Metric):\n",
        "\n",
        "    def __init__(self, name=\"rmse\", **kwargs):\n",
        "        super().__init__(name=name, **kwargs)\n",
        "        self.mse_sum = self.add_weight(name=\"mse_sum\", initializer=\"zeros\")\n",
        "        self.total_samples = self.add_weight(\n",
        "            name=\"total_samples\", initializer=\"zeros\", dtype=\"int32\")\n",
        "\n",
        "    def update_state(self, y_true, y_pred, sample_weight=None):\n",
        "        y_true = tf.one_hot(y_true, depth=tf.shape(y_pred)[1])\n",
        "        mse = tf.reduce_sum(tf.square(y_true - y_pred))\n",
        "        self.mse_sum.assign_add(mse)\n",
        "        num_samples = tf.shape(y_pred)[0]\n",
        "        self.total_samples.assign_add(num_samples)\n",
        "\n",
        "    def result(self):\n",
        "        return tf.sqrt(self.mse_sum / tf.cast(self.total_samples, tf.float32))\n",
        "\n",
        "    def reset_state(self):\n",
        "        self.mse_sum.assign(0.)\n",
        "        self.total_samples.assign(0)"
      ]
    },
    {
      "cell_type": "code",
      "execution_count": 35,
      "metadata": {
        "id": "yAidijh758n9"
      },
      "outputs": [
        {
          "name": "stdout",
          "output_type": "stream",
          "text": [
            "Epoch 1/3\n",
            "1563/1563 [==============================] - 8s 5ms/step - loss: 0.2944 - accuracy: 0.9128 - rmse: 7.1830 - val_loss: 0.1680 - val_accuracy: 0.9492 - val_rmse: 7.3523\n",
            "Epoch 2/3\n",
            "1563/1563 [==============================] - 8s 5ms/step - loss: 0.1637 - accuracy: 0.9538 - rmse: 7.3535 - val_loss: 0.1208 - val_accuracy: 0.9672 - val_rmse: 7.3989\n",
            "Epoch 3/3\n",
            "1563/1563 [==============================] - 7s 5ms/step - loss: 0.1376 - accuracy: 0.9629 - rmse: 7.3878 - val_loss: 0.1110 - val_accuracy: 0.9694 - val_rmse: 7.4185\n",
            "313/313 [==============================] - 1s 2ms/step - loss: 0.1135 - accuracy: 0.9701 - rmse: 7.4333\n"
          ]
        }
      ],
      "source": [
        "model = get_mnist_model()\n",
        "model.compile(optimizer=\"rmsprop\",\n",
        "              loss=\"sparse_categorical_crossentropy\",\n",
        "              metrics=[\"accuracy\", RootMeanSquaredError()])\n",
        "model.fit(train_images, train_labels,\n",
        "          epochs=3,\n",
        "          validation_data=(val_images, val_labels))\n",
        "test_metrics = model.evaluate(test_images, test_labels)"
      ]
    },
    {
      "cell_type": "markdown",
      "metadata": {
        "id": "nBdLi6OH58n-"
      },
      "source": [
        "### Using callbacks"
      ]
    },
    {
      "cell_type": "markdown",
      "metadata": {
        "id": "8Zwhy9lb58n-"
      },
      "source": [
        "#### The EarlyStopping and ModelCheckpoint callbacks"
      ]
    },
    {
      "cell_type": "markdown",
      "metadata": {
        "id": "iMPzQej_58n-"
      },
      "source": [
        "**Using the `callbacks` argument in the `fit()` method**"
      ]
    },
    {
      "cell_type": "code",
      "execution_count": 36,
      "metadata": {
        "id": "0gG1OpR158n-"
      },
      "outputs": [
        {
          "name": "stdout",
          "output_type": "stream",
          "text": [
            "Epoch 1/10\n",
            "1563/1563 [==============================] - 8s 5ms/step - loss: 0.2928 - accuracy: 0.9133 - val_loss: 0.1478 - val_accuracy: 0.9574\n",
            "Epoch 2/10\n",
            "1563/1563 [==============================] - 8s 5ms/step - loss: 0.1672 - accuracy: 0.9529 - val_loss: 0.1180 - val_accuracy: 0.9663\n",
            "Epoch 3/10\n",
            "1563/1563 [==============================] - 7s 5ms/step - loss: 0.1406 - accuracy: 0.9624 - val_loss: 0.1176 - val_accuracy: 0.9693\n",
            "Epoch 4/10\n",
            "1563/1563 [==============================] - 8s 5ms/step - loss: 0.1245 - accuracy: 0.9679 - val_loss: 0.1175 - val_accuracy: 0.9717\n",
            "Epoch 5/10\n",
            "1563/1563 [==============================] - 8s 5ms/step - loss: 0.1164 - accuracy: 0.9713 - val_loss: 0.1073 - val_accuracy: 0.9755\n",
            "Epoch 6/10\n",
            "1563/1563 [==============================] - 7s 5ms/step - loss: 0.1089 - accuracy: 0.9735 - val_loss: 0.1145 - val_accuracy: 0.9741\n",
            "Epoch 7/10\n",
            "1563/1563 [==============================] - 7s 5ms/step - loss: 0.1054 - accuracy: 0.9750 - val_loss: 0.1143 - val_accuracy: 0.9753\n"
          ]
        },
        {
          "data": {
            "text/plain": [
              "<keras.callbacks.History at 0x7fb351a68460>"
            ]
          },
          "execution_count": 36,
          "metadata": {},
          "output_type": "execute_result"
        }
      ],
      "source": [
        "callbacks_list = [\n",
        "    keras.callbacks.EarlyStopping(\n",
        "        monitor=\"val_accuracy\",\n",
        "        patience=2,\n",
        "    ),\n",
        "    keras.callbacks.ModelCheckpoint(\n",
        "        filepath=\"checkpoint_path.keras\",\n",
        "        monitor=\"val_loss\",\n",
        "        save_best_only=True,\n",
        "    )\n",
        "]\n",
        "model = get_mnist_model()\n",
        "model.compile(optimizer=\"rmsprop\",\n",
        "              loss=\"sparse_categorical_crossentropy\",\n",
        "              metrics=[\"accuracy\"])\n",
        "model.fit(train_images, train_labels,\n",
        "          epochs=10,\n",
        "          callbacks=callbacks_list,\n",
        "          validation_data=(val_images, val_labels))"
      ]
    },
    {
      "cell_type": "code",
      "execution_count": 37,
      "metadata": {
        "id": "uNspapXT58n-"
      },
      "outputs": [],
      "source": [
        "model = keras.models.load_model(\"checkpoint_path.keras\")"
      ]
    },
    {
      "cell_type": "markdown",
      "metadata": {
        "id": "MiON7y8T58n-"
      },
      "source": [
        "### Writing your own callbacks"
      ]
    },
    {
      "cell_type": "markdown",
      "metadata": {
        "id": "Q-nhiqLp58n-"
      },
      "source": [
        "**Creating a custom callback by subclassing the `Callback` class**"
      ]
    },
    {
      "cell_type": "code",
      "execution_count": 38,
      "metadata": {
        "id": "se9r1M0158n-"
      },
      "outputs": [],
      "source": [
        "from matplotlib import pyplot as plt\n",
        "\n",
        "class LossHistory(keras.callbacks.Callback):\n",
        "    def on_train_begin(self, logs):\n",
        "        self.per_batch_losses = []\n",
        "\n",
        "    def on_batch_end(self, batch, logs):\n",
        "        self.per_batch_losses.append(logs.get(\"loss\"))\n",
        "\n",
        "    def on_epoch_end(self, epoch, logs):\n",
        "        plt.clf()\n",
        "        plt.plot(range(len(self.per_batch_losses)), self.per_batch_losses,\n",
        "                 label=\"Training loss for each batch\")\n",
        "        plt.xlabel(f\"Batch (epoch {epoch})\")\n",
        "        plt.ylabel(\"Loss\")\n",
        "        plt.legend()\n",
        "        plt.savefig(f\"plot_at_epoch_{epoch}\")\n",
        "        self.per_batch_losses = []"
      ]
    },
    {
      "cell_type": "code",
      "execution_count": 39,
      "metadata": {
        "id": "xdMydpBE58n_"
      },
      "outputs": [
        {
          "name": "stdout",
          "output_type": "stream",
          "text": [
            "Epoch 1/10\n",
            "1563/1563 [==============================] - 8s 5ms/step - loss: 0.2937 - accuracy: 0.9127 - val_loss: 0.1441 - val_accuracy: 0.9600\n",
            "Epoch 2/10\n",
            "1563/1563 [==============================] - 7s 4ms/step - loss: 0.1636 - accuracy: 0.9538 - val_loss: 0.1332 - val_accuracy: 0.9642\n",
            "Epoch 3/10\n",
            "1563/1563 [==============================] - 7s 5ms/step - loss: 0.1379 - accuracy: 0.9627 - val_loss: 0.1149 - val_accuracy: 0.9709\n",
            "Epoch 4/10\n",
            "1563/1563 [==============================] - 7s 5ms/step - loss: 0.1247 - accuracy: 0.9671 - val_loss: 0.1013 - val_accuracy: 0.9759\n",
            "Epoch 5/10\n",
            "1563/1563 [==============================] - 7s 4ms/step - loss: 0.1161 - accuracy: 0.9710 - val_loss: 0.1080 - val_accuracy: 0.9749\n",
            "Epoch 6/10\n",
            "1563/1563 [==============================] - 7s 4ms/step - loss: 0.1108 - accuracy: 0.9734 - val_loss: 0.1096 - val_accuracy: 0.9775\n",
            "Epoch 7/10\n",
            "1563/1563 [==============================] - 7s 4ms/step - loss: 0.1040 - accuracy: 0.9755 - val_loss: 0.1143 - val_accuracy: 0.9760\n",
            "Epoch 8/10\n",
            "1563/1563 [==============================] - 7s 4ms/step - loss: 0.1023 - accuracy: 0.9764 - val_loss: 0.1058 - val_accuracy: 0.9781\n",
            "Epoch 9/10\n",
            "1563/1563 [==============================] - 7s 4ms/step - loss: 0.0939 - accuracy: 0.9783 - val_loss: 0.1260 - val_accuracy: 0.9767\n",
            "Epoch 10/10\n",
            "1563/1563 [==============================] - 7s 5ms/step - loss: 0.0935 - accuracy: 0.9786 - val_loss: 0.1126 - val_accuracy: 0.9783\n"
          ]
        },
        {
          "data": {
            "text/plain": [
              "<keras.callbacks.History at 0x7fb351b6fa30>"
            ]
          },
          "execution_count": 39,
          "metadata": {},
          "output_type": "execute_result"
        },
        {
          "data": {
            "image/png": "[encoded data removed]",
            "text/plain": [
              "<Figure size 432x288 with 1 Axes>"
            ]
          },
          "metadata": {
            "needs_background": "light"
          },
          "output_type": "display_data"
        }
      ],
      "source": [
        "model = get_mnist_model()\n",
        "model.compile(optimizer=\"rmsprop\",\n",
        "              loss=\"sparse_categorical_crossentropy\",\n",
        "              metrics=[\"accuracy\"])\n",
        "model.fit(train_images, train_labels,\n",
        "          epochs=10,\n",
        "          callbacks=[LossHistory()],\n",
        "          validation_data=(val_images, val_labels))"
      ]
    },
    {
      "cell_type": "markdown",
      "metadata": {
        "id": "U36YdKHE58n_"
      },
      "source": [
        "### Monitoring and visualization with TensorBoard"
      ]
    },
    {
      "cell_type": "code",
      "execution_count": 41,
      "metadata": {
        "id": "MdsCAeZj58n_"
      },
      "outputs": [
        {
          "name": "stderr",
          "output_type": "stream",
          "text": [
            "2022-03-31 14:41:28.457683: W tensorflow/core/framework/op_kernel.cc:1745] OP_REQUIRES failed at summary_kernels.cc:65 : PERMISSION_DENIED: /train; Read-only file system\n"
          ]
        },
        {
          "ename": "PermissionDeniedError",
          "evalue": "/train; Read-only file system [Op:CreateSummaryFileWriter]",
          "output_type": "error",
          "traceback": [
            "\u001b[0;31m---------------------------------------------------------------------------\u001b[0m",
            "\u001b[0;31mPermissionDeniedError\u001b[0m                     Traceback (most recent call last)",
            "\u001b[0;32m/var/folders/sl/9n0p_v712g9ftpzq9r9c254w0000gn/T/ipykernel_21187/4035301753.py\u001b[0m in \u001b[0;36m<cell line: 9>\u001b[0;34m()\u001b[0m\n\u001b[1;32m      7\u001b[0m     \u001b[0mlog_dir\u001b[0m\u001b[0;34m=\u001b[0m\u001b[0;34m\"/\"\u001b[0m\u001b[0;34m,\u001b[0m\u001b[0;34m\u001b[0m\u001b[0;34m\u001b[0m\u001b[0m\n\u001b[1;32m      8\u001b[0m )\n\u001b[0;32m----> 9\u001b[0;31m model.fit(train_images, train_labels,\n\u001b[0m\u001b[1;32m     10\u001b[0m           \u001b[0mepochs\u001b[0m\u001b[0;34m=\u001b[0m\u001b[0;36m3\u001b[0m\u001b[0;34m,\u001b[0m\u001b[0;34m\u001b[0m\u001b[0;34m\u001b[0m\u001b[0m\n\u001b[1;32m     11\u001b[0m           \u001b[0mvalidation_data\u001b[0m\u001b[0;34m=\u001b[0m\u001b[0;34m(\u001b[0m\u001b[0mval_images\u001b[0m\u001b[0;34m,\u001b[0m \u001b[0mval_labels\u001b[0m\u001b[0;34m)\u001b[0m\u001b[0;34m,\u001b[0m\u001b[0;34m\u001b[0m\u001b[0;34m\u001b[0m\u001b[0m\n",
            "\u001b[0;32m~/opt/anaconda3/envs/tf/lib/python3.8/site-packages/keras/utils/traceback_utils.py\u001b[0m in \u001b[0;36merror_handler\u001b[0;34m(*args, **kwargs)\u001b[0m\n\u001b[1;32m     65\u001b[0m     \u001b[0;32mexcept\u001b[0m \u001b[0mException\u001b[0m \u001b[0;32mas\u001b[0m \u001b[0me\u001b[0m\u001b[0;34m:\u001b[0m  \u001b[0;31m# pylint: disable=broad-except\u001b[0m\u001b[0;34m\u001b[0m\u001b[0;34m\u001b[0m\u001b[0m\n\u001b[1;32m     66\u001b[0m       \u001b[0mfiltered_tb\u001b[0m \u001b[0;34m=\u001b[0m \u001b[0m_process_traceback_frames\u001b[0m\u001b[0;34m(\u001b[0m\u001b[0me\u001b[0m\u001b[0;34m.\u001b[0m\u001b[0m__traceback__\u001b[0m\u001b[0;34m)\u001b[0m\u001b[0;34m\u001b[0m\u001b[0;34m\u001b[0m\u001b[0m\n\u001b[0;32m---> 67\u001b[0;31m       \u001b[0;32mraise\u001b[0m \u001b[0me\u001b[0m\u001b[0;34m.\u001b[0m\u001b[0mwith_traceback\u001b[0m\u001b[0;34m(\u001b[0m\u001b[0mfiltered_tb\u001b[0m\u001b[0;34m)\u001b[0m \u001b[0;32mfrom\u001b[0m \u001b[0;32mNone\u001b[0m\u001b[0;34m\u001b[0m\u001b[0;34m\u001b[0m\u001b[0m\n\u001b[0m\u001b[1;32m     68\u001b[0m     \u001b[0;32mfinally\u001b[0m\u001b[0;34m:\u001b[0m\u001b[0;34m\u001b[0m\u001b[0;34m\u001b[0m\u001b[0m\n\u001b[1;32m     69\u001b[0m       \u001b[0;32mdel\u001b[0m \u001b[0mfiltered_tb\u001b[0m\u001b[0;34m\u001b[0m\u001b[0;34m\u001b[0m\u001b[0m\n",
            "\u001b[0;32m~/opt/anaconda3/envs/tf/lib/python3.8/site-packages/tensorflow/python/framework/ops.py\u001b[0m in \u001b[0;36mraise_from_not_ok_status\u001b[0;34m(e, name)\u001b[0m\n\u001b[1;32m   7105\u001b[0m \u001b[0;32mdef\u001b[0m \u001b[0mraise_from_not_ok_status\u001b[0m\u001b[0;34m(\u001b[0m\u001b[0me\u001b[0m\u001b[0;34m,\u001b[0m \u001b[0mname\u001b[0m\u001b[0;34m)\u001b[0m\u001b[0;34m:\u001b[0m\u001b[0;34m\u001b[0m\u001b[0;34m\u001b[0m\u001b[0m\n\u001b[1;32m   7106\u001b[0m   \u001b[0me\u001b[0m\u001b[0;34m.\u001b[0m\u001b[0mmessage\u001b[0m \u001b[0;34m+=\u001b[0m \u001b[0;34m(\u001b[0m\u001b[0;34m\" name: \"\u001b[0m \u001b[0;34m+\u001b[0m \u001b[0mname\u001b[0m \u001b[0;32mif\u001b[0m \u001b[0mname\u001b[0m \u001b[0;32mis\u001b[0m \u001b[0;32mnot\u001b[0m \u001b[0;32mNone\u001b[0m \u001b[0;32melse\u001b[0m \u001b[0;34m\"\"\u001b[0m\u001b[0;34m)\u001b[0m\u001b[0;34m\u001b[0m\u001b[0;34m\u001b[0m\u001b[0m\n\u001b[0;32m-> 7107\u001b[0;31m   \u001b[0;32mraise\u001b[0m \u001b[0mcore\u001b[0m\u001b[0;34m.\u001b[0m\u001b[0m_status_to_exception\u001b[0m\u001b[0;34m(\u001b[0m\u001b[0me\u001b[0m\u001b[0;34m)\u001b[0m \u001b[0;32mfrom\u001b[0m \u001b[0;32mNone\u001b[0m  \u001b[0;31m# pylint: disable=protected-access\u001b[0m\u001b[0;34m\u001b[0m\u001b[0;34m\u001b[0m\u001b[0m\n\u001b[0m\u001b[1;32m   7108\u001b[0m \u001b[0;34m\u001b[0m\u001b[0m\n\u001b[1;32m   7109\u001b[0m \u001b[0;34m\u001b[0m\u001b[0m\n",
            "\u001b[0;31mPermissionDeniedError\u001b[0m: /train; Read-only file system [Op:CreateSummaryFileWriter]"
          ]
        }
      ],
      "source": [
        "model = get_mnist_model()\n",
        "model.compile(optimizer=\"rmsprop\",\n",
        "              loss=\"sparse_categorical_crossentropy\",\n",
        "              metrics=[\"accuracy\"])\n",
        "\n",
        "tensorboard = keras.callbacks.TensorBoard(\n",
        "    log_dir=\"/full_path_to_your_log_dir\",\n",
        ")\n",
        "model.fit(train_images, train_labels,\n",
        "          epochs=3,\n",
        "          validation_data=(val_images, val_labels),\n",
        "          callbacks=[tensorboard])"
      ]
    },
    {
      "cell_type": "code",
      "execution_count": null,
      "metadata": {
        "id": "Cb0oXGUc58n_"
      },
      "outputs": [],
      "source": [
        "%load_ext tensorboard\n",
        "%tensorboard --logdir /full_path_to_your_log_dir"
      ]
    },
    {
      "cell_type": "markdown",
      "metadata": {
        "id": "D2bbEs0-58n_"
      },
      "source": [
        "## Writing your own training and evaluation loops"
      ]
    },
    {
      "cell_type": "markdown",
      "metadata": {
        "id": "RmrGK_Qi58n_"
      },
      "source": [
        "### Training versus inference"
      ]
    },
    {
      "cell_type": "markdown",
      "metadata": {
        "id": "fg7US5fA58n_"
      },
      "source": [
        "### Low-level usage of metrics"
      ]
    },
    {
      "cell_type": "code",
      "execution_count": null,
      "metadata": {
        "id": "5bv9FRZ358n_"
      },
      "outputs": [],
      "source": [
        "metric = keras.metrics.SparseCategoricalAccuracy()\n",
        "targets = [0, 1, 2]\n",
        "predictions = [[1, 0, 0], [0, 1, 0], [0, 0, 1]]\n",
        "metric.update_state(targets, predictions)\n",
        "current_result = metric.result()\n",
        "print(f\"result: {current_result:.2f}\")"
      ]
    },
    {
      "cell_type": "code",
      "execution_count": null,
      "metadata": {
        "id": "0uZu4-0158n_"
      },
      "outputs": [],
      "source": [
        "values = [0, 1, 2, 3, 4]\n",
        "mean_tracker = keras.metrics.Mean()\n",
        "for value in values:\n",
        "    mean_tracker.update_state(value)\n",
        "print(f\"Mean of values: {mean_tracker.result():.2f}\")"
      ]
    },
    {
      "cell_type": "markdown",
      "metadata": {
        "id": "n7zIL4gb58oA"
      },
      "source": [
        "### A complete training and evaluation loop"
      ]
    },
    {
      "cell_type": "markdown",
      "metadata": {
        "id": "3UY95zEN58oA"
      },
      "source": [
        "**Writing a step-by-step training loop: the training step function**"
      ]
    },
    {
      "cell_type": "code",
      "execution_count": null,
      "metadata": {
        "id": "nsnBWTJ658oA"
      },
      "outputs": [],
      "source": [
        "model = get_mnist_model()\n",
        "\n",
        "loss_fn = keras.losses.SparseCategoricalCrossentropy()\n",
        "optimizer = keras.optimizers.RMSprop()\n",
        "metrics = [keras.metrics.SparseCategoricalAccuracy()]\n",
        "loss_tracking_metric = keras.metrics.Mean()\n",
        "\n",
        "def train_step(inputs, targets):\n",
        "    with tf.GradientTape() as tape:\n",
        "        predictions = model(inputs, training=True)\n",
        "        loss = loss_fn(targets, predictions)\n",
        "    gradients = tape.gradient(loss, model.trainable_weights)\n",
        "    optimizer.apply_gradients(zip(gradients, model.trainable_weights))\n",
        "\n",
        "    logs = {}\n",
        "    for metric in metrics:\n",
        "        metric.update_state(targets, predictions)\n",
        "        logs[metric.name] = metric.result()\n",
        "\n",
        "    loss_tracking_metric.update_state(loss)\n",
        "    logs[\"loss\"] = loss_tracking_metric.result()\n",
        "    return logs"
      ]
    },
    {
      "cell_type": "markdown",
      "metadata": {
        "id": "RzKDnbE558oA"
      },
      "source": [
        "**Writing a step-by-step training loop: resetting the metrics**"
      ]
    },
    {
      "cell_type": "code",
      "execution_count": null,
      "metadata": {
        "id": "Ckdk6lkf58oA"
      },
      "outputs": [],
      "source": [
        "def reset_metrics():\n",
        "    for metric in metrics:\n",
        "        metric.reset_state()\n",
        "    loss_tracking_metric.reset_state()"
      ]
    },
    {
      "cell_type": "markdown",
      "metadata": {
        "id": "H7mhyG5A58oA"
      },
      "source": [
        "**Writing a step-by-step training loop: the loop itself**"
      ]
    },
    {
      "cell_type": "code",
      "execution_count": null,
      "metadata": {
        "id": "GmXJthuX58oA"
      },
      "outputs": [],
      "source": [
        "training_dataset = tf.data.Dataset.from_tensor_slices((train_images, train_labels))\n",
        "training_dataset = training_dataset.batch(32)\n",
        "epochs = 3\n",
        "for epoch in range(epochs):\n",
        "    reset_metrics()\n",
        "    for inputs_batch, targets_batch in training_dataset:\n",
        "        logs = train_step(inputs_batch, targets_batch)\n",
        "    print(f\"Results at the end of epoch {epoch}\")\n",
        "    for key, value in logs.items():\n",
        "        print(f\"...{key}: {value:.4f}\")"
      ]
    },
    {
      "cell_type": "markdown",
      "metadata": {
        "id": "wkai0KJt58oA"
      },
      "source": [
        "**Writing a step-by-step evaluation loop**"
      ]
    },
    {
      "cell_type": "code",
      "execution_count": null,
      "metadata": {
        "id": "KEQHvbed58oB"
      },
      "outputs": [],
      "source": [
        "def test_step(inputs, targets):\n",
        "    predictions = model(inputs, training=False)\n",
        "    loss = loss_fn(targets, predictions)\n",
        "\n",
        "    logs = {}\n",
        "    for metric in metrics:\n",
        "        metric.update_state(targets, predictions)\n",
        "        logs[\"val_\" + metric.name] = metric.result()\n",
        "\n",
        "    loss_tracking_metric.update_state(loss)\n",
        "    logs[\"val_loss\"] = loss_tracking_metric.result()\n",
        "    return logs\n",
        "\n",
        "val_dataset = tf.data.Dataset.from_tensor_slices((val_images, val_labels))\n",
        "val_dataset = val_dataset.batch(32)\n",
        "reset_metrics()\n",
        "for inputs_batch, targets_batch in val_dataset:\n",
        "    logs = test_step(inputs_batch, targets_batch)\n",
        "print(\"Evaluation results:\")\n",
        "for key, value in logs.items():\n",
        "    print(f\"...{key}: {value:.4f}\")"
      ]
    },
    {
      "cell_type": "markdown",
      "metadata": {
        "id": "Y8Y4Do6c58oB"
      },
      "source": [
        "### Make it fast with tf.function"
      ]
    },
    {
      "cell_type": "markdown",
      "metadata": {
        "id": "Juwn9uNb58oB"
      },
      "source": [
        "**Adding a `tf.function` decorator to our evaluation-step function**"
      ]
    },
    {
      "cell_type": "code",
      "execution_count": null,
      "metadata": {
        "id": "8dm-YZ0058oB"
      },
      "outputs": [],
      "source": [
        "@tf.function\n",
        "def test_step(inputs, targets):\n",
        "    predictions = model(inputs, training=False)\n",
        "    loss = loss_fn(targets, predictions)\n",
        "\n",
        "    logs = {}\n",
        "    for metric in metrics:\n",
        "        metric.update_state(targets, predictions)\n",
        "        logs[\"val_\" + metric.name] = metric.result()\n",
        "\n",
        "    loss_tracking_metric.update_state(loss)\n",
        "    logs[\"val_loss\"] = loss_tracking_metric.result()\n",
        "    return logs\n",
        "\n",
        "val_dataset = tf.data.Dataset.from_tensor_slices((val_images, val_labels))\n",
        "val_dataset = val_dataset.batch(32)\n",
        "reset_metrics()\n",
        "for inputs_batch, targets_batch in val_dataset:\n",
        "    logs = test_step(inputs_batch, targets_batch)\n",
        "print(\"Evaluation results:\")\n",
        "for key, value in logs.items():\n",
        "    print(f\"...{key}: {value:.4f}\")"
      ]
    },
    {
      "cell_type": "markdown",
      "metadata": {
        "id": "frPzcqIv58oB"
      },
      "source": [
        "### Leveraging fit() with a custom training loop"
      ]
    },
    {
      "cell_type": "markdown",
      "metadata": {
        "id": "_wJIk-wb58oB"
      },
      "source": [
        "**Implementing a custom training step to use with `fit()`**"
      ]
    },
    {
      "cell_type": "code",
      "execution_count": null,
      "metadata": {
        "id": "JUQJZ6Oc58oB"
      },
      "outputs": [],
      "source": [
        "loss_fn = keras.losses.SparseCategoricalCrossentropy()\n",
        "loss_tracker = keras.metrics.Mean(name=\"loss\")\n",
        "\n",
        "class CustomModel(keras.Model):\n",
        "    def train_step(self, data):\n",
        "        inputs, targets = data\n",
        "        with tf.GradientTape() as tape:\n",
        "            predictions = self(inputs, training=True)\n",
        "            loss = loss_fn(targets, predictions)\n",
        "        gradients = tape.gradient(loss, self.trainable_weights)\n",
        "        self.optimizer.apply_gradients(zip(gradients, self.trainable_weights))\n",
        "\n",
        "        loss_tracker.update_state(loss)\n",
        "        return {\"loss\": loss_tracker.result()}\n",
        "\n",
        "    @property\n",
        "    def metrics(self):\n",
        "        return [loss_tracker]"
      ]
    },
    {
      "cell_type": "code",
      "execution_count": null,
      "metadata": {
        "id": "lHE5xaUs58oB"
      },
      "outputs": [],
      "source": [
        "inputs = keras.Input(shape=(28 * 28,))\n",
        "features = layers.Dense(512, activation=\"relu\")(inputs)\n",
        "features = layers.Dropout(0.5)(features)\n",
        "outputs = layers.Dense(10, activation=\"softmax\")(features)\n",
        "model = CustomModel(inputs, outputs)\n",
        "\n",
        "model.compile(optimizer=keras.optimizers.RMSprop())\n",
        "model.fit(train_images, train_labels, epochs=3)"
      ]
    },
    {
      "cell_type": "code",
      "execution_count": null,
      "metadata": {
        "id": "pV_VMk-Q58oC"
      },
      "outputs": [],
      "source": [
        "class CustomModel(keras.Model):\n",
        "    def train_step(self, data):\n",
        "        inputs, targets = data\n",
        "        with tf.GradientTape() as tape:\n",
        "            predictions = self(inputs, training=True)\n",
        "            loss = self.compiled_loss(targets, predictions)\n",
        "        gradients = tape.gradient(loss, self.trainable_weights)\n",
        "        self.optimizer.apply_gradients(zip(gradients, self.trainable_weights))\n",
        "        self.compiled_metrics.update_state(targets, predictions)\n",
        "        return {m.name: m.result() for m in self.metrics}"
      ]
    },
    {
      "cell_type": "code",
      "execution_count": null,
      "metadata": {
        "id": "XQA_egSb58oC"
      },
      "outputs": [],
      "source": [
        "inputs = keras.Input(shape=(28 * 28,))\n",
        "features = layers.Dense(512, activation=\"relu\")(inputs)\n",
        "features = layers.Dropout(0.5)(features)\n",
        "outputs = layers.Dense(10, activation=\"softmax\")(features)\n",
        "model = CustomModel(inputs, outputs)\n",
        "\n",
        "model.compile(optimizer=keras.optimizers.RMSprop(),\n",
        "              loss=keras.losses.SparseCategoricalCrossentropy(),\n",
        "              metrics=[keras.metrics.SparseCategoricalAccuracy()])\n",
        "model.fit(train_images, train_labels, epochs=3)"
      ]
    },
    {
      "cell_type": "markdown",
      "metadata": {
        "id": "esmyW5J-58oC"
      },
      "source": [
        "## Summary"
      ]
    }
  ],
  "metadata": {
    "colab": {
      "collapsed_sections": [],
      "name": "chapter07_working-with-keras.i",
      "provenance": [],
      "toc_visible": true
    },
    "kernelspec": {
      "display_name": "Python 3",
      "language": "python",
      "name": "python3"
    },
    "language_info": {
      "codemirror_mode": {
        "name": "ipython",
        "version": 3
      },
      "file_extension": ".py",
      "mimetype": "text/x-python",
      "name": "python",
      "nbconvert_exporter": "python",
      "pygments_lexer": "ipython3",
      "version": "3.8.12"
    }
  },
  "nbformat": 4,
  "nbformat_minor": 0
}
