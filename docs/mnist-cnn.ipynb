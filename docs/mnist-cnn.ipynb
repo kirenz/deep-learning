{
  "cells": [
    {
      "cell_type": "markdown",
      "metadata": {},
      "source": [
        "# CNN intro"
      ]
    },
    {
      "cell_type": "markdown",
      "metadata": {
        "id": "8fLCc3qLlC2u"
      },
      "source": [
        "*This tutorial is mainly based on the excellent book [Deep Learning with Python, Second Edition](https://www.manning.com/books/deep-learning-with-python-second-edition?a_aid=keras&a_bid=76564dff) by François Chollet as well as content from the [ML Practica](https://developers.google.com/machine-learning/practica) provided by Google Developers.*\n",
        "\n",
        "The problem we’re trying to solve here is to classify the grayscale images of handwritten digits (28x28 pixels) into their 10 categories (0 through 9) using a convolutional neural network (CNN).\n",
        "\n",
        "A convolutional neural network (CNN) can be used to progressively extract higher- and higher-level representations of the image content. Instead of preprocessing the data to derive features like textures and shapes, a CNN takes just the image's raw pixel data as input and \"learns\" how to extract these features, and ultimately infer what object they constitute (Google Developers)."
      ]
    },
    {
      "cell_type": "markdown",
      "metadata": {
        "id": "oS6pA1XUlC2x"
      },
      "source": [
        "## Data"
      ]
    },
    {
      "cell_type": "markdown",
      "metadata": {},
      "source": [
        "The MNIST database (Modified National Institute of Standards and Technology database) is a large database of handwritten digits that is commonly used for training various image processing systems.\n",
        "\n",
        "![](https://upload.wikimedia.org/wikipedia/commons/2/27/MnistExamples.png)\n",
        "\n",
        "Image source: [Wikipedia, Josef Steppan](https://upload.wikimedia.org/wikipedia/commons/2/27/MnistExamples.png)\n",
        "\n",
        "MNIST contains a set of 60,000 training images, plus 10,000 test images."
      ]
    },
    {
      "cell_type": "markdown",
      "metadata": {},
      "source": [
        "### Data import"
      ]
    },
    {
      "cell_type": "markdown",
      "metadata": {},
      "source": [
        "The MNIST dataset comes preloaded in Keras, in the form of a set of four NumPy\n",
        "arrays."
      ]
    },
    {
      "cell_type": "code",
      "execution_count": 16,
      "metadata": {},
      "outputs": [],
      "source": [
        "from tensorflow.keras.datasets import mnist\n",
        "\n",
        "(train_images, train_labels), (test_images, test_labels) = mnist.load_data()"
      ]
    },
    {
      "cell_type": "markdown",
      "metadata": {},
      "source": [
        "Our training images are stored in an array:\n",
        "\n",
        "- of shape (60000, 28, 28) \n",
        "- of type uint8 \n",
        "- with values in the [0, 255] interval"
      ]
    },
    {
      "cell_type": "code",
      "execution_count": 17,
      "metadata": {},
      "outputs": [
        {
          "data": {
            "text/plain": [
              "(60000, 28, 28)"
            ]
          },
          "execution_count": 17,
          "metadata": {},
          "output_type": "execute_result"
        }
      ],
      "source": [
        "# take a look at the shape\n",
        "train_images.shape"
      ]
    },
    {
      "cell_type": "markdown",
      "metadata": {},
      "source": [
        "Let's take a look at our labels:"
      ]
    },
    {
      "cell_type": "code",
      "execution_count": 18,
      "metadata": {},
      "outputs": [
        {
          "data": {
            "text/plain": [
              "(60000,)"
            ]
          },
          "execution_count": 18,
          "metadata": {},
          "output_type": "execute_result"
        }
      ],
      "source": [
        "train_labels.shape"
      ]
    },
    {
      "cell_type": "code",
      "execution_count": 19,
      "metadata": {},
      "outputs": [
        {
          "data": {
            "text/plain": [
              "array([5, 0, 4, ..., 5, 6, 8], dtype=uint8)"
            ]
          },
          "execution_count": 19,
          "metadata": {},
          "output_type": "execute_result"
        }
      ],
      "source": [
        "train_labels"
      ]
    },
    {
      "cell_type": "markdown",
      "metadata": {},
      "source": [
        "## Data preprocessing"
      ]
    },
    {
      "cell_type": "markdown",
      "metadata": {},
      "source": [
        "Before training, we’ll preprocess the data:\n",
        "\n",
        "1. `reshape()`: we reshape our training and test data. The input is samples, height, width and depth (color channel). For a black-and-white picture, like the MNIST digits, the depth is 1 (levels of gray from value 0 to 255).\n",
        "\n",
        "1. `astype()`: we transform the data into float32\n",
        "\n",
        "1. We *scale* the data (devide by 255) so that all values are in the [0, 1] interval. \n",
        "\n",
        "Hence, we’ll transform our data into a float32 array of shape (60000, 28, 28, 1) with values between 0 and 1."
      ]
    },
    {
      "cell_type": "code",
      "execution_count": 20,
      "metadata": {},
      "outputs": [],
      "source": [
        "# Training data\n",
        "train_images = train_images.reshape((60000, 28, 28, 1))\n",
        "train_images = train_images.astype(\"float32\") / 255\n",
        "\n",
        "# Test data\n",
        "test_images = test_images.reshape((10000, 28, 28, 1))\n",
        "test_images = test_images.astype(\"float32\") / 255"
      ]
    },
    {
      "cell_type": "markdown",
      "metadata": {
        "id": "_apRCwI5lC2x"
      },
      "source": [
        "## Model"
      ]
    },
    {
      "cell_type": "markdown",
      "metadata": {},
      "source": [
        "Let's first address the difference between a densely connected layer and a convolution layer in Keras:\n",
        "\n",
        "- Dense layers learn global patterns in their input feature space (for example, for a MNIST digit, patterns involving all pixels)\n",
        "\n",
        "- convolution layers learn local patterns—in the case of images, patterns found in small 2D windows of the inputs."
      ]
    },
    {
      "cell_type": "markdown",
      "metadata": {},
      "source": [
        "### Feature maps and filters\n",
        "\n",
        "A convolution extracts tiles of the input feature map, and applies filters to them to compute new features, producing an output feature map, or convolved feature (which may have a different size and depth than the input feature map). \n",
        "\n",
        "Convolutions are defined by two parameters ([Google Developers](https://developers.google.com/machine-learning/practica/image-classification/convolutional-neural-networks)):\n",
        "\n",
        "- Size of the tiles that are extracted (typically 3x3 or 5x5 pixels).\n",
        "- The depth of the output feature map, which corresponds to the number of filters that are applied.\n",
        "\n",
        "During a convolution, the filters (matrices the same size as the tile size) effectively slide over the input feature map's grid horizontally and vertically, one pixel at a time, extracting each corresponding tile:\n",
        "\n",
        "<br>\n",
        "\n",
        "![](https://developers.google.com/machine-learning/practica/image-classification/images/convolution_overview.gif)\n",
        "\n",
        "*Figure source: Google Developers*\n",
        "\n",
        "<br>\n",
        "\n",
        "The figure shows a 3x3 convolution of depth 1 performed over a 5x5 input feature map, also of depth 1. There are nine possible 3x3 locations to extract tiles from the 5x5 feature map, so this convolution produces a 3x3 output feature map.\n",
        "\n",
        "In summary, convolutions operate over rank-3 tensors called **feature maps**, with two spatial axes (height and width) as well as a depth axis (also called the channels axis):\n",
        "\n",
        "- feature map = (height, width, depth) *depth stands for color input*\n",
        "\n",
        "For an RGB image, the dimension of the depth axis is 3, because the image has three color channels: red, green, and blue. For a black-and-white picture, like the MNIST digits, the depth is 1 (levels of gray).\n",
        "\n",
        "The convolution operation extracts patches from its input feature map and applies the same transformation to all of these patches, producing an **output feature map**. \n",
        "\n",
        "- output feature map = (height, width, depth) *depth stands for filter* \n",
        "\n",
        "This output feature map is still a rank-3 tensor: it has a width and a height. Its depth can be arbitrary, because the output depth is a *parameter of the layer*, and the different channels in that depth axis no longer stand for specific colors as in RGB input; rather, they stand for filters. \n",
        "\n",
        "\n",
        "**Filters** encode specific aspects of the input data: at a high level, a single filter could encode the concept “presence of a face in the input,” for instance. \n",
        "\n",
        "For each filter-tile pair, the CNN performs element-wise multiplication of the filter matrix and the tile matrix, and then sums all the elements of the resulting matrix to get a single value. Each of these resulting values for every filter-tile pair is then output in the convolved feature matrix (see figures).\n",
        "\n",
        "<br>\n",
        "\n",
        "![](https://developers.google.com/machine-learning/practica/image-classification/images/convolution_example.svg)\n",
        "\n",
        "Figure source: Google Developers. Left: A 5x5 input feature map (depth 1). Right: a 3x3 convolution (depth 1).\n",
        "\n",
        "<br>\n",
        "\n",
        "![](../_static/img/feature-map.png)\n",
        "\n",
        "Figure source: Goolge Developers. Left: The 3x3 convolution is performed on the 5x5 input feature map. Right: the resulting convolved feature. Click on a value in the output feature map to see how it was calculated.\n",
        "\n",
        "<br>\n",
        "\n",
        "During training, the CNN \"learns\" the optimal values for the filter matrices that enable it to extract meaningful features (textures, edges, shapes) from the input feature map. As the number of filters (output feature map depth) applied to the input increases, so does the number of features the CNN can extract. However, the tradeoff is that filters compose the majority of resources expended by the CNN, so training time also increases as more filters are added. Additionally, each filter added to the network provides less incremental value than the previous one, so engineers aim to construct networks that use the minimum number of filters needed to extract the features necessary for accurate image classification. (Google Developers)\n",
        "\n",
        "### Pooling\n",
        "\n",
        "Pooling downsamples the convolved feature (to save on processing time), reducing the number of dimensions of the feature map, while still preserving the most critical feature information. A common algorithm used for this process is called max pooling (Google Developers):\n",
        "\n",
        "- Max pooling operates in a similar fashion to convolution. \n",
        "- We slide over the feature map and extract tiles of a specified size. \n",
        "- For each tile, the maximum value is output to a new feature map, and all other values are discarded. \n",
        "- Max pooling operations take two parameters:\n",
        "    - Size of the max-pooling filter (typically 2x2 pixels)\n",
        "    - Stride: the distance, in pixels, separating each extracted tile. Unlike with convolution, where filters slide over the feature map pixel by pixel, in max pooling, the stride determines the locations where each tile is extracted. For a 2x2 filter, a stride of 2 specifies that the max pooling operation will extract all nonoverlapping 2x2 tiles from the feature map:\n",
        "\n",
        "<br>\n",
        "\n",
        "![](https://developers.google.com/machine-learning/practica/image-classification/images/maxpool_animation.gif)\n",
        "\n",
        "*Figure source: Google Developers*\n",
        "\n",
        "<br>\n",
        "\n",
        "Figure: Left: Max pooling performed over a 4x4 feature map with a 2x2 filter and stride of 2. Right: the output of the max pooling operation. Note the resulting feature map is now 2x2, preserving only the maximum values from each tile.\n"
      ]
    },
    {
      "cell_type": "markdown",
      "metadata": {},
      "source": [
        "### Code\n",
        "\n",
        "The following code shows what a basic convnet looks like (we use the Functional API). In essence, it’s a stack of Conv2D and MaxPooling2D layers. \n",
        "\n",
        "`Input`: the convnet takes as input tensors of shape (image_height, image_width,\n",
        "image_channels), not including the batch dimension. In our case, we’ll configure the\n",
        "convnet to process inputs of size (28, 28, 1), which is the format of MNIST images. \n",
        "\n",
        "[`Conv2D`](https://keras.io/api/layers/convolution_layers/convolution2d/): the first convolution layer takes an input feature map of size (28,\n",
        "28, 1) and computes 32 filters over its input. \n",
        "\n",
        "- `kernel_size`: An integer or tuple/list of 2 integers, specifying the height and width of the 2D convolution window. Can be a single integer to specify the same value for all spatial dimensions. Convolution is typically done with 3x3 windows and no stride (stride 1).\n",
        "- `activation`: Following each convolution operation, the CNN applies a Rectified Linear Unit (ReLU) transformation to the convolved feature, in order to introduce nonlinearity into the model. The ReLU function, F(x) = max(0, x), returns x for all values of x > 0, and returns 0 for all values of x ≤ 0.\n",
        "\n",
        "`MaxPooling2D`: consists of extracting windows from the input feature maps and\n",
        "outputting the max value of each channel. Max pooling is usually done\n",
        "with 2x2 windows and stride 2, in order to downsample the feature maps by a factor\n",
        "of 2. \n",
        "\n",
        "After the last Conv2D layer, we end up with an output of shape (3, 3, 128): a 3x3\n",
        "feature map of 128 channels. The next step is to feed this output into a densely connected\n",
        "classifier: a stack of Dense layers. These classifiers process vectors, which are 1D, whereas the current output is a rank-3 tensor. To bridge the gap, we flatten the 3D outputs to 1D with a `Flatten` layer before adding the Dense layers.\n",
        "\n",
        "Finally, we do 10-way classification, so our last layer has 10 outputs and a softmax\n",
        "activation."
      ]
    },
    {
      "cell_type": "code",
      "execution_count": 21,
      "metadata": {
        "id": "5jJkEqAplC2x"
      },
      "outputs": [],
      "source": [
        "from tensorflow import keras\n",
        "from tensorflow.keras import layers\n",
        "\n",
        "inputs = keras.Input(shape=(28, 28, 1))\n",
        "\n",
        "x = layers.Conv2D(filters=32, kernel_size=3, activation=\"relu\")(inputs)\n",
        "\n",
        "x = layers.MaxPooling2D(pool_size=2)(x)\n",
        "\n",
        "x = layers.Conv2D(filters=64, kernel_size=3, activation=\"relu\")(x)\n",
        "\n",
        "x = layers.MaxPooling2D(pool_size=2)(x)\n",
        "\n",
        "x = layers.Conv2D(filters=128, kernel_size=3, activation=\"relu\")(x)\n",
        "\n",
        "x = layers.Flatten()(x)\n",
        "\n",
        "outputs = layers.Dense(10, activation=\"softmax\")(x)\n",
        "\n",
        "model = keras.Model(inputs=inputs, outputs=outputs)"
      ]
    },
    {
      "cell_type": "markdown",
      "metadata": {
        "id": "J24rCPyUlC2y"
      },
      "source": [
        "**Displaying the model's summary**"
      ]
    },
    {
      "cell_type": "code",
      "execution_count": 22,
      "metadata": {
        "id": "5TPSGfW1lC2z"
      },
      "outputs": [
        {
          "name": "stdout",
          "output_type": "stream",
          "text": [
            "Model: \"model_2\"\n",
            "_________________________________________________________________\n",
            " Layer (type)                Output Shape              Param #   \n",
            "=================================================================\n",
            " input_3 (InputLayer)        [(None, 28, 28, 1)]       0         \n",
            "                                                                 \n",
            " conv2d_6 (Conv2D)           (None, 26, 26, 32)        320       \n",
            "                                                                 \n",
            " max_pooling2d_4 (MaxPooling  (None, 13, 13, 32)       0         \n",
            " 2D)                                                             \n",
            "                                                                 \n",
            " conv2d_7 (Conv2D)           (None, 11, 11, 64)        18496     \n",
            "                                                                 \n",
            " max_pooling2d_5 (MaxPooling  (None, 5, 5, 64)         0         \n",
            " 2D)                                                             \n",
            "                                                                 \n",
            " conv2d_8 (Conv2D)           (None, 3, 3, 128)         73856     \n",
            "                                                                 \n",
            " flatten_2 (Flatten)         (None, 1152)              0         \n",
            "                                                                 \n",
            " dense_2 (Dense)             (None, 10)                11530     \n",
            "                                                                 \n",
            "=================================================================\n",
            "Total params: 104,202\n",
            "Trainable params: 104,202\n",
            "Non-trainable params: 0\n",
            "_________________________________________________________________\n"
          ]
        }
      ],
      "source": [
        "model.summary()"
      ]
    },
    {
      "cell_type": "markdown",
      "metadata": {
        "id": "pwzEs6L6lC2z"
      },
      "source": [
        "## Training"
      ]
    },
    {
      "cell_type": "markdown",
      "metadata": {},
      "source": [
        "\n",
        "Because we’re doing 10-way classification with a softmax output, we’ll use the categorical crossentropy loss, and because our labels are integers, we’ll use the sparse version, `sparse_categorical_crossentropy`. "
      ]
    },
    {
      "cell_type": "code",
      "execution_count": 24,
      "metadata": {
        "id": "ap7USAEAlC20"
      },
      "outputs": [
        {
          "name": "stdout",
          "output_type": "stream",
          "text": [
            "Epoch 1/2\n",
            "938/938 [==============================] - 53s 55ms/step - loss: 0.0773 - accuracy: 0.9760 - val_loss: 0.0419 - val_accuracy: 0.9858\n",
            "Epoch 2/2\n",
            "938/938 [==============================] - 58s 62ms/step - loss: 0.0390 - accuracy: 0.9876 - val_loss: 0.0262 - val_accuracy: 0.9909\n"
          ]
        }
      ],
      "source": [
        "model.compile(optimizer=\"rmsprop\",\n",
        "             loss=\"sparse_categorical_crossentropy\",\n",
        "             metrics=[\"accuracy\"])\n",
        "\n",
        "history = model.fit(train_images, train_labels, epochs=2, \n",
        "                    validation_data = (test_images, test_labels),\n",
        "                    batch_size=64)"
      ]
    },
    {
      "cell_type": "markdown",
      "metadata": {
        "id": "DFE4ieC3lC20"
      },
      "source": [
        "## Evaluation"
      ]
    },
    {
      "cell_type": "code",
      "execution_count": 27,
      "metadata": {},
      "outputs": [
        {
          "name": "stdout",
          "output_type": "stream",
          "text": [
            "313/313 - 2s - loss: 0.0262 - accuracy: 0.9909 - 2s/epoch - 6ms/step\n",
            "Test accuracy: 0.991\n"
          ]
        }
      ],
      "source": [
        "test_loss, test_acc = model.evaluate(test_images,  test_labels, verbose=2)\n",
        "print(f\"Test accuracy: {test_acc:.3f}\")"
      ]
    },
    {
      "cell_type": "code",
      "execution_count": 26,
      "metadata": {},
      "outputs": [
        {
          "data": {
            "image/png": "[encoded data removed]",
            "text/plain": [
              "<Figure size 432x288 with 1 Axes>"
            ]
          },
          "metadata": {
            "needs_background": "light"
          },
          "output_type": "display_data"
        }
      ],
      "source": [
        "import matplotlib.pyplot as plt\n",
        "\n",
        "plt.plot(history.history['accuracy'], label='accuracy')\n",
        "plt.plot(history.history['val_accuracy'], label = 'val_accuracy')\n",
        "plt.xlabel('Epoch')\n",
        "plt.ylabel('Accuracy')\n",
        "plt.ylim([0.5, 1])\n",
        "plt.legend(loc='lower right');\n"
      ]
    }
  ],
  "metadata": {
    "colab": {
      "collapsed_sections": [],
      "name": "chapter08_intro-to-dl-for-computer-vision.i",
      "provenance": [],
      "toc_visible": true
    },
    "kernelspec": {
      "display_name": "Python 3",
      "language": "python",
      "name": "python3"
    },
    "language_info": {
      "codemirror_mode": {
        "name": "ipython",
        "version": 3
      },
      "file_extension": ".py",
      "mimetype": "text/x-python",
      "name": "python",
      "nbconvert_exporter": "python",
      "pygments_lexer": "ipython3",
      "version": "3.8.12"
    }
  },
  "nbformat": 4,
  "nbformat_minor": 0
}
