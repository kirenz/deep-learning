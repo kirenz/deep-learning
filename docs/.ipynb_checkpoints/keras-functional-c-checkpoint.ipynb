{
 "cells": [
  {
   "cell_type": "markdown",
   "metadata": {
    "id": "lARdGQ2758n2",
    "slideshow": {
     "slide_type": "slide"
    }
   },
   "source": [
    "# Functional API\n",
    "\n",
    "*This is a companion notebook for the excellent book [Deep Learning with Python, Second Edition](https://www.manning.com/books/deep-learning-with-python-second-edition?a_aid=keras&a_bid=76564dff) ([code provided by François Chollet](https://github.com/fchollet/deep-learning-with-python-notebooks)).* \n",
    "\n",
    "The Sequential model is easy to use, but its applicability is extremely limited: it can\n",
    "only express models with a single input and a single output, applying one layer after\n",
    "the other in a sequential fashion. \n",
    "\n",
    "In practice, it’s pretty common to encounter models\n",
    "with multiple inputs (say, an image and its metadata), multiple outputs (different\n",
    "things you want to predict about the data), or a nonlinear topology. In such cases, you’d build your model using the Functional API. "
   ]
  },
  {
   "cell_type": "markdown",
   "metadata": {
    "slideshow": {
     "slide_type": "slide"
    }
   },
   "source": [
    "## Setup"
   ]
  },
  {
   "cell_type": "code",
   "execution_count": null,
   "metadata": {
    "slideshow": {
     "slide_type": "subslide"
    }
   },
   "outputs": [],
   "source": [
    "from tensorflow import keras\n",
    "from tensorflow.keras import layers\n",
    "\n",
    "import numpy as np"
   ]
  },
  {
   "cell_type": "markdown",
   "metadata": {
    "id": "uTfiqAGt58n2",
    "slideshow": {
     "slide_type": "slide"
    }
   },
   "source": [
    "## Simple example"
   ]
  },
  {
   "cell_type": "markdown",
   "metadata": {
    "id": "-wUbVZF058n2",
    "slideshow": {
     "slide_type": "subslide"
    }
   },
   "source": [
    "A simple Functional model with two `Dense` layers:"
   ]
  },
  {
   "cell_type": "code",
   "execution_count": null,
   "metadata": {
    "id": "ZI2rsQNH58n3",
    "slideshow": {
     "slide_type": "fragment"
    }
   },
   "outputs": [],
   "source": [
    "# Declare an input (sample has shape 3,1)\n",
    "inputs = keras.Input(shape=(___,), name=\"my_input\")\n",
    "\n",
    "# Create a layer with 64 nodes and call it on the input\n",
    "features = layers.Dense(___, activation=\"relu\")(___)\n",
    "\n",
    "# Create final output layer with 10 classes and call it on the features\n",
    "outputs = layers.Dense(___, activation=\"___\")(___)\n",
    "\n",
    "# Specify inputs and outputs in the Model constructor\n",
    "model = keras.Model(inputs=___, outputs=___)"
   ]
  },
  {
   "cell_type": "markdown",
   "metadata": {
    "slideshow": {
     "slide_type": "slide"
    }
   },
   "source": [
    "Let's take a look at the objects:"
   ]
  },
  {
   "cell_type": "code",
   "execution_count": null,
   "metadata": {
    "id": "iaMm5xY_58n3",
    "slideshow": {
     "slide_type": "fragment"
    }
   },
   "outputs": [],
   "source": [
    "inputs.shape"
   ]
  },
  {
   "cell_type": "markdown",
   "metadata": {
    "slideshow": {
     "slide_type": "notes"
    }
   },
   "source": [
    "- The number of samples per batch is variable (indicated by the `None` batch size).\n",
    "- The model will process batches where each sample has shape `(3,)` (wich is the same as `(3,1)`)."
   ]
  },
  {
   "cell_type": "code",
   "execution_count": null,
   "metadata": {
    "id": "D72TQK5Y58n3",
    "slideshow": {
     "slide_type": "fragment"
    }
   },
   "outputs": [],
   "source": [
    "inputs.dtype"
   ]
  },
  {
   "cell_type": "markdown",
   "metadata": {
    "slideshow": {
     "slide_type": "notes"
    }
   },
   "source": [
    "- The batches will have dtype `float32`. \n",
    "\n",
    "We call such an object a symbolic tensor. It doesn’t contain any actual data, but it\n",
    "encodes the specifications of the actual tensors of data that the model will see when\n",
    "you use it. It stands for future tensors of data."
   ]
  },
  {
   "cell_type": "code",
   "execution_count": null,
   "metadata": {
    "id": "J46H824n58n4",
    "slideshow": {
     "slide_type": "fragment"
    }
   },
   "outputs": [],
   "source": [
    "features.shape"
   ]
  },
  {
   "cell_type": "markdown",
   "metadata": {
    "slideshow": {
     "slide_type": "slide"
    }
   },
   "source": [
    "Summary of the model:"
   ]
  },
  {
   "cell_type": "code",
   "execution_count": null,
   "metadata": {
    "id": "MQhZx66n58n4",
    "slideshow": {
     "slide_type": "subslide"
    }
   },
   "outputs": [],
   "source": [
    "model.summary()"
   ]
  },
  {
   "cell_type": "markdown",
   "metadata": {
    "id": "RfLY-_CH58n4",
    "slideshow": {
     "slide_type": "slide"
    }
   },
   "source": [
    "## Multi-input, multi-output\n",
    "\n",
    "Unlike the previous toy model, most deep learning models don’t look like lists—they look like\n",
    "graphs. \n",
    "\n",
    "They may, for instance, have multiple inputs or multiple outputs. \n",
    "\n",
    "It’s for this kind of model that the Functional API really shines. "
   ]
  },
  {
   "cell_type": "markdown",
   "metadata": {
    "id": "RfLY-_CH58n4",
    "slideshow": {
     "slide_type": "slide"
    }
   },
   "source": [
    "Let’s say you’re building a system to rank customer support tickets by priority and route them to the appropriate department. "
   ]
  },
  {
   "cell_type": "markdown",
   "metadata": {
    "id": "RfLY-_CH58n4",
    "slideshow": {
     "slide_type": "slide"
    }
   },
   "source": [
    "**Your model has three inputs:**\n",
    "\n",
    "1. The title of the ticket (text input)\n",
    "1. The text body of the ticket (text input)\n",
    "1. Any tags added by the user (categorical input, assumed here to be one-hot encoded)"
   ]
  },
  {
   "cell_type": "markdown",
   "metadata": {
    "id": "RfLY-_CH58n4",
    "slideshow": {
     "slide_type": "slide"
    }
   },
   "source": [
    "We can encode the text inputs as arrays of ones and zeros of size `vocabulary_size`\n",
    "\n",
    "**Your model also has two outputs:**\n",
    "\n",
    "- The priority score of the ticket, a scalar between 0 and 1 (sigmoid output)\n",
    "- The department that should handle the ticket (a softmax over the set of departments)\n",
    "\n",
    "You can build this model in a few lines with the Functional API."
   ]
  },
  {
   "cell_type": "code",
   "execution_count": null,
   "metadata": {
    "id": "k2kQAeqh58n4",
    "slideshow": {
     "slide_type": "slide"
    }
   },
   "outputs": [],
   "source": [
    "# 1) DEFINE VARIABLES\n",
    "\n",
    "# Size of vocabulary obtained when preprocessing text data: 10000\n",
    "vocabulary_size = ___\n",
    "\n",
    "# Number of unique issue tags: 100\n",
    "num_tags = ___\n",
    "\n",
    "# Number of departments for predictions: 4\n",
    "num_departments = ___"
   ]
  },
  {
   "cell_type": "code",
   "execution_count": null,
   "metadata": {
    "id": "k2kQAeqh58n4",
    "slideshow": {
     "slide_type": "slide"
    }
   },
   "outputs": [],
   "source": [
    "# 2) DEFINE MODEL INPUTS\n",
    "\n",
    "# Title of tickets (shape of vocabulary_zize)\n",
    "title = keras.Input(shape=(___,), name=\"title\")\n",
    "\n",
    "# Body of the tickets\n",
    "text_body = keras.Input(shape=(___,), name=\"text_body\")\n",
    "\n",
    "# Tags added by user\n",
    "tags = keras.___(shape=(___,), name=\"tags\")"
   ]
  },
  {
   "cell_type": "code",
   "execution_count": null,
   "metadata": {
    "id": "k2kQAeqh58n4",
    "slideshow": {
     "slide_type": "slide"
    }
   },
   "outputs": [],
   "source": [
    "# 3) FEATURES\n",
    "\n",
    "# Combine inputs \n",
    "features = layers.Concatenate()([___, ___, ___])\n",
    "\n",
    "# Intermediate layer with 64 nodes and relu activation (call on features)\n",
    "features = layers.Dense(___, activation=\"___\")(___)"
   ]
  },
  {
   "cell_type": "code",
   "execution_count": null,
   "metadata": {
    "id": "k2kQAeqh58n4",
    "slideshow": {
     "slide_type": "slide"
    }
   },
   "outputs": [],
   "source": [
    "# 4) DEFINE MODEL OUTPUTS\n",
    "\n",
    "# Priority score of the ticket (score between 0 and 1); use sigmoid; \n",
    "# call it priority; call on features\n",
    "priority = layers.Dense(___, activation=\"___\", name=\"___\")(___)\n",
    "\n",
    "# Department that should handle the ticket\n",
    "department = layers.Dense(___, activation=\"___\", name=\"department\")(___)"
   ]
  },
  {
   "cell_type": "code",
   "execution_count": null,
   "metadata": {
    "id": "k2kQAeqh58n4",
    "slideshow": {
     "slide_type": "slide"
    }
   },
   "outputs": [],
   "source": [
    "# 5) CREATE MODEL\n",
    "\n",
    "# Specify inputs and outputs\n",
    "model = keras.Model(inputs=[___, ___, ___], outputs=[___, ___])"
   ]
  },
  {
   "cell_type": "markdown",
   "metadata": {
    "id": "pbf5lAib58n5",
    "slideshow": {
     "slide_type": "slide"
    }
   },
   "source": [
    "### Training"
   ]
  },
  {
   "cell_type": "markdown",
   "metadata": {
    "id": "w_wyJYT-58n5",
    "slideshow": {
     "slide_type": "subslide"
    }
   },
   "source": [
    "Option 1: Providing lists of input & target arrays\n",
    "\n",
    "- First, we create some random input data as well as random data for our labels. \n",
    "- We will use this data to train our model:"
   ]
  },
  {
   "cell_type": "code",
   "execution_count": null,
   "metadata": {
    "id": "dEPGxNxG58n5",
    "slideshow": {
     "slide_type": "slide"
    }
   },
   "outputs": [],
   "source": [
    "# Define total number of samples (100)\n",
    "num_samples = ___\n",
    "\n",
    "# Create random input data\n",
    "title_data = np.random.randint(0, 2, size=(num_samples, vocabulary_size))\n",
    "text_body_data = np.random.randint(0, 2, size=(num_samples, vocabulary_size))\n",
    "tags_data = np.random.randint(0, 2, size=(num_samples, num_tags))\n",
    "\n",
    "# Create random labels\n",
    "priority_data = np.random.random(size=(num_samples, 1))\n",
    "department_data = np.random.randint(0, 2, size=(num_samples, num_departments))"
   ]
  },
  {
   "cell_type": "code",
   "execution_count": null,
   "metadata": {
    "slideshow": {
     "slide_type": "slide"
    }
   },
   "outputs": [],
   "source": [
    "# Compile model (use rmsprop optimizer; \n",
    "# loss = mean_squared_error and categorical_crossentropy\n",
    "# metrics = mean_absolute_error and accuracy\n",
    "model.compile(optimizer=\"___\",\n",
    "              loss=[\"___\", \"___\"],\n",
    "              metrics=[[\"___\"], [\"___\"]])\n",
    "\n",
    "# Fit model to data (define input and output)\n",
    "# use only 1 epoch\n",
    "model.fit([___],\n",
    "          [___],\n",
    "          epochs=___)\n",
    "\n",
    "# Evaluate model\n",
    "model.evaluate([___],\n",
    "               [___])\n",
    "\n",
    "# Make predictions\n",
    "priority_preds, department_preds = model.predict([___])"
   ]
  },
  {
   "cell_type": "markdown",
   "metadata": {
    "id": "wcyjCM_w58n5",
    "slideshow": {
     "slide_type": "slide"
    }
   },
   "source": [
    "Option 2: Providing dicts of input & target arrays\n",
    "\n",
    "If you don’t want to rely on input order (for instance, because you have many inputs\n",
    "or outputs), you can also leverage the names you gave to the Input objects and the\n",
    "output layers, and pass data via dictionaries."
   ]
  },
  {
   "cell_type": "code",
   "execution_count": null,
   "metadata": {
    "id": "Z7X4gp_058n5",
    "slideshow": {
     "slide_type": "slide"
    }
   },
   "outputs": [],
   "source": [
    "model.compile(optimizer=\"rmsprop\",\n",
    "              loss={\"priority\": \"mean_squared_error\", \"department\": \"categorical_crossentropy\"},\n",
    "              metrics={\"priority\": [\"mean_absolute_error\"], \"department\": [\"accuracy\"]})\n",
    "\n",
    "model.fit({\"title\": title_data, \"text_body\": text_body_data, \"tags\": tags_data},\n",
    "          {\"priority\": priority_data, \"department\": department_data},\n",
    "          epochs=1)\n",
    "\n",
    "model.evaluate({\"title\": title_data, \"text_body\": text_body_data, \"tags\": tags_data},\n",
    "               {\"priority\": priority_data, \"department\": department_data})\n",
    "\n",
    "priority_preds, department_preds = model.predict(\n",
    "    {\"title\": title_data, \"text_body\": text_body_data, \"tags\": tags_data})"
   ]
  },
  {
   "cell_type": "markdown",
   "metadata": {
    "id": "uRoCfu0L58n6",
    "slideshow": {
     "slide_type": "slide"
    }
   },
   "source": [
    "### Access layers\n",
    "\n",
    "A Functional model is an explicit graph data structure. This makes it possible to\n",
    "inspect how layers are connected and reuse previous graph nodes (which are layer\n",
    "outputs) as part of new models. This enables two important use cases: \n",
    "\n",
    "- model visualization and \n",
    "- feature extraction.\n",
    "\n",
    "Let’s visualize the connectivity of the model we just defined (the topology of the\n",
    "model). You can plot a Functional model as a graph with the plot_model():"
   ]
  },
  {
   "cell_type": "code",
   "execution_count": null,
   "metadata": {
    "id": "o4-trd-u58n6",
    "slideshow": {
     "slide_type": "slide"
    }
   },
   "outputs": [],
   "source": [
    "keras.utils.plot_model(model, \"ticket_classifier.png\")"
   ]
  },
  {
   "cell_type": "markdown",
   "metadata": {
    "slideshow": {
     "slide_type": "notes"
    }
   },
   "source": [
    "You can add to this plot the input and output shapes of each layer in the model, which\n",
    "can be helpful during debugging:"
   ]
  },
  {
   "cell_type": "code",
   "execution_count": null,
   "metadata": {
    "id": "pgjcOY-j58n6",
    "slideshow": {
     "slide_type": "slide"
    }
   },
   "outputs": [],
   "source": [
    "keras.utils.plot_model(model, \"ticket_classifier_with_shape_info.png\", show_shapes=True)"
   ]
  },
  {
   "cell_type": "markdown",
   "metadata": {
    "slideshow": {
     "slide_type": "notes"
    }
   },
   "source": [
    "The “None” in the tensor shapes represents the batch size: this model allows batches\n",
    "of any size."
   ]
  },
  {
   "cell_type": "markdown",
   "metadata": {
    "id": "wiB-tvhD58n6",
    "slideshow": {
     "slide_type": "slide"
    }
   },
   "source": [
    "### Retrieving inputs or outputs\n",
    "\n",
    "- Access to layer connectivity also means that you can inspect and reuse individual nodes (layer calls) in the graph. \n",
    "- The model.layers model property provides the list of layers that make up the model, and for each layer you can query layer.input and layer.output"
   ]
  },
  {
   "cell_type": "code",
   "execution_count": null,
   "metadata": {
    "id": "vj0xiSH058n6",
    "slideshow": {
     "slide_type": "slide"
    }
   },
   "outputs": [],
   "source": [
    "model.layers"
   ]
  },
  {
   "cell_type": "code",
   "execution_count": null,
   "metadata": {
    "id": "XRxYwRhM58n6",
    "slideshow": {
     "slide_type": "slide"
    }
   },
   "outputs": [],
   "source": [
    "model.layers[3].input"
   ]
  },
  {
   "cell_type": "code",
   "execution_count": null,
   "metadata": {
    "id": "zOGRbJxi58n6",
    "slideshow": {
     "slide_type": "slide"
    }
   },
   "outputs": [],
   "source": [
    "model.layers[3].output"
   ]
  },
  {
   "cell_type": "markdown",
   "metadata": {
    "slideshow": {
     "slide_type": "slide"
    }
   },
   "source": [
    "This enables you to do \n",
    "\n",
    "- feature extraction: creating models that reuse intermediate features from another model."
   ]
  },
  {
   "cell_type": "markdown",
   "metadata": {
    "slideshow": {
     "slide_type": "fragment"
    }
   },
   "source": [
    "- Estimate how long a given issue ticket will take to resolve, a kind of difficulty rating. \n",
    "\n",
    "- You could do this via a classification layer over three categories: “quick,” “medium,” and “difficult.” "
   ]
  },
  {
   "cell_type": "markdown",
   "metadata": {
    "slideshow": {
     "slide_type": "fragment"
    }
   },
   "source": [
    "- You don’t need to recreate and retrain a model from scratch. \n",
    "- You can start from the intermediate features of your previous model, since you have access to them, like this."
   ]
  },
  {
   "cell_type": "markdown",
   "metadata": {
    "id": "_kC6Uvpr58n6",
    "slideshow": {
     "slide_type": "slide"
    }
   },
   "source": [
    "### Creating a new model\n",
    "\n",
    "Creating a new model by reusing intermediate layer outputs:"
   ]
  },
  {
   "cell_type": "code",
   "execution_count": null,
   "metadata": {
    "id": "mu0ZD_Ci58n7",
    "slideshow": {
     "slide_type": "subslide"
    }
   },
   "outputs": [],
   "source": [
    "# layers[4] is our intermediate Dense layer\n",
    "features = model.layers[4].output\n",
    "\n",
    "difficulty = layers.Dense(3, activation=\"softmax\", name=\"difficulty\")(features)\n",
    "\n",
    "new_model = keras.Model(\n",
    "    inputs=[title, text_body, tags],\n",
    "    outputs=[priority, department, difficulty])"
   ]
  },
  {
   "cell_type": "code",
   "execution_count": null,
   "metadata": {
    "id": "QA8ZUtU-58n7",
    "slideshow": {
     "slide_type": "slide"
    }
   },
   "outputs": [],
   "source": [
    "keras.utils.plot_model(new_model, \"updated_ticket_classifier.png\", show_shapes=True)"
   ]
  }
 ],
 "metadata": {
  "celltoolbar": "Slideshow",
  "colab": {
   "collapsed_sections": [],
   "name": "chapter07_working-with-keras.i",
   "provenance": [],
   "toc_visible": true
  },
  "kernelspec": {
   "display_name": "Python 3 (ipykernel)",
   "language": "python",
   "name": "python3"
  },
  "language_info": {
   "codemirror_mode": {
    "name": "ipython",
    "version": 3
   },
   "file_extension": ".py",
   "mimetype": "text/x-python",
   "name": "python",
   "nbconvert_exporter": "python",
   "pygments_lexer": "ipython3",
   "version": "3.8.12"
  }
 },
 "nbformat": 4,
 "nbformat_minor": 1
}
