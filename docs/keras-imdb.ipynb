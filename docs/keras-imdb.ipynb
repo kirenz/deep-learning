{
  "cells": [
    {
      "cell_type": "markdown",
      "metadata": {},
      "source": [
        "# IMDB Sentiment analysis"
      ]
    },
    {
      "cell_type": "markdown",
      "metadata": {
        "id": "8fLCc3qLlC2u"
      },
      "source": [
        "*This tutorial is based on [An Introduction to Keras Preprocessing Layers](https://blog.tensorflow.org/2021/11/an-introduction-to-keras-preprocessing.html) by Matthew Watson, [Text classification with TensorFlow Hub: Movie reviews](https://www.tensorflow.org/tutorials/keras/text_classification_with_hub) and [Basic text classification](https://www.tensorflow.org/tutorials/keras/text_classification) by TensorFlow.*\n",
        " \n",
        "- Goal: build a binary sentiment classification model with keras preprocessing\n",
        "- We use TensorBoard to view model results\n",
        "- Data: imdb movie review dataset. "
      ]
    },
    {
      "cell_type": "markdown",
      "metadata": {},
      "source": [
        "## Prerequisites\n",
        "\n",
        "To start this tutorial, you need the following setup:\n",
        "\n"
      ]
    },
    {
      "cell_type": "markdown",
      "metadata": {},
      "source": [
        "- Install [TensorFlow](https://kirenz.github.io/codelabs/codelabs/tfx-install/#0) (we use TensorFlow Extended to install TensorfFlow)"
      ]
    },
    {
      "cell_type": "markdown",
      "metadata": {},
      "source": [
        "## Setup"
      ]
    },
    {
      "cell_type": "code",
      "execution_count": 2,
      "metadata": {},
      "outputs": [
        {
          "name": "stdout",
          "output_type": "stream",
          "text": [
            "Version:  2.7.1\n"
          ]
        }
      ],
      "source": [
        "import tensorflow as tf\n",
        "from tensorflow import keras\n",
        "import tensorflow_datasets as tfds\n",
        "from tensorflow.keras import layers\n",
        "from tensorflow.keras import losses\n",
        "from keras.models import load_model\n",
        "\n",
        "import matplotlib.pyplot as plt\n",
        "import datetime\n",
        "\n",
        "print(\"Version: \", tf.__version__)"
      ]
    },
    {
      "cell_type": "code",
      "execution_count": 3,
      "metadata": {},
      "outputs": [],
      "source": [
        "# Load the TensorBoard notebook extension\n",
        "%load_ext tensorboard"
      ]
    },
    {
      "cell_type": "markdown",
      "metadata": {
        "id": "oS6pA1XUlC2x"
      },
      "source": [
        "## Data"
      ]
    },
    {
      "cell_type": "markdown",
      "metadata": {},
      "source": [
        "- We use the IMDB dataset with 50,000 polar movie reviews (positive or negative)\n",
        "- Training data and test data: each 25,000 \n",
        "- Training and testing sets are balanced (they contain an equal number of positive and negative reviews)\n",
        "- The input data consists of sentences (strings)\n",
        "- The labels to predict are either 0 or 1."
      ]
    },
    {
      "cell_type": "markdown",
      "metadata": {},
      "source": [
        "### Data import"
      ]
    },
    {
      "cell_type": "markdown",
      "metadata": {},
      "source": [
        "- We use 3 data splits: training, validation and test data\n",
        "- Split the data into 60% training and 40% test\n",
        "- Split training into 60% training and 40% validation\n",
        "- Resulting data split:\n",
        "  - 15,000 examples for training\n",
        "  - 10,000 examples for validation\n",
        "  - 25,000 examples for testing"
      ]
    },
    {
      "cell_type": "code",
      "execution_count": 4,
      "metadata": {},
      "outputs": [
        {
          "name": "stderr",
          "output_type": "stream",
          "text": [
            "2022-04-08 08:39:47.248656: I tensorflow/core/platform/cpu_feature_guard.cc:151] This TensorFlow binary is optimized with oneAPI Deep Neural Network Library (oneDNN) to use the following CPU instructions in performance-critical operations:  AVX2 FMA\n",
            "To enable them in other operations, rebuild TensorFlow with the appropriate compiler flags.\n"
          ]
        }
      ],
      "source": [
        "train_ds, val_ds, test_ds = tfds.load(\n",
        "    name=\"imdb_reviews\", \n",
        "    split=('train[:60%]', 'train[60%:]', 'test'),\n",
        "    as_supervised=True)"
      ]
    },
    {
      "cell_type": "markdown",
      "metadata": {},
      "source": [
        "### Explore data"
      ]
    },
    {
      "cell_type": "markdown",
      "metadata": {},
      "source": [
        "- Each example is a sentence representing the movie review and a corresponding label. \n",
        "- The sentence is not preprocessed in any way. \n",
        "- The label is an integer value of either 0 or 1\n",
        "  - 0 is a negative review\n",
        "  - 1 is a positive review.\n",
        "- Let's print first 2 examples."
      ]
    },
    {
      "cell_type": "code",
      "execution_count": 5,
      "metadata": {},
      "outputs": [
        {
          "name": "stdout",
          "output_type": "stream",
          "text": [
            "Input: tf.Tensor(b\"This was an absolutely terrible movie. Don't be lured in by Christopher Walken or Michael Ironside. Both are great actors, but this must simply be their worst role in history. Even their great acting could not redeem this movie's ridiculous storyline. This movie is an early nineties US propaganda piece. The most pathetic scenes were those when the Columbian rebels were making their cases for revolutions. Maria Conchita Alonso appeared phony, and her pseudo-love affair with Walken was nothing but a pathetic emotional plug in a movie that was devoid of any real meaning. I am disappointed that there are movies like this, ruining actor's like Christopher Walken's good name. I could barely sit through it.\", shape=(), dtype=string)\n",
            "..................................................\n",
            "Target: tf.Tensor(0, shape=(), dtype=int64)\n",
            "--------------------------------------------------\n",
            "Input: tf.Tensor(b'I have been known to fall asleep during films, but this is usually due to a combination of things including, really tired, being warm and comfortable on the sette and having just eaten a lot. However on this occasion I fell asleep because the film was rubbish. The plot development was constant. Constantly slow and boring. Things seemed to happen, but with no explanation of what was causing them or why. I admit, I may have missed part of the film, but i watched the majority of it and everything just seemed to happen of its own accord without any real concern for anything else. I cant recommend this film at all.', shape=(), dtype=string)\n",
            "..................................................\n",
            "Target: tf.Tensor(0, shape=(), dtype=int64)\n",
            "--------------------------------------------------\n"
          ]
        },
        {
          "name": "stderr",
          "output_type": "stream",
          "text": [
            "2022-04-08 08:41:40.355812: W tensorflow/core/kernels/data/cache_dataset_ops.cc:768] The calling iterator did not fully read the dataset being cached. In order to avoid unexpected truncation of the dataset, the partially cached contents of the dataset  will be discarded. This can happen if you have an input pipeline similar to `dataset.cache().take(k).repeat()`. You should use `dataset.take(k).cache().repeat()` instead.\n"
          ]
        }
      ],
      "source": [
        "for x, y in train_ds.take(2): \n",
        "    print(\"Input:\", x) \n",
        "    print(50*\".\")     \n",
        "    print(\"Target:\", y) \n",
        "    print(50*\"-\")  "
      ]
    },
    {
      "cell_type": "markdown",
      "metadata": {},
      "source": [
        "### Data preprocessing"
      ]
    },
    {
      "cell_type": "markdown",
      "metadata": {},
      "source": [
        "- First, we need to decide how to represent the text data"
      ]
    },
    {
      "cell_type": "markdown",
      "metadata": {},
      "source": [
        "#### TextVectorization"
      ]
    },
    {
      "cell_type": "markdown",
      "metadata": {},
      "source": [
        "- We will be working with raw text (natural language inputs)\n",
        "- So we will use the [`TextVectorization`](https://www.tensorflow.org/api_docs/python/tf/keras/layers/TextVectorization) layer.\n",
        "- It transforms a batch of strings (one example = one string) into either a\n",
        "  - list of token indices (one example = 1D tensor of integer token indices) or \n",
        "  - dense representation (one example = 1D tensor of float values representing data about the example's tokens). "
      ]
    },
    {
      "cell_type": "markdown",
      "metadata": {},
      "source": [
        "- [`TextVectorization`](https://www.tensorflow.org/api_docs/python/tf/keras/layers/TextVectorization) steps:\n",
        "\n",
        "1. Standardize each example (usually lowercasing + punctuation stripping)\n",
        "1. Split each example into substrings (usually words)\n",
        "1. Recombine substrings into tokens (usually ngrams)\n",
        "1. Index tokens (associate a unique int value with each token)\n",
        "1. Transform each example using this index, either into a vector of ints or a dense float vector."
      ]
    },
    {
      "cell_type": "markdown",
      "metadata": {},
      "source": [
        "#### Multi-hot encoding"
      ]
    },
    {
      "cell_type": "markdown",
      "metadata": {},
      "source": [
        "- Multi-hot encoding: only consider the presence or absence of terms in the review.\n",
        "\n",
        "- For example: \n",
        "    - layer vocabulary is ['movie', 'good', 'bad']\n",
        "    - a review read 'This movie was bad.'\n",
        "    - We would encode this as [1, 0, 1]\n",
        "    - where movie (the first vocab term) and bad (the last vocab term) are present."
      ]
    },
    {
      "cell_type": "markdown",
      "metadata": {},
      "source": [
        "1. Create a `TextVectorization` layer with multi-hot output and a max of 2500 tokens\n",
        "1. Map over our training dataset and discard the integer label indicating a positive or negative review (this gives us a dataset containing only the review text) \n",
        "1. `adapt()` the layer over this dataset, which causes the layer to learn a vocabulary of the most frequent terms in all documents, capped at a max of 2500."
      ]
    },
    {
      "cell_type": "markdown",
      "metadata": {},
      "source": [
        "- `Adapt` is a utility function on all stateful preprocessing layers, which allows layers to set their internal state from input data. \n",
        "\n",
        "- Calling adapt is always optional. \n",
        "- For TextVectorization, we could instead supply a precomputed vocabulary on layer construction, and skip the adapt step."
      ]
    },
    {
      "cell_type": "code",
      "execution_count": 6,
      "metadata": {},
      "outputs": [],
      "source": [
        "text_vectorizer = layers.TextVectorization(\n",
        "     output_mode='multi_hot', \n",
        "     max_tokens=2500\n",
        "     )\n",
        "\n",
        "features = train_ds.map(lambda x, y: x)\n",
        "\n",
        "text_vectorizer.adapt(features)"
      ]
    },
    {
      "cell_type": "markdown",
      "metadata": {},
      "source": [
        "- Next, we define a preprocessing function\n",
        "- This is especially useful if you combine multiple preprocessing steps\n",
        "- Here, we only use one step: `preprocess` converts raw input data to the representation we want for our model"
      ]
    },
    {
      "cell_type": "code",
      "execution_count": 7,
      "metadata": {},
      "outputs": [],
      "source": [
        "def preprocess(x):\n",
        "  return text_vectorizer(x)"
      ]
    },
    {
      "cell_type": "markdown",
      "metadata": {},
      "source": [
        "## Model"
      ]
    },
    {
      "cell_type": "markdown",
      "metadata": {},
      "source": [
        "### Architecture"
      ]
    },
    {
      "cell_type": "code",
      "execution_count": 8,
      "metadata": {},
      "outputs": [],
      "source": [
        "inputs = keras.Input(shape=(1,), dtype='string')\n",
        "\n",
        "outputs = layers.Dense(1)(preprocess(inputs))\n",
        "\n",
        "model = keras.Model(inputs, outputs)"
      ]
    },
    {
      "cell_type": "markdown",
      "metadata": {},
      "source": [
        "### Compile"
      ]
    },
    {
      "cell_type": "code",
      "execution_count": 9,
      "metadata": {},
      "outputs": [],
      "source": [
        "model.compile(\n",
        "    optimizer='adam',\n",
        "    loss=losses.BinaryCrossentropy(from_logits=True),\n",
        "    metrics=['accuracy']\n",
        "    )"
      ]
    },
    {
      "cell_type": "markdown",
      "metadata": {},
      "source": [
        "- Show model summary"
      ]
    },
    {
      "cell_type": "code",
      "execution_count": 10,
      "metadata": {},
      "outputs": [
        {
          "name": "stdout",
          "output_type": "stream",
          "text": [
            "Model: \"model\"\n",
            "_________________________________________________________________\n",
            " Layer (type)                Output Shape              Param #   \n",
            "=================================================================\n",
            " input_1 (InputLayer)        [(None, 1)]               0         \n",
            "                                                                 \n",
            " text_vectorization (TextVec  (None, 2500)             0         \n",
            " torization)                                                     \n",
            "                                                                 \n",
            " dense (Dense)               (None, 1)                 2501      \n",
            "                                                                 \n",
            "=================================================================\n",
            "Total params: 2,501\n",
            "Trainable params: 2,501\n",
            "Non-trainable params: 0\n",
            "_________________________________________________________________\n"
          ]
        }
      ],
      "source": [
        "model.summary()"
      ]
    },
    {
      "cell_type": "markdown",
      "metadata": {},
      "source": [
        "- Let’s visualize the topology of the model"
      ]
    },
    {
      "cell_type": "code",
      "execution_count": 11,
      "metadata": {},
      "outputs": [
        {
          "data": {
            "image/png": "[encoded data removed]",
            "text/plain": [
              "<IPython.core.display.Image object>"
            ]
          },
          "execution_count": 11,
          "metadata": {},
          "output_type": "execute_result"
        }
      ],
      "source": [
        "keras.utils.plot_model(model, \"sentiment_classifier.png\")"
      ]
    },
    {
      "cell_type": "code",
      "execution_count": 12,
      "metadata": {},
      "outputs": [
        {
          "data": {
            "image/png": "[encoded data removed]",
            "text/plain": [
              "<IPython.core.display.Image object>"
            ]
          },
          "execution_count": 12,
          "metadata": {},
          "output_type": "execute_result"
        }
      ],
      "source": [
        "keras.utils.plot_model(model, \"sentiment_classifier_with_shape_info.png\", show_shapes=True)"
      ]
    },
    {
      "cell_type": "markdown",
      "metadata": {},
      "source": [
        "### Training"
      ]
    },
    {
      "cell_type": "markdown",
      "metadata": {},
      "source": [
        "- We can now train a simple model on top of this multi-hot encoding. "
      ]
    },
    {
      "cell_type": "markdown",
      "metadata": {},
      "source": [
        "First, we set up TensorBoard and an early stopping rule:\n",
        "\n",
        "1. Define the directory where TensorBoard stores log files (we create folders with timestamps by using [`datetime`](https://docs.python.org/3/library/datetime.html)) \n",
        "1. We add `keras.callbacks.TensorBoard` callback which ensures that logs are created and stored.\n",
        "1. To prevent overfitting, we use a callback wich will stop the training when there is no improvement in the validation accuracy for three consecutive epochs.\n"
      ]
    },
    {
      "cell_type": "code",
      "execution_count": 13,
      "metadata": {},
      "outputs": [],
      "source": [
        "# Create TensorBoard folders\n",
        "log_dir = \"logs/fit/\" + datetime.datetime.now().strftime(\"%Y%m%d-%H%M%S\")\n",
        "\n",
        "# Create callbacks\n",
        "my_callbacks = [\n",
        "    keras.callbacks.TensorBoard(log_dir=log_dir),\n",
        "    keras.callbacks.EarlyStopping(monitor='val_loss', patience=3),\n",
        "]"
      ]
    },
    {
      "cell_type": "markdown",
      "metadata": {},
      "source": [
        "Model training:"
      ]
    },
    {
      "cell_type": "markdown",
      "metadata": {},
      "source": [
        "- Train the model for 10 epochs in mini-batches of 512 samples\n",
        "- We shuffle the data and use a `buffer_size` of 10000\n",
        "- We monitor the model's loss and accuracy on the 10,000 samples from the validation set."
      ]
    },
    {
      "cell_type": "markdown",
      "metadata": {},
      "source": [
        "\n",
        "*`buffer_size` is the number of items in the shuffle buffer. The function fills the buffer and then randomly samples from it. A big enough buffer is needed for proper shuffling, but it's a balance with memory consumption. Reshuffling happens automatically at every epoch*"
      ]
    },
    {
      "cell_type": "code",
      "execution_count": 14,
      "metadata": {},
      "outputs": [
        {
          "name": "stdout",
          "output_type": "stream",
          "text": [
            "Epoch 1/10\n",
            "30/30 [==============================] - 2s 43ms/step - loss: 0.6478 - accuracy: 0.5346 - val_loss: 0.6004 - val_accuracy: 0.5917\n",
            "Epoch 2/10\n",
            "30/30 [==============================] - 1s 34ms/step - loss: 0.5634 - accuracy: 0.6402 - val_loss: 0.5378 - val_accuracy: 0.6685\n",
            "Epoch 3/10\n",
            "30/30 [==============================] - 1s 33ms/step - loss: 0.5088 - accuracy: 0.7152 - val_loss: 0.4969 - val_accuracy: 0.7467\n",
            "Epoch 4/10\n",
            "30/30 [==============================] - 1s 35ms/step - loss: 0.4698 - accuracy: 0.7618 - val_loss: 0.4654 - val_accuracy: 0.7643\n",
            "Epoch 5/10\n",
            "30/30 [==============================] - 1s 33ms/step - loss: 0.4403 - accuracy: 0.7949 - val_loss: 0.4420 - val_accuracy: 0.7846\n",
            "Epoch 6/10\n",
            "30/30 [==============================] - 1s 32ms/step - loss: 0.4169 - accuracy: 0.8119 - val_loss: 0.4238 - val_accuracy: 0.8059\n",
            "Epoch 7/10\n",
            "30/30 [==============================] - 1s 32ms/step - loss: 0.3977 - accuracy: 0.8286 - val_loss: 0.4087 - val_accuracy: 0.8098\n",
            "Epoch 8/10\n",
            "30/30 [==============================] - 1s 32ms/step - loss: 0.3820 - accuracy: 0.8365 - val_loss: 0.3965 - val_accuracy: 0.8240\n",
            "Epoch 9/10\n",
            "30/30 [==============================] - 1s 32ms/step - loss: 0.3686 - accuracy: 0.8448 - val_loss: 0.3860 - val_accuracy: 0.8249\n",
            "Epoch 10/10\n",
            "30/30 [==============================] - 1s 33ms/step - loss: 0.3571 - accuracy: 0.8534 - val_loss: 0.3774 - val_accuracy: 0.8275\n"
          ]
        }
      ],
      "source": [
        "epochs = 10\n",
        "\n",
        "history = model.fit(\n",
        "    train_ds.shuffle(buffer_size=10000).batch(512),\n",
        "    epochs=epochs,\n",
        "    validation_data=val_ds.batch(512),\n",
        "    callbacks=my_callbacks,\n",
        "    verbose=1)"
      ]
    },
    {
      "cell_type": "markdown",
      "metadata": {},
      "source": [
        "Show number of epochs:"
      ]
    },
    {
      "cell_type": "code",
      "execution_count": 15,
      "metadata": {},
      "outputs": [
        {
          "data": {
            "text/plain": [
              "10"
            ]
          },
          "execution_count": 15,
          "metadata": {},
          "output_type": "execute_result"
        }
      ],
      "source": [
        "len(history.history['loss']) "
      ]
    },
    {
      "cell_type": "markdown",
      "metadata": {},
      "source": [
        "## Evaluation"
      ]
    },
    {
      "cell_type": "markdown",
      "metadata": {},
      "source": [
        "### Loss and accuracy"
      ]
    },
    {
      "cell_type": "markdown",
      "metadata": {},
      "source": [
        "- Show loss and accuracy for test data"
      ]
    },
    {
      "cell_type": "code",
      "execution_count": 16,
      "metadata": {},
      "outputs": [
        {
          "name": "stdout",
          "output_type": "stream",
          "text": [
            "49/49 - 1s - loss: 0.3825 - accuracy: 0.8219 - 1s/epoch - 24ms/step\n",
            "loss: 0.383\n",
            "accuracy: 0.822\n"
          ]
        }
      ],
      "source": [
        "results = model.evaluate(test_ds.batch(512), verbose=2)\n",
        "\n",
        "for name, value in zip(model.metrics_names, results):\n",
        "  print(\"%s: %.3f\" % (name, value))"
      ]
    },
    {
      "cell_type": "markdown",
      "metadata": {},
      "source": [
        "- Create a plot of accuracy and loss over time\n",
        "- `model.fit()` returns a history object that contains a dictionary with everything that happened during training."
      ]
    },
    {
      "cell_type": "code",
      "execution_count": 17,
      "metadata": {},
      "outputs": [
        {
          "data": {
            "text/plain": [
              "dict_keys(['loss', 'accuracy', 'val_loss', 'val_accuracy'])"
            ]
          },
          "execution_count": 17,
          "metadata": {},
          "output_type": "execute_result"
        }
      ],
      "source": [
        "history_dict = history.history\n",
        "history_dict.keys()"
      ]
    },
    {
      "cell_type": "markdown",
      "metadata": {},
      "source": [
        "- There are four entries: one for each monitored metric during training and validation. \n",
        "- You can use these to plot the training and validation loss for comparison, as well as the training and validation accuracy:"
      ]
    },
    {
      "cell_type": "code",
      "execution_count": 18,
      "metadata": {},
      "outputs": [
        {
          "data": {
            "image/png": "[encoded data removed]",
            "text/plain": [
              "<Figure size 432x288 with 1 Axes>"
            ]
          },
          "metadata": {
            "needs_background": "light"
          },
          "output_type": "display_data"
        }
      ],
      "source": [
        "acc = history_dict['accuracy']\n",
        "val_acc = history_dict['val_accuracy']\n",
        "loss = history_dict['loss']\n",
        "val_loss = history_dict['val_loss']\n",
        "\n",
        "epochs = range(1, len(acc) + 1)\n",
        "\n",
        "# \"bo\" is for \"blue dot\"\n",
        "plt.plot(epochs, loss, 'bo', label='Training loss')\n",
        "# r is for \"solid red line\"\n",
        "plt.plot(epochs, val_loss, 'r', label='Validation loss')\n",
        "plt.title('Training and validation loss')\n",
        "plt.xlabel('Epochs')\n",
        "plt.ylabel('Loss')\n",
        "plt.legend()\n",
        "\n",
        "plt.show()"
      ]
    },
    {
      "cell_type": "code",
      "execution_count": 19,
      "metadata": {},
      "outputs": [
        {
          "data": {
            "image/png": "[encoded data removed]",
            "text/plain": [
              "<Figure size 432x288 with 1 Axes>"
            ]
          },
          "metadata": {
            "needs_background": "light"
          },
          "output_type": "display_data"
        }
      ],
      "source": [
        "plt.plot(epochs, acc, 'bo', label='Training acc')\n",
        "plt.plot(epochs, val_acc, 'r', label='Validation acc')\n",
        "plt.title('Training and validation accuracy')\n",
        "plt.xlabel('Epochs')\n",
        "plt.ylabel('Accuracy')\n",
        "plt.legend(loc='lower right')\n",
        "\n",
        "plt.show()"
      ]
    },
    {
      "cell_type": "markdown",
      "metadata": {},
      "source": [
        "- Blue dots represent the training loss and accuracy\n",
        "- Solid red lines are the validation loss and accuracy."
      ]
    },
    {
      "cell_type": "markdown",
      "metadata": {},
      "source": [
        "- Training loss decreases with each epoch \n",
        "- Training accuracy increases with each epoch. \n",
        "- This is expected when using a gradient descent optimization\n",
        "- It should minimize the desired quantity on every iteration."
      ]
    },
    {
      "cell_type": "markdown",
      "metadata": {},
      "source": [
        "### TensorBoard"
      ]
    },
    {
      "cell_type": "markdown",
      "metadata": {},
      "source": [
        "- How to use TensorBoard in Visual Studio Code ([Stackoverflow](https://stackoverflow.com/a/66375514)):\n",
        "\n",
        "1. Open the command palette (Ctrl/Cmd + Shift + P)\n",
        "2. Search for the command “Python: Launch TensorBoard” and press enter.\n",
        "3. Select the folder where your TensorBoard log files are located:\n",
        "   - Select folder `logs/fit` "
      ]
    },
    {
      "cell_type": "markdown",
      "metadata": {},
      "source": [
        "Alternatively, you can use TensorBoard directely in Jupyter Notebook: "
      ]
    },
    {
      "cell_type": "code",
      "execution_count": 20,
      "metadata": {},
      "outputs": [
        {
          "data": {
            "text/plain": [
              "Reusing TensorBoard on port 6006 (pid 57180), started 0:45:14 ago. (Use '!kill 57180' to kill it.)"
            ]
          },
          "metadata": {},
          "output_type": "display_data"
        },
        {
          "data": {
            "text/html": [
              "\n",
              "      <iframe id=\"tensorboard-frame-ba772405cd47f49c\" width=\"100%\" height=\"800\" frameborder=\"0\">\n",
              "      </iframe>\n",
              "      <script>\n",
              "        (function() {\n",
              "          const frame = document.getElementById(\"tensorboard-frame-ba772405cd47f49c\");\n",
              "          const url = new URL(\"http://localhost\");\n",
              "          const port = 6006;\n",
              "          if (port) {\n",
              "            url.port = port;\n",
              "          }\n",
              "          frame.src = url;\n",
              "        })();\n",
              "      </script>\n",
              "    "
            ],
            "text/plain": [
              "<IPython.core.display.HTML object>"
            ]
          },
          "metadata": {},
          "output_type": "display_data"
        }
      ],
      "source": [
        "%tensorboard --logdir logs/fit"
      ]
    },
    {
      "cell_type": "markdown",
      "metadata": {},
      "source": [
        "## Inference on new data"
      ]
    },
    {
      "cell_type": "markdown",
      "metadata": {},
      "source": [
        "- Create new example data"
      ]
    },
    {
      "cell_type": "code",
      "execution_count": 21,
      "metadata": {},
      "outputs": [],
      "source": [
        "examples = [\n",
        "  \"The movie was great!\",\n",
        "  \"The movie was okay.\",\n",
        "  \"The movie was terrible...\"\n",
        "]"
      ]
    },
    {
      "cell_type": "markdown",
      "metadata": {},
      "source": [
        "- Add a sigmoid activation layer to our model to obtain probabilities"
      ]
    },
    {
      "cell_type": "code",
      "execution_count": 22,
      "metadata": {},
      "outputs": [],
      "source": [
        "probability_model = keras.Sequential([\n",
        "                        model, \n",
        "                        layers.Activation('sigmoid')\n",
        "                        ])"
      ]
    },
    {
      "cell_type": "code",
      "execution_count": 23,
      "metadata": {},
      "outputs": [
        {
          "data": {
            "text/plain": [
              "array([[0.51533335],\n",
              "       [0.43800226],\n",
              "       [0.42223874]], dtype=float32)"
            ]
          },
          "execution_count": 23,
          "metadata": {},
          "output_type": "execute_result"
        }
      ],
      "source": [
        "probability_model.predict(examples)"
      ]
    },
    {
      "cell_type": "markdown",
      "metadata": {},
      "source": [
        "## Save model"
      ]
    },
    {
      "cell_type": "markdown",
      "metadata": {},
      "source": [
        "A Keras model consists of multiple components:\n",
        "\n",
        "1. The architecture, or configuration, which specifies what layers the model contain, and how they're connected.\n",
        "1. A set of weights values (the \"state of the model\").\n",
        "1. An optimizer (defined by compiling the model).\n",
        "1. A set of losses and metrics (defined by compiling the model or calling add_loss() or \n",
        "add_metric())."
      ]
    },
    {
      "cell_type": "markdown",
      "metadata": {},
      "source": [
        "\n",
        "The [Keras model saving API](https://keras.io/api/models/model_saving_apis/) makes it possible to save all of these pieces to disk at once, or to only selectively save some of them:\n",
        "\n",
        "- Saving everything into a single archive in the TensorFlow SavedModel format (or in the older Keras H5 format). This is the standard practice.\n",
        "- Saving the architecture / configuration only, typically as a JSON file.\n",
        "- Saving the weights values only. This is generally used when training the model."
      ]
    },
    {
      "cell_type": "markdown",
      "metadata": {},
      "source": [
        "- We will save the complete model as Tensorflow SavedModel"
      ]
    },
    {
      "cell_type": "code",
      "execution_count": 24,
      "metadata": {},
      "outputs": [
        {
          "name": "stderr",
          "output_type": "stream",
          "text": [
            "2022-04-07 22:15:29.907350: W tensorflow/python/util/util.cc:368] Sets are not currently considered sequences, but this may change in the future, so consider avoiding using them.\n"
          ]
        },
        {
          "name": "stdout",
          "output_type": "stream",
          "text": [
            "INFO:tensorflow:Assets written to: imdb_model/assets\n"
          ]
        },
        {
          "name": "stderr",
          "output_type": "stream",
          "text": [
            "INFO:tensorflow:Assets written to: imdb_model/assets\n"
          ]
        }
      ],
      "source": [
        "model.save('imdb_model')"
      ]
    },
    {
      "cell_type": "markdown",
      "metadata": {},
      "source": [
        "## Load model"
      ]
    },
    {
      "cell_type": "code",
      "execution_count": 25,
      "metadata": {},
      "outputs": [],
      "source": [
        "model_new = load_model('imdb_model')"
      ]
    },
    {
      "cell_type": "code",
      "execution_count": 26,
      "metadata": {},
      "outputs": [
        {
          "name": "stdout",
          "output_type": "stream",
          "text": [
            "Model: \"model\"\n",
            "_________________________________________________________________\n",
            " Layer (type)                Output Shape              Param #   \n",
            "=================================================================\n",
            " input_1 (InputLayer)        [(None, 1)]               0         \n",
            "                                                                 \n",
            " text_vectorization (TextVec  (None, 2500)             0         \n",
            " torization)                                                     \n",
            "                                                                 \n",
            " dense (Dense)               (None, 1)                 2501      \n",
            "                                                                 \n",
            "=================================================================\n",
            "Total params: 2,501\n",
            "Trainable params: 2,501\n",
            "Non-trainable params: 0\n",
            "_________________________________________________________________\n"
          ]
        }
      ],
      "source": [
        "model_new.summary()"
      ]
    },
    {
      "cell_type": "markdown",
      "metadata": {},
      "source": [
        "## Feature engineering example"
      ]
    },
    {
      "cell_type": "markdown",
      "metadata": {},
      "source": [
        "- The following code is an add on to demonstrate how to perform further feature engineering"
      ]
    },
    {
      "cell_type": "markdown",
      "metadata": {},
      "source": [
        "- Let’s experiment with a new feature \n",
        "- Our multi-hot encoding does not contain any notion of review length\n",
        "- We can try adding a feature for normalized string length. "
      ]
    },
    {
      "cell_type": "markdown",
      "metadata": {},
      "source": [
        "- Preprocessing layers can be mixed with TensorFlow ops and custom layers as desired. \n",
        "- Here we can combine the `tf.strings.length` function with the `Normalization` layer, which will scale the input to have 0 mean and 1 variance. \n",
        "- We have only updated code up to the preprocess function below, but we will show the rest of training for clarity."
      ]
    },
    {
      "cell_type": "code",
      "execution_count": 27,
      "metadata": {},
      "outputs": [],
      "source": [
        "# This layer will scale our review length feature to mean 0 variance 1.\n",
        "normalizer = layers.Normalization(axis=None)\n",
        "normalizer.adapt(features.map(lambda x: tf.strings.length(x)))\n",
        "\n",
        "def preprocess(x):\n",
        "  multi_hot_terms = text_vectorizer(x)\n",
        "  normalized_length = normalizer(tf.strings.length(x))\n",
        "  # Combine the multi-hot encoding with review length.\n",
        "  return layers.concatenate((multi_hot_terms, normalized_length))"
      ]
    },
    {
      "cell_type": "code",
      "execution_count": 28,
      "metadata": {},
      "outputs": [
        {
          "name": "stdout",
          "output_type": "stream",
          "text": [
            "Epoch 1/5\n",
            "30/30 [==============================] - 3s 70ms/step - loss: 0.6334 - val_loss: 0.5882\n",
            "Epoch 2/5\n",
            "30/30 [==============================] - 3s 96ms/step - loss: 0.5514 - val_loss: 0.5281\n",
            "Epoch 3/5\n",
            "30/30 [==============================] - 3s 104ms/step - loss: 0.4983 - val_loss: 0.4869\n",
            "Epoch 4/5\n",
            "30/30 [==============================] - 3s 92ms/step - loss: 0.4586 - val_loss: 0.4544\n",
            "Epoch 5/5\n",
            "30/30 [==============================] - 2s 78ms/step - loss: 0.4273 - val_loss: 0.4288\n"
          ]
        }
      ],
      "source": [
        "inputs = tf.keras.Input(shape=(1,), dtype='string')\n",
        "outputs = layers.Dense(1)(preprocess(inputs))\n",
        "model = tf.keras.Model(inputs, outputs)\n",
        "model.compile(loss=tf.keras.losses.BinaryCrossentropy(from_logits=True))\n",
        "\n",
        "epochs = 5\n",
        "callback = keras.callbacks.EarlyStopping(monitor='val_loss', patience=3)\n",
        "\n",
        "history = model.fit(\n",
        "    train_ds.shuffle(buffer_size=10000).batch(512),\n",
        "    epochs=epochs,\n",
        "    validation_data=val_ds.batch(512),\n",
        "    callbacks=[callback],\n",
        "    verbose=1)"
      ]
    },
    {
      "cell_type": "markdown",
      "metadata": {},
      "source": [
        "- Above, we create the normalization layer and adapt it to our input. \n",
        "- Within the preprocess function, we simply concatenate our multi-hot encoding and length features together. \n",
        "- We learn a model over the union of the two feature representations."
      ]
    }
  ],
  "metadata": {
    "colab": {
      "collapsed_sections": [],
      "name": "chapter08_intro-to-dl-for-computer-vision.i",
      "provenance": [],
      "toc_visible": true
    },
    "kernelspec": {
      "display_name": "Python 3",
      "language": "python",
      "name": "python3"
    },
    "language_info": {
      "codemirror_mode": {
        "name": "ipython",
        "version": 3
      },
      "file_extension": ".py",
      "mimetype": "text/x-python",
      "name": "python",
      "nbconvert_exporter": "python",
      "pygments_lexer": "ipython3",
      "version": "3.8.12"
    }
  },
  "nbformat": 4,
  "nbformat_minor": 0
}
