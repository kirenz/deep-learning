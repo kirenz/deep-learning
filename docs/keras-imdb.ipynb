{
  "cells": [
    {
      "cell_type": "markdown",
      "metadata": {},
      "source": [
        "# IMDB Sentiment analysis"
      ]
    },
    {
      "cell_type": "markdown",
      "metadata": {
        "id": "8fLCc3qLlC2u"
      },
      "source": [
        "*This tutorial is based on [An Introduction to Keras Preprocessing Layers](https://blog.tensorflow.org/2021/11/an-introduction-to-keras-preprocessing.html) by Matthew Watson, [Text classification with TensorFlow Hub: Movie reviews](https://www.tensorflow.org/tutorials/keras/text_classification_with_hub) and [Basic text classification](https://www.tensorflow.org/tutorials/keras/text_classification) by TensorFlow.*\n",
        " \n",
        "- Goal: build a binary sentiment classification model with keras preprocessing\n",
        "- Data: imdb movie review dataset. "
      ]
    },
    {
      "cell_type": "markdown",
      "metadata": {},
      "source": []
    },
    {
      "cell_type": "markdown",
      "metadata": {},
      "source": [
        "## Setup"
      ]
    },
    {
      "cell_type": "code",
      "execution_count": 30,
      "metadata": {},
      "outputs": [
        {
          "name": "stdout",
          "output_type": "stream",
          "text": [
            "Version:  2.7.1\n"
          ]
        }
      ],
      "source": [
        "import tensorflow as tf\n",
        "from tensorflow import keras\n",
        "import tensorflow_datasets as tfds\n",
        "from tensorflow.keras import layers\n",
        "from tensorflow.keras import losses\n",
        "from keras.models import load_model\n",
        "\n",
        "import matplotlib.pyplot as plt\n",
        "\n",
        "print(\"Version: \", tf.__version__)"
      ]
    },
    {
      "cell_type": "markdown",
      "metadata": {
        "id": "oS6pA1XUlC2x"
      },
      "source": [
        "## Data"
      ]
    },
    {
      "cell_type": "markdown",
      "metadata": {},
      "source": [
        "- Dataset with 50,000 polar movie reviews (positive or negative)\n",
        "- Training data and test data each 25,000 \n",
        "- Training and testing sets are balanced (contain an equal number of positive and negative reviews)\n",
        "- The input data consists of sentences (strings)\n",
        "- The labels to predict are either 0 or 1."
      ]
    },
    {
      "cell_type": "markdown",
      "metadata": {},
      "source": [
        "### Data import"
      ]
    },
    {
      "cell_type": "markdown",
      "metadata": {},
      "source": [
        "- Import data as batches with size 32\n",
        "- We use 3 data splits: training, validation and test data\n",
        "- Split the data into 60% training and 40% test\n",
        "- Split training into 60% training and 40% validation\n",
        "- Resulting data split:\n",
        "  - 15,000 examples for training, \n",
        "  - 10,000 examples for validation\n",
        "  - 25,000 examples for testing."
      ]
    },
    {
      "cell_type": "code",
      "execution_count": 2,
      "metadata": {},
      "outputs": [
        {
          "name": "stderr",
          "output_type": "stream",
          "text": [
            "2022-04-07 14:50:32.143792: I tensorflow/core/platform/cpu_feature_guard.cc:151] This TensorFlow binary is optimized with oneAPI Deep Neural Network Library (oneDNN) to use the following CPU instructions in performance-critical operations:  AVX2 FMA\n",
            "To enable them in other operations, rebuild TensorFlow with the appropriate compiler flags.\n"
          ]
        }
      ],
      "source": [
        "train_ds, val_ds, test_ds = tfds.load(\n",
        "    name=\"imdb_reviews\", \n",
        "    split=('train[:60%]', 'train[60%:]', 'test'),\n",
        "    as_supervised=True)"
      ]
    },
    {
      "cell_type": "code",
      "execution_count": 3,
      "metadata": {},
      "outputs": [],
      "source": [
        "#import tensorflow as tf\n",
        "#import tensorflow_datasets as tfds\n",
        "\n",
        "#train_ds = tfds.load('imdb_reviews', split='train', as_supervised=True).batch(32)"
      ]
    },
    {
      "cell_type": "markdown",
      "metadata": {},
      "source": [
        "## Explore data"
      ]
    },
    {
      "cell_type": "markdown",
      "metadata": {},
      "source": [
        "- Each example is a sentence representing the movie review and a corresponding label. \n",
        "- The sentence is not preprocessed in any way. \n",
        "- The label is an integer value of either 0 or 1\n",
        "  - 0 is a negative review\n",
        "  - 1 is a positive review.\n",
        "- Let's print first 2 examples."
      ]
    },
    {
      "cell_type": "code",
      "execution_count": 4,
      "metadata": {},
      "outputs": [
        {
          "name": "stdout",
          "output_type": "stream",
          "text": [
            "Input: tf.Tensor(b\"This was an absolutely terrible movie. Don't be lured in by Christopher Walken or Michael Ironside. Both are great actors, but this must simply be their worst role in history. Even their great acting could not redeem this movie's ridiculous storyline. This movie is an early nineties US propaganda piece. The most pathetic scenes were those when the Columbian rebels were making their cases for revolutions. Maria Conchita Alonso appeared phony, and her pseudo-love affair with Walken was nothing but a pathetic emotional plug in a movie that was devoid of any real meaning. I am disappointed that there are movies like this, ruining actor's like Christopher Walken's good name. I could barely sit through it.\", shape=(), dtype=string)\n",
            "..................................................\n",
            "Target: tf.Tensor(0, shape=(), dtype=int64)\n",
            "--------------------------------------------------\n",
            "Input: tf.Tensor(b'I have been known to fall asleep during films, but this is usually due to a combination of things including, really tired, being warm and comfortable on the sette and having just eaten a lot. However on this occasion I fell asleep because the film was rubbish. The plot development was constant. Constantly slow and boring. Things seemed to happen, but with no explanation of what was causing them or why. I admit, I may have missed part of the film, but i watched the majority of it and everything just seemed to happen of its own accord without any real concern for anything else. I cant recommend this film at all.', shape=(), dtype=string)\n",
            "..................................................\n",
            "Target: tf.Tensor(0, shape=(), dtype=int64)\n",
            "--------------------------------------------------\n"
          ]
        },
        {
          "name": "stderr",
          "output_type": "stream",
          "text": [
            "2022-04-07 14:50:32.341363: W tensorflow/core/kernels/data/cache_dataset_ops.cc:768] The calling iterator did not fully read the dataset being cached. In order to avoid unexpected truncation of the dataset, the partially cached contents of the dataset  will be discarded. This can happen if you have an input pipeline similar to `dataset.cache().take(k).repeat()`. You should use `dataset.take(k).cache().repeat()` instead.\n"
          ]
        }
      ],
      "source": [
        "for x, y in train_ds.take(2): \n",
        "    print(\"Input:\", x) \n",
        "    print(50*\".\")     \n",
        "    print(\"Target:\", y) \n",
        "    print(50*\"-\")  "
      ]
    },
    {
      "cell_type": "markdown",
      "metadata": {},
      "source": [
        "## Data preprocessing"
      ]
    },
    {
      "cell_type": "markdown",
      "metadata": {},
      "source": [
        "- How to represent the text?"
      ]
    },
    {
      "cell_type": "markdown",
      "metadata": {},
      "source": [
        "- Option 1: One-hot encoding \n",
        "  - Example: a color feature gets a 1 in a specific index for different colors ('red' = [0, 0, 1, 0, 0])"
      ]
    },
    {
      "cell_type": "markdown",
      "metadata": {},
      "source": [
        " - Option 2: embed the feature \n",
        "   - Example: each color maps to a unique trainable vector ('red' = [0.1, 0.2, 0.5, -0.2]"
      ]
    },
    {
      "cell_type": "markdown",
      "metadata": {},
      "source": [
        "- Larger category spaces: might do better with an embedding\n",
        "- Smaller spaces: one-hot encoding"
      ]
    },
    {
      "cell_type": "markdown",
      "metadata": {},
      "source": [
        "### TextVectorization"
      ]
    },
    {
      "cell_type": "markdown",
      "metadata": {},
      "source": [
        "- We will be working with raw text (natural language inputs)\n",
        "- so we will use the [`TextVectorization`](https://www.tensorflow.org/api_docs/python/tf/keras/layers/TextVectorization) layer.\n",
        "- It transforms a batch of strings (one example = one string) into either a\n",
        "  - list of token indices (one example = 1D tensor of integer token indices) or \n",
        "  - dense representation (one example = 1D tensor of float values representing data about the example's tokens). "
      ]
    },
    {
      "cell_type": "markdown",
      "metadata": {},
      "source": [
        "- [`TextVectorization`](https://www.tensorflow.org/api_docs/python/tf/keras/layers/TextVectorization) steps:\n",
        "\n",
        "1. Standardize each example (usually lowercasing + punctuation stripping)\n",
        "1. Split each example into substrings (usually words)\n",
        "1. Recombine substrings into tokens (usually ngrams)\n",
        "1. Index tokens (associate a unique int value with each token)\n",
        "1. Transform each example using this index, either into a vector of ints or a dense float vector."
      ]
    },
    {
      "cell_type": "markdown",
      "metadata": {},
      "source": [
        "#### Multi-hot encoding"
      ]
    },
    {
      "cell_type": "markdown",
      "metadata": {},
      "source": [
        "- Multi-hot encoding: only consider the presence or absence of terms in the review.\n",
        "\n",
        "- For example: \n",
        "    - layer vocabulary is ['movie', 'good', 'bad']\n",
        "    - a review read 'This movie was bad.'\n",
        "    - We would encode this as [1, 0, 1]\n",
        "    - where movie (the first vocab term) and bad (the last vocab term) are present."
      ]
    },
    {
      "cell_type": "markdown",
      "metadata": {},
      "source": [
        "1. Create a `TextVectorization` layer with multi-hot output and a max of 2500 tokens\n",
        "1. Map over our training dataset and discard the integer label indicating a positive or negative review (this gives us a dataset containing only the review text) \n",
        "1. `adapt()` the layer over this dataset, which causes the layer to learn a vocabulary of the most frequent terms in all documents, capped at a max of 2500."
      ]
    },
    {
      "cell_type": "code",
      "execution_count": 5,
      "metadata": {},
      "outputs": [],
      "source": [
        "text_vectorizer = layers.TextVectorization(\n",
        "     output_mode='multi_hot', \n",
        "     max_tokens=2500\n",
        "     )\n",
        "\n",
        "features = train_ds.map(lambda x, y: x)\n",
        "\n",
        "text_vectorizer.adapt(features)"
      ]
    },
    {
      "cell_type": "markdown",
      "metadata": {},
      "source": [
        "- `Adapt` is a utility function on all stateful preprocessing layers, which allows layers to set their internal state from input data. \n",
        "\n",
        "- Calling adapt is always optional. \n",
        "- For TextVectorization, we could instead supply a precomputed vocabulary on layer construction, and skip the adapt step."
      ]
    },
    {
      "cell_type": "markdown",
      "metadata": {},
      "source": [
        "- We will define two functions: \n",
        "\n",
        "1. `preprocess`, which converts raw input data to the representation we want for our model, and \n",
        "1. `forward_pass`, which applies the trainable layers."
      ]
    },
    {
      "cell_type": "code",
      "execution_count": 6,
      "metadata": {},
      "outputs": [],
      "source": [
        "def preprocess(x):\n",
        "  return text_vectorizer(x)\n"
      ]
    },
    {
      "cell_type": "markdown",
      "metadata": {},
      "source": [
        "## Model"
      ]
    },
    {
      "cell_type": "markdown",
      "metadata": {},
      "source": [
        "### Architecture"
      ]
    },
    {
      "cell_type": "markdown",
      "metadata": {},
      "source": [
        "- We can now train a simple linear model on top of this multi-hot encoding. \n"
      ]
    },
    {
      "cell_type": "code",
      "execution_count": 7,
      "metadata": {},
      "outputs": [],
      "source": [
        "inputs = keras.Input(shape=(1,), dtype='string')\n",
        "\n",
        "outputs = layers.Dense(1)(preprocess(inputs))\n",
        "\n",
        "model = keras.Model(inputs, outputs)\n"
      ]
    },
    {
      "cell_type": "markdown",
      "metadata": {},
      "source": [
        "### Compile"
      ]
    },
    {
      "cell_type": "code",
      "execution_count": 8,
      "metadata": {},
      "outputs": [],
      "source": [
        "model.compile(\n",
        "    optimizer='adam',\n",
        "    loss=losses.BinaryCrossentropy(from_logits=True),\n",
        "    metrics=['accuracy']\n",
        "    )"
      ]
    },
    {
      "cell_type": "markdown",
      "metadata": {},
      "source": [
        "- Show model summary"
      ]
    },
    {
      "cell_type": "code",
      "execution_count": 9,
      "metadata": {},
      "outputs": [
        {
          "name": "stdout",
          "output_type": "stream",
          "text": [
            "Model: \"model\"\n",
            "_________________________________________________________________\n",
            " Layer (type)                Output Shape              Param #   \n",
            "=================================================================\n",
            " input_1 (InputLayer)        [(None, 1)]               0         \n",
            "                                                                 \n",
            " text_vectorization (TextVec  (None, 2500)             0         \n",
            " torization)                                                     \n",
            "                                                                 \n",
            " dense (Dense)               (None, 1)                 2501      \n",
            "                                                                 \n",
            "=================================================================\n",
            "Total params: 2,501\n",
            "Trainable params: 2,501\n",
            "Non-trainable params: 0\n",
            "_________________________________________________________________\n"
          ]
        }
      ],
      "source": [
        "model.summary()"
      ]
    },
    {
      "cell_type": "markdown",
      "metadata": {},
      "source": [
        "- Let’s visualize the topology of the model"
      ]
    },
    {
      "cell_type": "code",
      "execution_count": 10,
      "metadata": {},
      "outputs": [
        {
          "data": {
            "image/png": "[encoded data removed]",
            "text/plain": [
              "<IPython.core.display.Image object>"
            ]
          },
          "execution_count": 10,
          "metadata": {},
          "output_type": "execute_result"
        }
      ],
      "source": [
        "keras.utils.plot_model(model, \"sentiment_classifier.png\")"
      ]
    },
    {
      "cell_type": "code",
      "execution_count": 11,
      "metadata": {},
      "outputs": [
        {
          "data": {
            "image/png": "[encoded data removed]",
            "text/plain": [
              "<IPython.core.display.Image object>"
            ]
          },
          "execution_count": 11,
          "metadata": {},
          "output_type": "execute_result"
        }
      ],
      "source": [
        "keras.utils.plot_model(model, \"sentiment_classifier_with_shape_info.png\", show_shapes=True)"
      ]
    },
    {
      "cell_type": "markdown",
      "metadata": {},
      "source": [
        "### Training"
      ]
    },
    {
      "cell_type": "markdown",
      "metadata": {},
      "source": [
        "- Train the model for 10 epochs in mini-batches of 512 samples\n",
        "- This is 10 iterations over all samples in the x-train and y-train tensors \n",
        "- We shuffle the data and use a buffer_size of 10000 to fill our batches\n",
        "- While training, monitor the model's loss and accuracy on the 10,000 samples from the validation set.\n",
        "- To prevent overfitting, we use a callback wich will stop the training when there is no improvement in the accuracy for three consecutive epochs."
      ]
    },
    {
      "cell_type": "markdown",
      "metadata": {},
      "source": [
        "\n",
        "*`buffer_size` is the number of items in the shuffle buffer. The function fills the buffer and then randomly samples from it. A big enough buffer is needed for proper shuffling, but it's a balance with memory consumption. Reshuffling happens automatically at every epoch*"
      ]
    },
    {
      "cell_type": "code",
      "execution_count": 12,
      "metadata": {},
      "outputs": [
        {
          "name": "stdout",
          "output_type": "stream",
          "text": [
            "Epoch 1/50\n",
            "30/30 [==============================] - 2s 40ms/step - loss: 0.6589 - accuracy: 0.5234 - val_loss: 0.6106 - val_accuracy: 0.5758\n",
            "Epoch 2/50\n",
            "30/30 [==============================] - 1s 32ms/step - loss: 0.5727 - accuracy: 0.6259 - val_loss: 0.5470 - val_accuracy: 0.6773\n",
            "Epoch 3/50\n",
            "30/30 [==============================] - 1s 32ms/step - loss: 0.5160 - accuracy: 0.7093 - val_loss: 0.5030 - val_accuracy: 0.7235\n",
            "Epoch 4/50\n",
            "30/30 [==============================] - 1s 32ms/step - loss: 0.4756 - accuracy: 0.7542 - val_loss: 0.4716 - val_accuracy: 0.7543\n",
            "Epoch 5/50\n",
            "30/30 [==============================] - 1s 32ms/step - loss: 0.4450 - accuracy: 0.7909 - val_loss: 0.4474 - val_accuracy: 0.7848\n",
            "Epoch 6/50\n",
            "30/30 [==============================] - 1s 32ms/step - loss: 0.4211 - accuracy: 0.8098 - val_loss: 0.4283 - val_accuracy: 0.8008\n",
            "Epoch 7/50\n",
            "30/30 [==============================] - 1s 32ms/step - loss: 0.4015 - accuracy: 0.8239 - val_loss: 0.4129 - val_accuracy: 0.8060\n",
            "Epoch 8/50\n",
            "30/30 [==============================] - 1s 32ms/step - loss: 0.3852 - accuracy: 0.8357 - val_loss: 0.4001 - val_accuracy: 0.8200\n",
            "Epoch 9/50\n",
            "30/30 [==============================] - 1s 32ms/step - loss: 0.3712 - accuracy: 0.8445 - val_loss: 0.3895 - val_accuracy: 0.8219\n",
            "Epoch 10/50\n",
            "30/30 [==============================] - 1s 32ms/step - loss: 0.3593 - accuracy: 0.8522 - val_loss: 0.3810 - val_accuracy: 0.8221\n",
            "Epoch 11/50\n",
            "30/30 [==============================] - 1s 34ms/step - loss: 0.3490 - accuracy: 0.8529 - val_loss: 0.3729 - val_accuracy: 0.8366\n",
            "Epoch 12/50\n",
            "30/30 [==============================] - 1s 32ms/step - loss: 0.3397 - accuracy: 0.8590 - val_loss: 0.3661 - val_accuracy: 0.8328\n",
            "Epoch 13/50\n",
            "30/30 [==============================] - 1s 32ms/step - loss: 0.3316 - accuracy: 0.8643 - val_loss: 0.3600 - val_accuracy: 0.8403\n",
            "Epoch 14/50\n",
            "30/30 [==============================] - 1s 33ms/step - loss: 0.3241 - accuracy: 0.8684 - val_loss: 0.3550 - val_accuracy: 0.8431\n",
            "Epoch 15/50\n",
            "30/30 [==============================] - 1s 32ms/step - loss: 0.3175 - accuracy: 0.8710 - val_loss: 0.3505 - val_accuracy: 0.8458\n",
            "Epoch 16/50\n",
            "30/30 [==============================] - 1s 33ms/step - loss: 0.3114 - accuracy: 0.8743 - val_loss: 0.3464 - val_accuracy: 0.8477\n",
            "Epoch 17/50\n",
            "30/30 [==============================] - 1s 33ms/step - loss: 0.3061 - accuracy: 0.8766 - val_loss: 0.3429 - val_accuracy: 0.8498\n",
            "Epoch 18/50\n",
            "30/30 [==============================] - 1s 33ms/step - loss: 0.3008 - accuracy: 0.8803 - val_loss: 0.3397 - val_accuracy: 0.8513\n",
            "Epoch 19/50\n",
            "30/30 [==============================] - 1s 32ms/step - loss: 0.2962 - accuracy: 0.8807 - val_loss: 0.3368 - val_accuracy: 0.8506\n",
            "Epoch 20/50\n",
            "30/30 [==============================] - 1s 32ms/step - loss: 0.2920 - accuracy: 0.8825 - val_loss: 0.3349 - val_accuracy: 0.8469\n",
            "Epoch 21/50\n",
            "30/30 [==============================] - 1s 32ms/step - loss: 0.2880 - accuracy: 0.8849 - val_loss: 0.3319 - val_accuracy: 0.8522\n",
            "Epoch 22/50\n",
            "30/30 [==============================] - 1s 32ms/step - loss: 0.2837 - accuracy: 0.8864 - val_loss: 0.3297 - val_accuracy: 0.8539\n",
            "Epoch 23/50\n",
            "30/30 [==============================] - 1s 32ms/step - loss: 0.2801 - accuracy: 0.8882 - val_loss: 0.3278 - val_accuracy: 0.8558\n",
            "Epoch 24/50\n",
            "30/30 [==============================] - 1s 32ms/step - loss: 0.2767 - accuracy: 0.8900 - val_loss: 0.3259 - val_accuracy: 0.8551\n",
            "Epoch 25/50\n",
            "30/30 [==============================] - 1s 32ms/step - loss: 0.2737 - accuracy: 0.8907 - val_loss: 0.3244 - val_accuracy: 0.8568\n",
            "Epoch 26/50\n",
            "30/30 [==============================] - 1s 33ms/step - loss: 0.2706 - accuracy: 0.8937 - val_loss: 0.3230 - val_accuracy: 0.8547\n",
            "Epoch 27/50\n",
            "30/30 [==============================] - 1s 32ms/step - loss: 0.2677 - accuracy: 0.8933 - val_loss: 0.3218 - val_accuracy: 0.8583\n",
            "Epoch 28/50\n",
            "30/30 [==============================] - 1s 32ms/step - loss: 0.2650 - accuracy: 0.8953 - val_loss: 0.3205 - val_accuracy: 0.8558\n",
            "Epoch 29/50\n",
            "30/30 [==============================] - 1s 33ms/step - loss: 0.2624 - accuracy: 0.8953 - val_loss: 0.3195 - val_accuracy: 0.8592\n",
            "Epoch 30/50\n",
            "30/30 [==============================] - 1s 32ms/step - loss: 0.2599 - accuracy: 0.8967 - val_loss: 0.3183 - val_accuracy: 0.8567\n",
            "Epoch 31/50\n",
            "30/30 [==============================] - 1s 32ms/step - loss: 0.2577 - accuracy: 0.8979 - val_loss: 0.3175 - val_accuracy: 0.8576\n",
            "Epoch 32/50\n",
            "30/30 [==============================] - 1s 32ms/step - loss: 0.2556 - accuracy: 0.8995 - val_loss: 0.3168 - val_accuracy: 0.8564\n",
            "Epoch 33/50\n",
            "30/30 [==============================] - 1s 33ms/step - loss: 0.2534 - accuracy: 0.8993 - val_loss: 0.3161 - val_accuracy: 0.8614\n",
            "Epoch 34/50\n",
            "30/30 [==============================] - 1s 34ms/step - loss: 0.2513 - accuracy: 0.9005 - val_loss: 0.3154 - val_accuracy: 0.8604\n",
            "Epoch 35/50\n",
            "30/30 [==============================] - 1s 32ms/step - loss: 0.2493 - accuracy: 0.9023 - val_loss: 0.3147 - val_accuracy: 0.8586\n",
            "Epoch 36/50\n",
            "30/30 [==============================] - 1s 32ms/step - loss: 0.2474 - accuracy: 0.9013 - val_loss: 0.3142 - val_accuracy: 0.8592\n",
            "Epoch 37/50\n",
            "30/30 [==============================] - 1s 33ms/step - loss: 0.2456 - accuracy: 0.9041 - val_loss: 0.3138 - val_accuracy: 0.8581\n",
            "Epoch 38/50\n",
            "30/30 [==============================] - 1s 32ms/step - loss: 0.2439 - accuracy: 0.9037 - val_loss: 0.3134 - val_accuracy: 0.8613\n",
            "Epoch 39/50\n",
            "30/30 [==============================] - 1s 33ms/step - loss: 0.2422 - accuracy: 0.9049 - val_loss: 0.3130 - val_accuracy: 0.8619\n",
            "Epoch 40/50\n",
            "30/30 [==============================] - 1s 33ms/step - loss: 0.2406 - accuracy: 0.9059 - val_loss: 0.3127 - val_accuracy: 0.8619\n",
            "Epoch 41/50\n",
            "30/30 [==============================] - 1s 32ms/step - loss: 0.2391 - accuracy: 0.9073 - val_loss: 0.3124 - val_accuracy: 0.8586\n",
            "Epoch 42/50\n",
            "30/30 [==============================] - 1s 32ms/step - loss: 0.2377 - accuracy: 0.9067 - val_loss: 0.3121 - val_accuracy: 0.8609\n",
            "Epoch 43/50\n",
            "30/30 [==============================] - 1s 32ms/step - loss: 0.2362 - accuracy: 0.9079 - val_loss: 0.3119 - val_accuracy: 0.8597\n",
            "Epoch 44/50\n",
            "30/30 [==============================] - 1s 32ms/step - loss: 0.2348 - accuracy: 0.9063 - val_loss: 0.3119 - val_accuracy: 0.8637\n",
            "Epoch 45/50\n",
            "30/30 [==============================] - 1s 32ms/step - loss: 0.2333 - accuracy: 0.9096 - val_loss: 0.3116 - val_accuracy: 0.8600\n",
            "Epoch 46/50\n",
            "30/30 [==============================] - 1s 32ms/step - loss: 0.2323 - accuracy: 0.9094 - val_loss: 0.3115 - val_accuracy: 0.8609\n",
            "Epoch 47/50\n",
            "30/30 [==============================] - 1s 32ms/step - loss: 0.2308 - accuracy: 0.9099 - val_loss: 0.3115 - val_accuracy: 0.8625\n",
            "Epoch 48/50\n",
            "30/30 [==============================] - 1s 32ms/step - loss: 0.2295 - accuracy: 0.9097 - val_loss: 0.3115 - val_accuracy: 0.8630\n",
            "Epoch 49/50\n",
            "30/30 [==============================] - 1s 33ms/step - loss: 0.2286 - accuracy: 0.9104 - val_loss: 0.3114 - val_accuracy: 0.8614\n",
            "Epoch 50/50\n",
            "30/30 [==============================] - 1s 33ms/step - loss: 0.2276 - accuracy: 0.9109 - val_loss: 0.3113 - val_accuracy: 0.8603\n"
          ]
        }
      ],
      "source": [
        "epochs = 50\n",
        "callback = keras.callbacks.EarlyStopping(monitor='val_loss', patience=3)\n",
        "\n",
        "\n",
        "history = model.fit(\n",
        "    train_ds.shuffle(buffer_size=10000).batch(512),\n",
        "    epochs=epochs,\n",
        "    validation_data=val_ds.batch(512),\n",
        "    callbacks=[callback],\n",
        "    verbose=1)"
      ]
    },
    {
      "cell_type": "markdown",
      "metadata": {},
      "source": [
        "Show number of epochs:"
      ]
    },
    {
      "cell_type": "code",
      "execution_count": 13,
      "metadata": {},
      "outputs": [
        {
          "data": {
            "text/plain": [
              "50"
            ]
          },
          "execution_count": 13,
          "metadata": {},
          "output_type": "execute_result"
        }
      ],
      "source": [
        "len(history.history['loss']) "
      ]
    },
    {
      "cell_type": "markdown",
      "metadata": {},
      "source": [
        "## Evaluation"
      ]
    },
    {
      "cell_type": "markdown",
      "metadata": {},
      "source": [
        "- Show loss and accuracy for test data"
      ]
    },
    {
      "cell_type": "code",
      "execution_count": 14,
      "metadata": {},
      "outputs": [
        {
          "name": "stdout",
          "output_type": "stream",
          "text": [
            "49/49 - 1s - loss: 0.3132 - accuracy: 0.8583 - 977ms/epoch - 20ms/step\n",
            "loss: 0.313\n",
            "accuracy: 0.858\n"
          ]
        }
      ],
      "source": [
        "results = model.evaluate(test_ds.batch(512), verbose=2)\n",
        "\n",
        "for name, value in zip(model.metrics_names, results):\n",
        "  print(\"%s: %.3f\" % (name, value))"
      ]
    },
    {
      "cell_type": "markdown",
      "metadata": {},
      "source": [
        "- Create a plot of accuracy and loss over time\n",
        "- `model.fit()` returns a history object that contains a dictionary with everything that happened during training."
      ]
    },
    {
      "cell_type": "code",
      "execution_count": 15,
      "metadata": {},
      "outputs": [
        {
          "data": {
            "text/plain": [
              "dict_keys(['loss', 'accuracy', 'val_loss', 'val_accuracy'])"
            ]
          },
          "execution_count": 15,
          "metadata": {},
          "output_type": "execute_result"
        }
      ],
      "source": [
        "history_dict = history.history\n",
        "history_dict.keys()"
      ]
    },
    {
      "cell_type": "markdown",
      "metadata": {},
      "source": [
        "- There are four entries: one for each monitored metric during training and validation. \n",
        "- You can use these to plot the training and validation loss for comparison, as well as the training and validation accuracy:"
      ]
    },
    {
      "cell_type": "code",
      "execution_count": 16,
      "metadata": {},
      "outputs": [
        {
          "data": {
            "image/png": "[encoded data removed]",
            "text/plain": [
              "<Figure size 432x288 with 1 Axes>"
            ]
          },
          "metadata": {
            "needs_background": "light"
          },
          "output_type": "display_data"
        }
      ],
      "source": [
        "acc = history_dict['accuracy']\n",
        "val_acc = history_dict['val_accuracy']\n",
        "loss = history_dict['loss']\n",
        "val_loss = history_dict['val_loss']\n",
        "\n",
        "epochs = range(1, len(acc) + 1)\n",
        "\n",
        "# \"bo\" is for \"blue dot\"\n",
        "plt.plot(epochs, loss, 'bo', label='Training loss')\n",
        "# r is for \"solid red line\"\n",
        "plt.plot(epochs, val_loss, 'r', label='Validation loss')\n",
        "plt.title('Training and validation loss')\n",
        "plt.xlabel('Epochs')\n",
        "plt.ylabel('Loss')\n",
        "plt.legend()\n",
        "\n",
        "plt.show()"
      ]
    },
    {
      "cell_type": "code",
      "execution_count": 17,
      "metadata": {},
      "outputs": [
        {
          "data": {
            "image/png": "[encoded data removed]",
            "text/plain": [
              "<Figure size 432x288 with 1 Axes>"
            ]
          },
          "metadata": {
            "needs_background": "light"
          },
          "output_type": "display_data"
        }
      ],
      "source": [
        "plt.plot(epochs, acc, 'bo', label='Training acc')\n",
        "plt.plot(epochs, val_acc, 'r', label='Validation acc')\n",
        "plt.title('Training and validation accuracy')\n",
        "plt.xlabel('Epochs')\n",
        "plt.ylabel('Accuracy')\n",
        "plt.legend(loc='lower right')\n",
        "\n",
        "plt.show()"
      ]
    },
    {
      "cell_type": "markdown",
      "metadata": {},
      "source": [
        "- Blue dots represent the training loss and accuracy\n",
        "- Solid red lines are the validation loss and accuracy."
      ]
    },
    {
      "cell_type": "markdown",
      "metadata": {},
      "source": [
        "- Training loss decreases with each epoch \n",
        "- Training accuracy increases with each epoch. \n",
        "- This is expected when using a gradient descent optimization\n",
        "- It should minimize the desired quantity on every iteration."
      ]
    },
    {
      "cell_type": "markdown",
      "metadata": {},
      "source": [
        "## Inference on new data"
      ]
    },
    {
      "cell_type": "markdown",
      "metadata": {},
      "source": [
        "- Create new example data"
      ]
    },
    {
      "cell_type": "code",
      "execution_count": null,
      "metadata": {},
      "outputs": [],
      "source": [
        "examples = [\n",
        "  \"The movie was great!\",\n",
        "  \"The movie was okay.\",\n",
        "  \"The movie was terrible...\"\n",
        "]"
      ]
    },
    {
      "cell_type": "markdown",
      "metadata": {},
      "source": [
        "- Add a sigmoid activation layer to our model to obtain probabilities"
      ]
    },
    {
      "cell_type": "code",
      "execution_count": 24,
      "metadata": {},
      "outputs": [],
      "source": [
        "probability_model = keras.Sequential([\n",
        "                        model, \n",
        "                        layers.Activation('sigmoid')\n",
        "                        ])"
      ]
    },
    {
      "cell_type": "code",
      "execution_count": 26,
      "metadata": {},
      "outputs": [
        {
          "data": {
            "text/plain": [
              "array([[0.51862895],\n",
              "       [0.45517713],\n",
              "       [0.43157566]], dtype=float32)"
            ]
          },
          "execution_count": 26,
          "metadata": {},
          "output_type": "execute_result"
        }
      ],
      "source": [
        "probability_model.predict(examples)"
      ]
    },
    {
      "cell_type": "markdown",
      "metadata": {},
      "source": [
        "## Save model"
      ]
    },
    {
      "cell_type": "markdown",
      "metadata": {},
      "source": [
        "A Keras model consists of multiple components:\n",
        "\n",
        "1. The architecture, or configuration, which specifies what layers the model contain, and how they're connected.\n",
        "1. A set of weights values (the \"state of the model\").\n",
        "1. An optimizer (defined by compiling the model).\n",
        "1. A set of losses and metrics (defined by compiling the model or calling add_loss() or \n",
        "add_metric())."
      ]
    },
    {
      "cell_type": "markdown",
      "metadata": {},
      "source": [
        "\n",
        "The [Keras model saving API](https://keras.io/api/models/model_saving_apis/) makes it possible to save all of these pieces to disk at once, or to only selectively save some of them:\n",
        "\n",
        "- Saving everything into a single archive in the TensorFlow SavedModel format (or in the older Keras H5 format). This is the standard practice.\n",
        "- Saving the architecture / configuration only, typically as a JSON file.\n",
        "- Saving the weights values only. This is generally used when training the model."
      ]
    },
    {
      "cell_type": "markdown",
      "metadata": {},
      "source": [
        "- We will save the complete model as Tensorflow SavedModel"
      ]
    },
    {
      "cell_type": "code",
      "execution_count": 28,
      "metadata": {},
      "outputs": [
        {
          "name": "stdout",
          "output_type": "stream",
          "text": [
            "INFO:tensorflow:Assets written to: models/imdb_model/assets\n"
          ]
        },
        {
          "name": "stderr",
          "output_type": "stream",
          "text": [
            "INFO:tensorflow:Assets written to: models/imdb_model/assets\n"
          ]
        }
      ],
      "source": [
        "model.save('imdb_model')"
      ]
    },
    {
      "cell_type": "markdown",
      "metadata": {},
      "source": [
        "## Load model"
      ]
    },
    {
      "cell_type": "code",
      "execution_count": 31,
      "metadata": {},
      "outputs": [],
      "source": [
        "model_new = load_model('imdb_model')"
      ]
    },
    {
      "cell_type": "code",
      "execution_count": 32,
      "metadata": {},
      "outputs": [
        {
          "name": "stdout",
          "output_type": "stream",
          "text": [
            "Model: \"model_1\"\n",
            "__________________________________________________________________________________________________\n",
            " Layer (type)                   Output Shape         Param #     Connected to                     \n",
            "==================================================================================================\n",
            " input_2 (InputLayer)           [(None, 1)]          0           []                               \n",
            "                                                                                                  \n",
            " tf.strings.length (TFOpLambda)  (None, 1)           0           ['input_2[0][0]']                \n",
            "                                                                                                  \n",
            " text_vectorization (TextVector  (None, 2500)        0           ['input_2[0][0]']                \n",
            " ization)                                                                                         \n",
            "                                                                                                  \n",
            " normalization (Normalization)  (None, 1)            3           ['tf.strings.length[0][0]']      \n",
            "                                                                                                  \n",
            " concatenate (Concatenate)      (None, 2501)         0           ['text_vectorization[0][0]',     \n",
            "                                                                  'normalization[0][0]']          \n",
            "                                                                                                  \n",
            " dense_1 (Dense)                (None, 1)            2502        ['concatenate[0][0]']            \n",
            "                                                                                                  \n",
            "==================================================================================================\n",
            "Total params: 2,505\n",
            "Trainable params: 2,502\n",
            "Non-trainable params: 3\n",
            "__________________________________________________________________________________________________\n"
          ]
        }
      ],
      "source": [
        "model_new.summary()"
      ]
    },
    {
      "cell_type": "markdown",
      "metadata": {},
      "source": [
        "## Feature engineering example"
      ]
    },
    {
      "cell_type": "markdown",
      "metadata": {},
      "source": [
        "- The following code is an add on to demonstrate how to perform further feature engineering"
      ]
    },
    {
      "cell_type": "markdown",
      "metadata": {},
      "source": [
        "- Let’s experiment with a new feature \n",
        "- Our multi-hot encoding does not contain any notion of review length\n",
        "- We can try adding a feature for normalized string length. "
      ]
    },
    {
      "cell_type": "markdown",
      "metadata": {},
      "source": [
        "- Preprocessing layers can be mixed with TensorFlow ops and custom layers as desired. \n",
        "- Here we can combine the `tf.strings.length` function with the `Normalization` layer, which will scale the input to have 0 mean and 1 variance. \n",
        "- We have only updated code up to the preprocess function below, but we will show the rest of training for clarity."
      ]
    },
    {
      "cell_type": "code",
      "execution_count": 19,
      "metadata": {},
      "outputs": [],
      "source": [
        "# This layer will scale our review length feature to mean 0 variance 1.\n",
        "normalizer = layers.Normalization(axis=None)\n",
        "normalizer.adapt(features.map(lambda x: tf.strings.length(x)))\n",
        "\n",
        "def preprocess(x):\n",
        "  multi_hot_terms = text_vectorizer(x)\n",
        "  normalized_length = normalizer(tf.strings.length(x))\n",
        "  # Combine the multi-hot encoding with review length.\n",
        "  return layers.concatenate((multi_hot_terms, normalized_length))"
      ]
    },
    {
      "cell_type": "code",
      "execution_count": 20,
      "metadata": {},
      "outputs": [
        {
          "name": "stdout",
          "output_type": "stream",
          "text": [
            "Epoch 1/5\n",
            "30/30 [==============================] - 1s 37ms/step - loss: 0.6343 - val_loss: 0.5848\n",
            "Epoch 2/5\n",
            "30/30 [==============================] - 1s 34ms/step - loss: 0.5522 - val_loss: 0.5283\n",
            "Epoch 3/5\n",
            "30/30 [==============================] - 1s 34ms/step - loss: 0.4990 - val_loss: 0.4845\n",
            "Epoch 4/5\n",
            "30/30 [==============================] - 1s 34ms/step - loss: 0.4583 - val_loss: 0.4519\n",
            "Epoch 5/5\n",
            "30/30 [==============================] - 1s 34ms/step - loss: 0.4266 - val_loss: 0.4272\n"
          ]
        }
      ],
      "source": [
        "inputs = tf.keras.Input(shape=(1,), dtype='string')\n",
        "outputs = layers.Dense(1)(preprocess(inputs))\n",
        "model = tf.keras.Model(inputs, outputs)\n",
        "model.compile(loss=tf.keras.losses.BinaryCrossentropy(from_logits=True))\n",
        "\n",
        "epochs = 5\n",
        "callback = keras.callbacks.EarlyStopping(monitor='val_loss', patience=3)\n",
        "\n",
        "history = model.fit(\n",
        "    train_ds.shuffle(buffer_size=10000).batch(512),\n",
        "    epochs=epochs,\n",
        "    validation_data=val_ds.batch(512),\n",
        "    callbacks=[callback],\n",
        "    verbose=1)\n"
      ]
    },
    {
      "cell_type": "markdown",
      "metadata": {},
      "source": [
        "- Above, we create the normalization layer and adapt it to our input. \n",
        "- Within the preprocess function, we simply concatenate our multi-hot encoding and length features together. \n",
        "- We learn a model over the union of the two feature representations."
      ]
    }
  ],
  "metadata": {
    "colab": {
      "collapsed_sections": [],
      "name": "chapter08_intro-to-dl-for-computer-vision.i",
      "provenance": [],
      "toc_visible": true
    },
    "kernelspec": {
      "display_name": "Python 3",
      "language": "python",
      "name": "python3"
    },
    "language_info": {
      "codemirror_mode": {
        "name": "ipython",
        "version": 3
      },
      "file_extension": ".py",
      "mimetype": "text/x-python",
      "name": "python",
      "nbconvert_exporter": "python",
      "pygments_lexer": "ipython3",
      "version": "3.8.12"
    }
  },
  "nbformat": 4,
  "nbformat_minor": 0
}
